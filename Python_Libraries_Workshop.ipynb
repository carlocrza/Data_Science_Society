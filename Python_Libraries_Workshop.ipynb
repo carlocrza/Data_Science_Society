{
 "cells": [
  {
   "cell_type": "markdown",
   "metadata": {
    "colab_type": "text",
    "id": "QZDvTBLpe0gZ"
   },
   "source": [
    "# Python Libraries Interactive Notebook"
   ]
  },
  {
   "cell_type": "markdown",
   "metadata": {
    "colab_type": "text",
    "id": "P8BA_WzFe0ga"
   },
   "source": [
    "Today, we will be learning about four fundamental python libraries. These are widely used and plenty of documentation can be found online. Don't be afraid to search Google/Stack Overflow!\n",
    "1. Numpy: https://docs.scipy.org/doc/numpy-dev/user/index.html\n",
    "- Pandas: http://pandas.pydata.org/pandas-docs/stable/\n",
    "- Matplotlib: https://matplotlib.org/2.1.2/index.html\n",
    "- Seaborn: https://seaborn.pydata.org/"
   ]
  },
  {
   "cell_type": "markdown",
   "metadata": {
    "colab_type": "text",
    "id": "iBbk4cSN2fxY"
   },
   "source": [
    "# Table of Contents\n",
    "\n",
    "I. [Numpy](#1)<br>\n",
    "II. [Pandas](#2)<br>\n",
    "III. [Plot with Pandas](#2.5)<br>\n",
    "IV. [Matplotlib](#3)<br>\n",
    "V. [Seaborn](#4)"
   ]
  },
  {
   "cell_type": "markdown",
   "metadata": {
    "colab_type": "text",
    "id": "q2V2DMrre0gb"
   },
   "source": [
    "### Jupyter Notebook Recap"
   ]
  },
  {
   "cell_type": "markdown",
   "metadata": {
    "colab_type": "text",
    "id": "d4uBEZHte0gc"
   },
   "source": [
    "`To run a cell: select cell, press SHIFT + ENTER`\n",
    "\n",
    "The last line of a cell is always displayed"
   ]
  },
  {
   "cell_type": "code",
   "execution_count": 0,
   "metadata": {
    "colab": {
     "autoexec": {
      "startup": false,
      "wait_interval": 0
     }
    },
    "colab_type": "code",
    "collapsed": true,
    "id": "1huIpySee0gc"
   },
   "outputs": [],
   "source": [
    "\"this will NOT be displayed\"\n",
    "\"this will be displayed\""
   ]
  },
  {
   "cell_type": "markdown",
   "metadata": {
    "colab_type": "text",
    "id": "nCC86eVwimDX"
   },
   "source": [
    "If cells contain `...` we expect you to replace `...` with your code :)"
   ]
  },
  {
   "cell_type": "markdown",
   "metadata": {
    "colab_type": "text",
    "id": "4piuoUK8e0gm"
   },
   "source": [
    "## Import"
   ]
  },
  {
   "cell_type": "markdown",
   "metadata": {
    "colab_type": "text",
    "id": "9vL0-jC6e0gn"
   },
   "source": [
    "`numpy`, `pandas`, `matplotlib`, and `seaborn` are made by other people! We need to `import` these modules in order to use them."
   ]
  },
  {
   "cell_type": "code",
   "execution_count": 0,
   "metadata": {
    "colab": {
     "autoexec": {
      "startup": false,
      "wait_interval": 0
     }
    },
    "colab_type": "code",
    "collapsed": true,
    "id": "1ACtTUt6e0gn"
   },
   "outputs": [],
   "source": [
    "import numpy as np\n",
    "import matplotlib.pyplot as plt\n",
    "import pandas as pd\n",
    "import seaborn as sns\n",
    "# %matplotlib inline\n",
    "# sns.set()"
   ]
  },
  {
   "cell_type": "markdown",
   "metadata": {
    "colab_type": "text",
    "id": "N-QKcotGe0gs"
   },
   "source": [
    "# <font id=\"1\" color=\"blue\">Numpy</font>"
   ]
  },
  {
   "cell_type": "markdown",
   "metadata": {
    "colab_type": "text",
    "id": "334Iu_uZe0gt"
   },
   "source": [
    "<tr><td>\n",
    "<img src=\"http://rickizzo.com/images/posts/2017-12-19/numpy.jpeg\"/></td>\n",
    "\n",
    "<td style=\"text-align:left\">Numpy's main use is ```np.array```\n",
    "<br><br>\n",
    "Numpy arrays take less space than built-in lists and come with a **wide variety of useful functions.**</td></tr>"
   ]
  },
  {
   "cell_type": "code",
   "execution_count": 0,
   "metadata": {
    "colab": {
     "autoexec": {
      "startup": false,
      "wait_interval": 0
     }
    },
    "colab_type": "code",
    "collapsed": true,
    "id": "KqrCVzK0e0gu"
   },
   "outputs": [],
   "source": [
    "# make an array\n",
    "a = np.array([2,3,4])\n",
    "a"
   ]
  },
  {
   "cell_type": "code",
   "execution_count": 0,
   "metadata": {
    "colab": {
     "autoexec": {
      "startup": false,
      "wait_interval": 0
     }
    },
    "colab_type": "code",
    "collapsed": true,
    "id": "_OxDc_Qre0gz"
   },
   "outputs": [],
   "source": [
    "# make a 2-dimensional array (matrix)\n",
    "matrix = np.array([ [1,2,3],\n",
    "                    [4,5,6],\n",
    "                    [7,8,9] ])\n",
    "matrix"
   ]
  },
  {
   "cell_type": "markdown",
   "metadata": {
    "colab_type": "text",
    "id": "YUJd8sOfkbf7"
   },
   "source": [
    "Linear Algebra!"
   ]
  },
  {
   "cell_type": "code",
   "execution_count": 0,
   "metadata": {
    "colab": {
     "autoexec": {
      "startup": false,
      "wait_interval": 0
     }
    },
    "colab_type": "code",
    "collapsed": true,
    "id": "2cy7u0Ace0g4"
   },
   "outputs": [],
   "source": [
    "# you can multiply matrices with np.dot\n",
    "np.dot(matrix, a)"
   ]
  },
  {
   "cell_type": "markdown",
   "metadata": {
    "colab_type": "text",
    "id": "gD3NKRYAe0g-"
   },
   "source": [
    "### Arithmetic with numpy!"
   ]
  },
  {
   "cell_type": "markdown",
   "metadata": {
    "colab_type": "text",
    "id": "2Feq-FrUe0g_"
   },
   "source": [
    "**You can add/subtract/multiply/divide with numpy arrays!** You *cannot* do this with built-in python lists."
   ]
  },
  {
   "cell_type": "code",
   "execution_count": 0,
   "metadata": {
    "colab": {
     "autoexec": {
      "startup": false,
      "wait_interval": 0
     }
    },
    "colab_type": "code",
    "collapsed": true,
    "id": "bMJGzUr9e0hA"
   },
   "outputs": [],
   "source": [
    "a + 5"
   ]
  },
  {
   "cell_type": "code",
   "execution_count": 0,
   "metadata": {
    "colab": {
     "autoexec": {
      "startup": false,
      "wait_interval": 0
     }
    },
    "colab_type": "code",
    "collapsed": true,
    "id": "HuOA_Ib-e0hH"
   },
   "outputs": [],
   "source": [
    "a * -1"
   ]
  },
  {
   "cell_type": "code",
   "execution_count": 0,
   "metadata": {
    "colab": {
     "autoexec": {
      "startup": false,
      "wait_interval": 0
     }
    },
    "colab_type": "code",
    "collapsed": true,
    "id": "rbOu-7M9e0hO"
   },
   "outputs": [],
   "source": [
    "b = np.array([3, 2, 1])\n",
    "a + b"
   ]
  },
  {
   "cell_type": "markdown",
   "metadata": {
    "colab_type": "text",
    "id": "w8eEBhEwe0hS"
   },
   "source": [
    "If you try to perform operations on two arrays of different lengths, <span style=\"color:red\">an error will occur.</span> Try running the following cell!"
   ]
  },
  {
   "cell_type": "code",
   "execution_count": 0,
   "metadata": {
    "colab": {
     "autoexec": {
      "startup": false,
      "wait_interval": 0
     }
    },
    "colab_type": "code",
    "collapsed": true,
    "id": "c_p24Seae0hT"
   },
   "outputs": [],
   "source": [
    "# Run me!\n",
    "b + np.array([1, 2, 3, 4])"
   ]
  },
  {
   "cell_type": "markdown",
   "metadata": {
    "colab_type": "text",
    "id": "N3s3TJoDe0hZ"
   },
   "source": [
    "Use ```len( array )``` to find length of array."
   ]
  },
  {
   "cell_type": "code",
   "execution_count": 0,
   "metadata": {
    "colab": {
     "autoexec": {
      "startup": false,
      "wait_interval": 0
     }
    },
    "colab_type": "code",
    "collapsed": true,
    "id": "zzpowKgAe0hZ"
   },
   "outputs": [],
   "source": [
    "len(b)"
   ]
  },
  {
   "cell_type": "code",
   "execution_count": 0,
   "metadata": {
    "colab": {
     "autoexec": {
      "startup": false,
      "wait_interval": 0
     }
    },
    "colab_type": "code",
    "collapsed": true,
    "id": "fLnxxOIve0hd"
   },
   "outputs": [],
   "source": [
    "len(np.array([1, 2, 3, 4]))"
   ]
  },
  {
   "cell_type": "markdown",
   "metadata": {
    "colab_type": "text",
    "id": "CtFaFBkCAiH-"
   },
   "source": [
    "Conditionals apply to every element of a numpy array as well. This will come in handy later!"
   ]
  },
  {
   "cell_type": "code",
   "execution_count": 0,
   "metadata": {
    "colab": {
     "autoexec": {
      "startup": false,
      "wait_interval": 0
     }
    },
    "colab_type": "code",
    "collapsed": true,
    "id": "IY2xfJ7wAXgk"
   },
   "outputs": [],
   "source": [
    "a = np.array([1, 2, 3, 1, 1])\n",
    "a == 1"
   ]
  },
  {
   "cell_type": "markdown",
   "metadata": {
    "colab_type": "text",
    "id": "QdtcprtGe0hg"
   },
   "source": [
    "### Essential array functions"
   ]
  },
  {
   "cell_type": "markdown",
   "metadata": {
    "colab_type": "text",
    "id": "p2iSISdVh30G"
   },
   "source": [
    "Why do we use Numpy? **Numpy provides a multitude of useful functions for arrays.** We'll teach you a few (many more exist!)\n",
    "\n",
    "<font color=\"blue\">Exercise:</font> Search online how to find the mean of a numpy array."
   ]
  },
  {
   "cell_type": "code",
   "execution_count": 0,
   "metadata": {
    "colab": {
     "autoexec": {
      "startup": false,
      "wait_interval": 0
     }
    },
    "colab_type": "code",
    "collapsed": true,
    "id": "HLTiXnMo2fyQ"
   },
   "outputs": [],
   "source": [
    "x = np.array([1, 5, -7, 18, 1, -2, 4])"
   ]
  },
  {
   "cell_type": "code",
   "execution_count": 0,
   "metadata": {
    "colab": {
     "autoexec": {
      "startup": false,
      "wait_interval": 0
     }
    },
    "colab_type": "code",
    "collapsed": true,
    "id": "277l9mS2ifDK"
   },
   "outputs": [],
   "source": [
    "# Find the mean of array x\n",
    "x_mean = np.mean(...)"
   ]
  },
  {
   "cell_type": "markdown",
   "metadata": {
    "colab_type": "text",
    "id": "35Nd2SAzixdZ"
   },
   "source": [
    "Here, we'll give you a list of some useful numpy functions. Remember, you can easily find info about these by searching google / numpy documentation!"
   ]
  },
  {
   "cell_type": "code",
   "execution_count": 0,
   "metadata": {
    "colab": {
     "autoexec": {
      "startup": false,
      "wait_interval": 0
     }
    },
    "colab_type": "code",
    "collapsed": true,
    "id": "CNCJDiITe0hh"
   },
   "outputs": [],
   "source": [
    "np.sum(x)"
   ]
  },
  {
   "cell_type": "code",
   "execution_count": 0,
   "metadata": {
    "colab": {
     "autoexec": {
      "startup": false,
      "wait_interval": 0
     }
    },
    "colab_type": "code",
    "collapsed": true,
    "id": "XVJeoo1fe0hn"
   },
   "outputs": [],
   "source": [
    "np.min(x)"
   ]
  },
  {
   "cell_type": "code",
   "execution_count": 0,
   "metadata": {
    "colab": {
     "autoexec": {
      "startup": false,
      "wait_interval": 0
     }
    },
    "colab_type": "code",
    "collapsed": true,
    "id": "8akxjCwpe0hp"
   },
   "outputs": [],
   "source": [
    "np.max(x)"
   ]
  },
  {
   "cell_type": "code",
   "execution_count": 0,
   "metadata": {
    "colab": {
     "autoexec": {
      "startup": false,
      "wait_interval": 0
     }
    },
    "colab_type": "code",
    "collapsed": true,
    "id": "G5nLZKJ9jSOl"
   },
   "outputs": [],
   "source": [
    "np.median(x)"
   ]
  },
  {
   "cell_type": "code",
   "execution_count": 0,
   "metadata": {
    "colab": {
     "autoexec": {
      "startup": false,
      "wait_interval": 0
     }
    },
    "colab_type": "code",
    "collapsed": true,
    "id": "dhLFs6JFjWID"
   },
   "outputs": [],
   "source": [
    "np.cumsum(x)"
   ]
  },
  {
   "cell_type": "code",
   "execution_count": 0,
   "metadata": {
    "colab": {
     "autoexec": {
      "startup": false,
      "wait_interval": 0
     }
    },
    "colab_type": "code",
    "collapsed": true,
    "id": "tk3gEgMwkJ8O"
   },
   "outputs": [],
   "source": [
    "np.abs(x)"
   ]
  },
  {
   "cell_type": "markdown",
   "metadata": {
    "colab_type": "text",
    "id": "f851KRK2jZ_J"
   },
   "source": [
    "What do you think ```np.cumsum``` does? Note, numpy has a similar function ```np.cumprod```. Try it!\n",
    "\n",
    "What do you think ```np.diff``` does?"
   ]
  },
  {
   "cell_type": "code",
   "execution_count": 0,
   "metadata": {
    "colab": {
     "autoexec": {
      "startup": false,
      "wait_interval": 0
     }
    },
    "colab_type": "code",
    "collapsed": true,
    "id": "LITXIKHdjWRA"
   },
   "outputs": [],
   "source": [
    "np.diff(x)"
   ]
  },
  {
   "cell_type": "markdown",
   "metadata": {
    "colab_type": "text",
    "id": "uY27ag6B0Us_"
   },
   "source": [
    "Two super useful functions in numpy are `np.arange` and `np.linspace`. They allow you to craft arrays with equidistant values:\n",
    "* np.arange asks for [`start`], `stop`, and [`step`]\n",
    "* np.linspace asks for `start`, `stop`, and `num`"
   ]
  },
  {
   "cell_type": "code",
   "execution_count": 0,
   "metadata": {
    "colab": {
     "autoexec": {
      "startup": false,
      "wait_interval": 0
     }
    },
    "colab_type": "code",
    "collapsed": true,
    "id": "EXhy7WLI04ed"
   },
   "outputs": [],
   "source": [
    "np.arange(0, 100, 10)"
   ]
  },
  {
   "cell_type": "code",
   "execution_count": 0,
   "metadata": {
    "colab": {
     "autoexec": {
      "startup": false,
      "wait_interval": 0
     }
    },
    "colab_type": "code",
    "collapsed": true,
    "id": "6umI702c086G"
   },
   "outputs": [],
   "source": [
    "np.linspace(0, 100, 15)"
   ]
  },
  {
   "cell_type": "markdown",
   "metadata": {
    "colab_type": "text",
    "id": "ssN5yL2He0hv"
   },
   "source": [
    "### Python"
   ]
  },
  {
   "cell_type": "markdown",
   "metadata": {
    "colab_type": "text",
    "id": "BueLz_vfe0hw"
   },
   "source": [
    "Using ```np.arrays``` in python is a little bit different than with built-in lists."
   ]
  },
  {
   "cell_type": "code",
   "execution_count": 0,
   "metadata": {
    "colab": {
     "autoexec": {
      "startup": false,
      "wait_interval": 0
     }
    },
    "colab_type": "code",
    "collapsed": true,
    "id": "8Kb8hHi1e0hw"
   },
   "outputs": [],
   "source": [
    "a = np.array([2, 3, 4])\n",
    "b = [2, 3, 4]\n",
    "print(a)\n",
    "print(b)"
   ]
  },
  {
   "cell_type": "markdown",
   "metadata": {
    "colab_type": "text",
    "id": "vtvapXJJ2fy2"
   },
   "source": [
    "#### Adding values to np.array is different"
   ]
  },
  {
   "cell_type": "code",
   "execution_count": 0,
   "metadata": {
    "colab": {
     "autoexec": {
      "startup": false,
      "wait_interval": 0
     }
    },
    "colab_type": "code",
    "collapsed": true,
    "id": "8kmRg1Zf2fy3"
   },
   "outputs": [],
   "source": [
    "b.append(\"hello\")\n",
    "b"
   ]
  },
  {
   "cell_type": "code",
   "execution_count": 0,
   "metadata": {
    "colab": {
     "autoexec": {
      "startup": false,
      "wait_interval": 0
     }
    },
    "colab_type": "code",
    "collapsed": true,
    "id": "d1PS0a4x2fy6"
   },
   "outputs": [],
   "source": [
    "a = np.append(a, 'hello')\n",
    "a"
   ]
  },
  {
   "cell_type": "markdown",
   "metadata": {
    "colab_type": "text",
    "id": "z2bR7l1W2fy8"
   },
   "source": [
    "#### For loops work the same way"
   ]
  },
  {
   "cell_type": "code",
   "execution_count": 0,
   "metadata": {
    "colab": {
     "autoexec": {
      "startup": false,
      "wait_interval": 0
     }
    },
    "colab_type": "code",
    "collapsed": true,
    "id": "73tOXroze0h0"
   },
   "outputs": [],
   "source": [
    "c = np.array([1, 2, 3, 4, 5])\n",
    "cumulative_product = 1\n",
    "\n",
    "for element in c:\n",
    "    cumulative_product *= element\n",
    "    \n",
    "cumulative_product"
   ]
  },
  {
   "cell_type": "markdown",
   "metadata": {
    "colab_type": "text",
    "id": "Si-xX6BAe0h2"
   },
   "source": [
    "### <font color=\"blue\">Numpy Exercises</font>"
   ]
  },
  {
   "cell_type": "markdown",
   "metadata": {
    "colab_type": "text",
    "id": "U3yfF0bYhC0t"
   },
   "source": [
    "Use [`np.arange`](https://docs.scipy.org/doc/numpy/reference/generated/numpy.arange.html) to create an array called `arr1` that contains every odd number from 1 to 100, inclusive."
   ]
  },
  {
   "cell_type": "code",
   "execution_count": 0,
   "metadata": {
    "colab": {
     "autoexec": {
      "startup": false,
      "wait_interval": 0
     }
    },
    "colab_type": "code",
    "collapsed": true,
    "id": "lHGRcZWLh0K-"
   },
   "outputs": [],
   "source": [
    "arr1 = np.arange(...)\n",
    "arr1"
   ]
  },
  {
   "cell_type": "markdown",
   "metadata": {
    "colab_type": "text",
    "id": "qKQsJC21hJyn"
   },
   "source": [
    "Use `arr1` to create an array `arr2` of every number divisible by 4 from 1 to 200, inclusive."
   ]
  },
  {
   "cell_type": "code",
   "execution_count": 0,
   "metadata": {
    "colab": {
     "autoexec": {
      "startup": false,
      "wait_interval": 0
     }
    },
    "colab_type": "code",
    "collapsed": true,
    "id": "M39BjQAHe0h6"
   },
   "outputs": [],
   "source": [
    "arr2 = ...\n",
    "arr2"
   ]
  },
  {
   "cell_type": "markdown",
   "metadata": {
    "colab_type": "text",
    "id": "Yk3bGC5oiVOE"
   },
   "source": [
    "Create the same array, but using [`np.linspace`](https://docs.scipy.org/doc/numpy/reference/generated/numpy.linspace.html) instead. Call this array `arr3`."
   ]
  },
  {
   "cell_type": "code",
   "execution_count": 0,
   "metadata": {
    "colab": {
     "autoexec": {
      "startup": false,
      "wait_interval": 0
     }
    },
    "colab_type": "code",
    "collapsed": true,
    "id": "sdvT_TXge0h8"
   },
   "outputs": [],
   "source": [
    "arr3 = np.linspace(...)\n",
    "arr3"
   ]
  },
  {
   "cell_type": "markdown",
   "metadata": {
    "colab_type": "text",
    "id": "iziQseWNjL3P"
   },
   "source": [
    "Print the following summary statistics for `arr3`: \n",
    "\n",
    "* minimum\n",
    "* 1st quartile (Hint: See [`np.percentile()`](https://docs.scipy.org/doc/numpy-dev/reference/generated/numpy.percentile.html))\n",
    "* median\n",
    "* mean\n",
    "* standard deviation\n",
    "* 3rd quartile\n",
    "* max\n"
   ]
  },
  {
   "cell_type": "code",
   "execution_count": 0,
   "metadata": {
    "colab": {
     "autoexec": {
      "startup": false,
      "wait_interval": 0
     }
    },
    "colab_type": "code",
    "collapsed": true,
    "id": "UT62L45sj2QK"
   },
   "outputs": [],
   "source": [
    "print('Minimum: '            + str(...))\n",
    "print('1st quartile: '       + str(...))\n",
    "print('Median: '             + str(...))\n",
    "print('Mean: '               + str(...))\n",
    "print('Standard Deviation: ' + str(...))\n",
    "print('3rd Quartile: '       + str(...))\n",
    "print('Max: '                + str(...))"
   ]
  },
  {
   "cell_type": "markdown",
   "metadata": {
    "colab_type": "text",
    "id": "vdqq_mtfe0iB"
   },
   "source": [
    "# <span id=\"2\" style=\"color: blue\">Pandas</span>"
   ]
  },
  {
   "cell_type": "markdown",
   "metadata": {
    "colab_type": "text",
    "id": "mSwF4jr7e0iC"
   },
   "source": [
    "<tr><td><img width=200 src=\"https://c402277.ssl.cf1.rackcdn.com/photos/13100/images/featured_story/BIC_128.png?1485963152\"/></td><td>\n",
    "\n",
    "Pandas is all about tables!</td></tr>"
   ]
  },
  {
   "cell_type": "markdown",
   "metadata": {
    "colab_type": "text",
    "id": "1-ODG_5te0iC"
   },
   "source": [
    "A table is called a ['dataframe'](http://pandas.pydata.org/pandas-docs/stable/dsintro.html#dataframe) in Pandas. Consider the table `fruit_info`:\n",
    "\n"
   ]
  },
  {
   "cell_type": "markdown",
   "metadata": {
    "colab_type": "text",
    "id": "GEWGAtB2pNiO"
   },
   "source": [
    "<table border=\"1\" class=\"dataframe\">\n",
    "  <thead><tr><td>**color**</td><td>**fruit**</td></tr></thead>\n",
    "<tr><td>red</td><td>apple</td></tr>\n",
    "<tr><td>orange</td><td>orange</td></tr>\n",
    "<tr><td>yellow</td><td>banana</td></tr>\n",
    "<tr><td>pink</td><td>raspberry</td></tr>\n",
    "</table>"
   ]
  },
  {
   "cell_type": "markdown",
   "metadata": {
    "colab_type": "text",
    "id": "-h5lz5xVqhKm"
   },
   "source": [
    "## Pandas Series"
   ]
  },
  {
   "cell_type": "markdown",
   "metadata": {
    "colab_type": "text",
    "id": "D7_REil2lzyw"
   },
   "source": [
    "Let's break this table down. DataFrames consist of columns called **```Series```**. Series act like numpy arrays.\n",
    "\n",
    "_How to make a Series:_\n",
    "\n",
    "1.   create a numpy ```array```\n",
    "2.   call ```pd.Series(array, name=\"...\")``` &nbsp;&nbsp; <font color=\"gray\"># name can be anything</font>\n",
    "\n",
    "<font color=\"blue\">Exercise:</font> Make a Series that contains the colors from `fruit_info` and has `name='color'`\n"
   ]
  },
  {
   "cell_type": "code",
   "execution_count": 0,
   "metadata": {
    "colab": {
     "autoexec": {
      "startup": false,
      "wait_interval": 0
     }
    },
    "colab_type": "code",
    "collapsed": true,
    "id": "GblqAVjSmHLR"
   },
   "outputs": [],
   "source": [
    "array = np.array(...)\n",
    "color_column = pd.Series(...)\n",
    "color_column"
   ]
  },
  {
   "cell_type": "markdown",
   "metadata": {
    "colab_type": "text",
    "id": "eyctU1Jkm18R"
   },
   "source": [
    "<font color=\"blue\">Exercise:</font> Make another Series for the fruit column:"
   ]
  },
  {
   "cell_type": "code",
   "execution_count": 0,
   "metadata": {
    "colab": {
     "autoexec": {
      "startup": false,
      "wait_interval": 0
     }
    },
    "colab_type": "code",
    "collapsed": true,
    "id": "XjQqqb4Gm1Pw"
   },
   "outputs": [],
   "source": [
    "array = np.array(...)\n",
    "fruit_column = pd.Series(...)\n",
    "fruit_column"
   ]
  },
  {
   "cell_type": "markdown",
   "metadata": {
    "colab_type": "text",
    "id": "BL5jN9Z3oLvx"
   },
   "source": [
    "Combine your Series into a table!\n",
    "\n",
    "`pd.concat([ series1, series2, series3, ... ], 1)`\n",
    "\n",
    "Don't forget the ```1``` or you'll just make a giant Series."
   ]
  },
  {
   "cell_type": "code",
   "execution_count": 0,
   "metadata": {
    "colab": {
     "autoexec": {
      "startup": false,
      "wait_interval": 0
     }
    },
    "colab_type": "code",
    "collapsed": true,
    "id": "X-pqBS50nEsu"
   },
   "outputs": [],
   "source": [
    "fruit_info = pd.concat([color_column, fruit_column], 1)\n",
    "fruit_info"
   ]
  },
  {
   "cell_type": "markdown",
   "metadata": {
    "colab_type": "text",
    "id": "YPCpw0ll6W0d"
   },
   "source": [
    "What if we were given the DataFrame and we want to extract the columns?"
   ]
  },
  {
   "cell_type": "code",
   "execution_count": 0,
   "metadata": {
    "colab": {
     "autoexec": {
      "startup": false,
      "wait_interval": 0
     }
    },
    "colab_type": "code",
    "collapsed": true,
    "id": "zlxb5I1V6gW_"
   },
   "outputs": [],
   "source": [
    "fruit_info['fruit'] # we get the fruit_column Series back!"
   ]
  },
  {
   "cell_type": "markdown",
   "metadata": {
    "colab_type": "text",
    "id": "IWplutOiqkyV"
   },
   "source": [
    "### Dictionaries"
   ]
  },
  {
   "cell_type": "markdown",
   "metadata": {
    "colab_type": "text",
    "id": "y0crshKnkr4F"
   },
   "source": [
    "Also, we can manually create tables by using a [python dictionary](https://www.python-course.eu/dictionaries.php). A dictionary has the following format:\n",
    "\n",
    "```\n",
    "d = { \"name of column\"   :  [  list of values  ],\n",
    "      \"name of column 2\" :  [  list of values  ],\n",
    "                        ...\n",
    "                        ...\n",
    "    }```\n",
    "    "
   ]
  },
  {
   "cell_type": "code",
   "execution_count": 0,
   "metadata": {
    "colab": {
     "autoexec": {
      "startup": false,
      "wait_interval": 0
     }
    },
    "colab_type": "code",
    "collapsed": true,
    "id": "HwNqPSU4e0iL"
   },
   "outputs": [],
   "source": [
    "d = { 'fruit' : ['apple', 'orange', 'banana', 'raspberry'],\n",
    "      'color' : ['red', 'orange', 'yellow', 'pink']\n",
    "    }"
   ]
  },
  {
   "cell_type": "code",
   "execution_count": 0,
   "metadata": {
    "colab": {
     "autoexec": {
      "startup": false,
      "wait_interval": 0
     }
    },
    "colab_type": "code",
    "collapsed": true,
    "id": "8ztmLzC_e0iM"
   },
   "outputs": [],
   "source": [
    "fruit_info_again = pd.DataFrame(d)\n",
    "fruit_info_again"
   ]
  },
  {
   "cell_type": "markdown",
   "metadata": {
    "colab_type": "text",
    "id": "aFAHsI63q0kX"
   },
   "source": [
    "### Add Columns\n",
    "\n",
    "Add a column to `table` labeled \"new column\" like so:\n",
    "\n",
    "`table['new column'] = array`"
   ]
  },
  {
   "cell_type": "code",
   "execution_count": 0,
   "metadata": {
    "colab": {
     "autoexec": {
      "startup": false,
      "wait_interval": 0
     }
    },
    "colab_type": "code",
    "collapsed": true,
    "id": "ezbxTDkAq0YV"
   },
   "outputs": [],
   "source": [
    "fruit_info['inventory'] = np.array([23, 18, 50, 20])\n",
    "fruit_info"
   ]
  },
  {
   "cell_type": "markdown",
   "metadata": {
    "colab_type": "text",
    "id": "Dhn2AL0ZrKlJ"
   },
   "source": [
    "<font color=\"blue\">Exercise:</font> Add a column called ```rating``` that assigns your rating from 1 to 5 for each fruit :) "
   ]
  },
  {
   "cell_type": "code",
   "execution_count": 0,
   "metadata": {
    "colab": {
     "autoexec": {
      "startup": false,
      "wait_interval": 0
     }
    },
    "colab_type": "code",
    "collapsed": true,
    "id": "18CL-BA-e0iP"
   },
   "outputs": [],
   "source": [
    "fruit_info['rating'] = ...\n",
    "\n",
    "fruit_info  # should now include a rating column"
   ]
  },
  {
   "cell_type": "markdown",
   "metadata": {
    "colab_type": "text",
    "id": "tmI18kjsrkXE"
   },
   "source": [
    "### Drop\n",
    "\n",
    "<font color=\"blue\">Exercise:</font> Now, use the `.drop()` method to [drop](https://pandas.pydata.org/pandas-docs/stable/generated/pandas.DataFrame.drop.html) the `color` column."
   ]
  },
  {
   "cell_type": "code",
   "execution_count": 0,
   "metadata": {
    "colab": {
     "autoexec": {
      "startup": false,
      "wait_interval": 0
     }
    },
    "colab_type": "code",
    "collapsed": true,
    "id": "TeX_2Kl4rtaF"
   },
   "outputs": [],
   "source": [
    "fruit_info_without_color = ... # must include axis=1\n",
    "\n",
    "fruit_info_without_color"
   ]
  },
  {
   "cell_type": "markdown",
   "metadata": {
    "colab_type": "text",
    "id": "hwoFu6Cmvk6I"
   },
   "source": [
    "## California Baby Names\n",
    "\n",
    "Time to use a real dataset!"
   ]
  },
  {
   "cell_type": "markdown",
   "metadata": {
    "colab_type": "text",
    "id": "qjlN61yTvo8I"
   },
   "source": [
    "You can read a `.csv` file into pandas using `pd.read_csv( url )`.\n",
    "\n",
    "Create a variable called `baby_names` that loads this data: `https://raw.githubusercontent.com/carlocrza/Data_Science_Society/master/ca_baby_names.csv`\n",
    "\n"
   ]
  },
  {
   "cell_type": "code",
   "execution_count": 0,
   "metadata": {
    "colab": {
     "autoexec": {
      "startup": false,
      "wait_interval": 0
     }
    },
    "colab_type": "code",
    "collapsed": true,
    "id": "dC_dIgL9r6sz"
   },
   "outputs": [],
   "source": [
    "baby_names = pd.read_csv(\"https://raw.githubusercontent.com/carlocrza/Data_Science_Society/master/baby_names.csv\")"
   ]
  },
  {
   "cell_type": "markdown",
   "metadata": {
    "colab_type": "text",
    "id": "1kH6QcaU2RSR"
   },
   "source": [
    "Let's display the table. We can just type `baby_names` and run the cell but baby_names is HUGE! So, let's display just the first five rows with:\n",
    "\n",
    "`DataFrame.head( # of rows )`"
   ]
  },
  {
   "cell_type": "code",
   "execution_count": 0,
   "metadata": {
    "colab": {
     "autoexec": {
      "startup": false,
      "wait_interval": 0
     }
    },
    "colab_type": "code",
    "collapsed": true,
    "id": "PZIZOnC82iAe"
   },
   "outputs": [],
   "source": [
    "baby_names.head(5)"
   ]
  },
  {
   "cell_type": "markdown",
   "metadata": {
    "colab_type": "text",
    "id": "7YIAr_9qwLe3"
   },
   "source": [
    "## Row, Column Selection\n",
    "\n",
    "Follow the structure:\n",
    "\n",
    "`table.loc[rows, columns]`\n",
    "\n",
    "`table.loc[2:8, [ 'Name', 'Count']]`\n",
    "\n",
    "The above code will select columns \"Name\" and \"Count\" from rows 2 **through** 8."
   ]
  },
  {
   "cell_type": "code",
   "execution_count": 0,
   "metadata": {
    "colab": {
     "autoexec": {
      "startup": false,
      "wait_interval": 0
     }
    },
    "colab_type": "code",
    "collapsed": true,
    "id": "hys-JCGD0G3I"
   },
   "outputs": [],
   "source": [
    "# Returns the name of our columns\n",
    "baby_names.columns"
   ]
  },
  {
   "cell_type": "code",
   "execution_count": 0,
   "metadata": {
    "colab": {
     "autoexec": {
      "startup": false,
      "wait_interval": 0
     }
    },
    "colab_type": "code",
    "collapsed": true,
    "id": "6nOgRO54wwi-"
   },
   "outputs": [],
   "source": [
    "baby_names.loc[2:8, ['Name', \"Count\"]]"
   ]
  },
  {
   "cell_type": "markdown",
   "metadata": {
    "colab_type": "text",
    "id": "uqTcklNh1wnq"
   },
   "source": [
    "<font color=\"blue\">Exercise:</font> Return a table that includes rows 1000-1005 and only includes the column \"Name\"."
   ]
  },
  {
   "cell_type": "code",
   "execution_count": 0,
   "metadata": {
    "colab": {
     "autoexec": {
      "startup": false,
      "wait_interval": 0
     }
    },
    "colab_type": "code",
    "collapsed": true,
    "id": "YQavi1AV14mh"
   },
   "outputs": [],
   "source": [
    "baby_names.loc[...]"
   ]
  },
  {
   "cell_type": "code",
   "execution_count": 0,
   "metadata": {
    "colab": {
     "autoexec": {
      "startup": false,
      "wait_interval": 0
     }
    },
    "colab_type": "code",
    "collapsed": true,
    "id": "fouzfJJD24SB"
   },
   "outputs": [],
   "source": [
    "# Want to select EVERY row?\n",
    "# Don't put anything before and after the colon :\n",
    "baby_names.loc[:, ['Sex', 'Name']].head(4)"
   ]
  },
  {
   "cell_type": "markdown",
   "metadata": {
    "colab_type": "text",
    "id": "ssktJjTM2f0V"
   },
   "source": [
    "### Selecting an entire Column"
   ]
  },
  {
   "cell_type": "markdown",
   "metadata": {
    "colab_type": "text",
    "id": "HxwUHjmz18U8"
   },
   "source": [
    "Remember we can extract the column in the form of a **Series** using:\n",
    "\n",
    "`table_name['Name of column']`"
   ]
  },
  {
   "cell_type": "code",
   "execution_count": 0,
   "metadata": {
    "colab": {
     "autoexec": {
      "startup": false,
      "wait_interval": 0
     }
    },
    "colab_type": "code",
    "collapsed": true,
    "id": "iqfB9WSL2G2Q"
   },
   "outputs": [],
   "source": [
    "name_column = baby_names['Name']\n",
    "name_column.head(5) # we can also use .head with Series!"
   ]
  },
  {
   "cell_type": "markdown",
   "metadata": {
    "colab_type": "text",
    "id": "gU0vvw_Y2f0Z"
   },
   "source": [
    "### Selecting rows with a Boolean Array"
   ]
  },
  {
   "cell_type": "markdown",
   "metadata": {
    "colab_type": "text",
    "id": "SHmXo9p3BTHE"
   },
   "source": [
    "Lastly, we can select rows based off of True / False data. Let's go back to the simpler `fruit_info` table."
   ]
  },
  {
   "cell_type": "code",
   "execution_count": 0,
   "metadata": {
    "colab": {
     "autoexec": {
      "startup": false,
      "wait_interval": 0
     }
    },
    "colab_type": "code",
    "collapsed": true,
    "id": "dkko-lUHBYTO"
   },
   "outputs": [],
   "source": [
    "fruit_info"
   ]
  },
  {
   "cell_type": "code",
   "execution_count": 0,
   "metadata": {
    "colab": {
     "autoexec": {
      "startup": false,
      "wait_interval": 0
     }
    },
    "colab_type": "code",
    "collapsed": true,
    "id": "wniwriNMBZ0_"
   },
   "outputs": [],
   "source": [
    "# select row only if corresponding value in *selection* is True\n",
    "selection = np.array([True, False, True, False])\n",
    "fruit_info[selection]"
   ]
  },
  {
   "cell_type": "markdown",
   "metadata": {
    "colab_type": "text",
    "id": "y_B5A1G-3MOV"
   },
   "source": [
    "## Filtering Data"
   ]
  },
  {
   "cell_type": "markdown",
   "metadata": {
    "colab_type": "text",
    "id": "KdY_x_El4EGU"
   },
   "source": [
    "So far we have selected data based off of row numbers and column headers. Let's work on filtering data more precisely.\n",
    "\n",
    "`table[condition]`"
   ]
  },
  {
   "cell_type": "code",
   "execution_count": 0,
   "metadata": {
    "colab": {
     "autoexec": {
      "startup": false,
      "wait_interval": 0
     }
    },
    "colab_type": "code",
    "collapsed": true,
    "id": "3o2U54-e4B6X"
   },
   "outputs": [],
   "source": [
    "condition = baby_names['Name'] == 'Carlo'\n",
    "baby_names[condition].head(5)"
   ]
  },
  {
   "cell_type": "markdown",
   "metadata": {
    "colab_type": "text",
    "id": "uabYiMHo2f0i"
   },
   "source": [
    "The above code only selects rows that have Name equal to 'Carlo'. Change it to your name!"
   ]
  },
  {
   "cell_type": "markdown",
   "metadata": {
    "colab_type": "text",
    "id": "yPwnQ-bl5UOC"
   },
   "source": [
    "### Apply multiple conditions!\n",
    "\n",
    " `table[ (condition 1)  &  (condition 2) ]`\n",
    " \n",
    "\n",
    " \n",
    "<font color=\"blue\">Class Exercise:</font> select the names in Year 2000 that have larger than 3000 counts."
   ]
  },
  {
   "cell_type": "code",
   "execution_count": 0,
   "metadata": {
    "colab": {
     "autoexec": {
      "startup": false,
      "wait_interval": 0
     }
    },
    "colab_type": "code",
    "collapsed": true,
    "id": "0rEAnK4C5hzV"
   },
   "outputs": [],
   "source": [
    "result = ...\n",
    "result.head(3)"
   ]
  },
  {
   "cell_type": "markdown",
   "metadata": {
    "colab_type": "text",
    "id": "bouCJr952f0m"
   },
   "source": [
    "### Thorough explanation:"
   ]
  },
  {
   "cell_type": "markdown",
   "metadata": {
    "colab_type": "text",
    "id": "7kHliZZ_AueM"
   },
   "source": [
    "Remember that calling `baby_names['Name']` returns a **Series** of all of the names.\n",
    "\n",
    "Checking if values in the series are equal to `Carlo` results in an array of {True, False} values. \n",
    "\n",
    "Then, we select rows based off of this boolean array. Thus, we could also do:"
   ]
  },
  {
   "cell_type": "code",
   "execution_count": 0,
   "metadata": {
    "colab": {
     "autoexec": {
      "startup": false,
      "wait_interval": 0
     }
    },
    "colab_type": "code",
    "collapsed": true,
    "id": "Pp9nuWFeB8qy"
   },
   "outputs": [],
   "source": [
    "names = baby_names['Name']\n",
    "equalto_Carlo = (names == 'Carlo')  # equalto_Carlo is now an array of True/False variables!\n",
    "baby_names[equalto_Carlo].head(5)"
   ]
  },
  {
   "cell_type": "markdown",
   "metadata": {
    "colab_type": "text",
    "id": "c2EOdJBB7uNI"
   },
   "source": [
    "## Using Numpy with Pandas"
   ]
  },
  {
   "cell_type": "markdown",
   "metadata": {
    "colab_type": "text",
    "id": "bCNpOBUB70jZ"
   },
   "source": [
    "How many rows does our `baby_names` table have?"
   ]
  },
  {
   "cell_type": "code",
   "execution_count": 0,
   "metadata": {
    "colab": {
     "autoexec": {
      "startup": false,
      "wait_interval": 0
     }
    },
    "colab_type": "code",
    "collapsed": true,
    "id": "1vhVz9a-78W5"
   },
   "outputs": [],
   "source": [
    "len(baby_names)"
   ]
  },
  {
   "cell_type": "markdown",
   "metadata": {
    "colab_type": "text",
    "id": "qiQW0Ihf7-Mi"
   },
   "source": [
    "That's a lot of rows! We can't just look at the table and understand it.\n",
    "\n",
    "Luckily, **Numpy** functions treat pandas **Series** as np.arrays."
   ]
  },
  {
   "cell_type": "markdown",
   "metadata": {
    "colab_type": "text",
    "id": "jnAC54Bb8Kv1"
   },
   "source": [
    "<font color=\"blue\">Exercise:</font> What is oldest and most recent year that we have data from in `baby_names`?\n",
    "HINT: np.min, np.max"
   ]
  },
  {
   "cell_type": "code",
   "execution_count": 0,
   "metadata": {
    "colab": {
     "autoexec": {
      "startup": false,
      "wait_interval": 0
     }
    },
    "colab_type": "code",
    "collapsed": true,
    "id": "uWOTEfP_8zfp"
   },
   "outputs": [],
   "source": [
    "recent_year = ...\n",
    "oldest_year = ...\n",
    "(recent_year, oldest_year)"
   ]
  },
  {
   "cell_type": "markdown",
   "metadata": {
    "colab_type": "text",
    "id": "bNdV1I5R-f4K"
   },
   "source": [
    "<font color=\"blue\">Exercise:</font> How many baby names were born in CA in 2015?\n",
    "\n",
    "Hint: the 'Count' column refers the the number of occurrences of a baby name. How could we find the total number of baby names? Now narrow that to only 2015."
   ]
  },
  {
   "cell_type": "code",
   "execution_count": 0,
   "metadata": {
    "colab": {
     "autoexec": {
      "startup": false,
      "wait_interval": 0
     }
    },
    "colab_type": "code",
    "collapsed": true,
    "id": "hsc_6EsK8PPc"
   },
   "outputs": [],
   "source": [
    "baby_names_2015 = ...\n",
    "baby_names_2015_counts = ...\n",
    "number_baby_names_2015 = np.sum(...)\n",
    "number_baby_names_2015"
   ]
  },
  {
   "cell_type": "code",
   "execution_count": 0,
   "metadata": {
    "colab": {
     "autoexec": {
      "startup": false,
      "wait_interval": 0
     }
    },
    "colab_type": "code",
    "collapsed": true,
    "id": "Y7SHGGch2f0w"
   },
   "outputs": [],
   "source": [
    "# Or to do it all in one operation:\n",
    "..."
   ]
  },
  {
   "cell_type": "markdown",
   "metadata": {
    "colab_type": "text",
    "id": "Fv7O-vh42f0x"
   },
   "source": [
    "### np.unique"
   ]
  },
  {
   "cell_type": "code",
   "execution_count": 0,
   "metadata": {
    "colab": {
     "autoexec": {
      "startup": false,
      "wait_interval": 0
     }
    },
    "colab_type": "code",
    "collapsed": true,
    "id": "XVsWFZYHE0_f"
   },
   "outputs": [],
   "source": [
    "# return an array with an element for each unique value in the Series/np.array\n",
    "np.unique(baby_names['Sex'])"
   ]
  },
  {
   "cell_type": "code",
   "execution_count": 0,
   "metadata": {
    "colab": {
     "autoexec": {
      "startup": false,
      "wait_interval": 0
     }
    },
    "colab_type": "code",
    "collapsed": true,
    "id": "pX-vea8ODCKU"
   },
   "outputs": [],
   "source": [
    "# demo\n",
    "states = np.unique(baby_names['State']) # okay now we know this dataset only involves California babies."
   ]
  },
  {
   "cell_type": "markdown",
   "metadata": {
    "colab_type": "text",
    "id": "0xD396zZ8XXh"
   },
   "source": [
    "<font color=\"blue\">Class Exercise:</font> Find the number of different baby names in our dataset."
   ]
  },
  {
   "cell_type": "code",
   "execution_count": 0,
   "metadata": {
    "colab": {
     "autoexec": {
      "startup": false,
      "wait_interval": 0
     }
    },
    "colab_type": "code",
    "collapsed": true,
    "id": "XdrLkubg55Bp"
   },
   "outputs": [],
   "source": [
    "names = ...\n",
    "number_unique_names = ...\n",
    "number_unique_names"
   ]
  },
  {
   "cell_type": "markdown",
   "metadata": {
    "colab_type": "text",
    "id": "eZmstJ3Q55Br"
   },
   "source": [
    "## Copy vs View\n",
    "\n",
    "Depending on how you format your code, pandas might be returning a copy of the dataframe (i.e. a whole new dataframe, but just with the same values), or a view of the dataframe (i.e. the same dataframe itself)."
   ]
  },
  {
   "cell_type": "code",
   "execution_count": 0,
   "metadata": {
    "colab": {
     "autoexec": {
      "startup": false,
      "wait_interval": 0
     }
    },
    "colab_type": "code",
    "collapsed": true,
    "id": "3T8OR9Ht55Bs"
   },
   "outputs": [],
   "source": [
    "carlos_fruits = fruit_info.copy()\n",
    "carlos_fruits"
   ]
  },
  {
   "cell_type": "markdown",
   "metadata": {
    "colab_type": "text",
    "id": "YIc9HtGo55Bt"
   },
   "source": [
    "Let's say Carlo is happy with those ratings. But Jun Seo loves bananas! Let's make a \"new\" dataframe and change the ratings accordingly:"
   ]
  },
  {
   "cell_type": "code",
   "execution_count": 0,
   "metadata": {
    "colab": {
     "autoexec": {
      "startup": false,
      "wait_interval": 0
     }
    },
    "colab_type": "code",
    "collapsed": true,
    "id": "ph0COWv-55Bt"
   },
   "outputs": [],
   "source": [
    "junseos_fruits = carlos_fruits\n",
    "junseos_fruits['rating'] = [3, 4, 9999, 5]\n",
    "junseos_fruits"
   ]
  },
  {
   "cell_type": "markdown",
   "metadata": {
    "colab_type": "text",
    "id": "-W2Ezuf355Bu"
   },
   "source": [
    "And taking a look back at Carlo's fruits:"
   ]
  },
  {
   "cell_type": "code",
   "execution_count": 0,
   "metadata": {
    "colab": {
     "autoexec": {
      "startup": false,
      "wait_interval": 0
     }
    },
    "colab_type": "code",
    "collapsed": true,
    "id": "wDfWe9LV55Bv"
   },
   "outputs": [],
   "source": [
    "carlos_fruits"
   ]
  },
  {
   "cell_type": "markdown",
   "metadata": {
    "colab_type": "text",
    "id": "QbMTHdua55Bx"
   },
   "source": [
    "Wait, Carlo's banana rating shouldn't be that high! What happened is that junseos_fruits returned a *view* on Carlo's dataframe. Then did our shenanigans affect the original fruit_info dataframe too?"
   ]
  },
  {
   "cell_type": "code",
   "execution_count": 0,
   "metadata": {
    "colab": {
     "autoexec": {
      "startup": false,
      "wait_interval": 0
     }
    },
    "colab_type": "code",
    "collapsed": true,
    "id": "KKihLIa755By"
   },
   "outputs": [],
   "source": [
    "fruit_info"
   ]
  },
  {
   "cell_type": "markdown",
   "metadata": {
    "colab_type": "text",
    "id": "8cEgWaA055Bz"
   },
   "source": [
    "No, because when we called `carlos_fruits = fruit_info.copy()`, we asked pandas to forcibly create a brand new dataframe with identical values instead.\n",
    "\n",
    "### SettingWithCopyWarning\n",
    "\n",
    "This is arguably one of the most frustrating warnings you will see while using pandas. \n",
    "TL;DR: Use .loc instead of square brackets to index into data.\n",
    "\n",
    "Let's say Jun Seo strongly dislikes apples."
   ]
  },
  {
   "cell_type": "code",
   "execution_count": 0,
   "metadata": {
    "colab": {
     "autoexec": {
      "startup": false,
      "wait_interval": 0
     }
    },
    "colab_type": "code",
    "collapsed": true,
    "id": "33aQIF2255Bz"
   },
   "outputs": [],
   "source": [
    "junseos_fruits[junseos_fruits['fruit'] == 'apple']"
   ]
  },
  {
   "cell_type": "code",
   "execution_count": 0,
   "metadata": {
    "colab": {
     "autoexec": {
      "startup": false,
      "wait_interval": 0
     }
    },
    "colab_type": "code",
    "collapsed": true,
    "id": "mt47cqs955B1"
   },
   "outputs": [],
   "source": [
    "junseos_fruits[junseos_fruits['fruit'] == 'apple']['rating'] = -100\n",
    "junseos_fruits"
   ]
  },
  {
   "cell_type": "code",
   "execution_count": 0,
   "metadata": {
    "colab": {
     "autoexec": {
      "startup": false,
      "wait_interval": 0
     }
    },
    "colab_type": "code",
    "collapsed": true,
    "id": "M_aOf3fp55B2"
   },
   "outputs": [],
   "source": [
    "junseos_fruits['rating']"
   ]
  },
  {
   "cell_type": "code",
   "execution_count": 0,
   "metadata": {
    "colab": {
     "autoexec": {
      "startup": false,
      "wait_interval": 0
     }
    },
    "colab_type": "code",
    "collapsed": true,
    "id": "nBVIzM8Q55B3"
   },
   "outputs": [],
   "source": [
    "junseos_fruits['rating'][0] = -100\n",
    "junseos_fruits"
   ]
  },
  {
   "cell_type": "code",
   "execution_count": 0,
   "metadata": {
    "colab": {
     "autoexec": {
      "startup": false,
      "wait_interval": 0
     }
    },
    "colab_type": "code",
    "collapsed": true,
    "id": "eopTQKqZ55B4"
   },
   "outputs": [],
   "source": [
    "junseos_fruits.loc[1, 'rating'] = 1738\n",
    "junseos_fruits"
   ]
  },
  {
   "cell_type": "markdown",
   "metadata": {
    "colab_type": "text",
    "id": "Sq4kSWriEa6P"
   },
   "source": [
    "## [optional] Group By"
   ]
  },
  {
   "cell_type": "markdown",
   "metadata": {
    "colab_type": "text",
    "id": "VT-9ihrQEcxt"
   },
   "source": [
    "We won't have time to go through this thoroughly in lab. However, we encourage you to look into this material if you want to go further. Feel free to ask us any questions!"
   ]
  },
  {
   "cell_type": "markdown",
   "metadata": {
    "colab_type": "text",
    "id": "8tes7WNXFPtu"
   },
   "source": [
    "In the previous section we calculated the number of baby names registered in 2015."
   ]
  },
  {
   "cell_type": "code",
   "execution_count": 0,
   "metadata": {
    "colab": {
     "autoexec": {
      "startup": false,
      "wait_interval": 0
     }
    },
    "colab_type": "code",
    "collapsed": true,
    "id": "_I3BeetWFUEz"
   },
   "outputs": [],
   "source": [
    "np.sum(baby_names[baby_names['Year'] == 2015]['Count'])"
   ]
  },
  {
   "cell_type": "markdown",
   "metadata": {
    "colab_type": "text",
    "id": "xVusQ3TRFV2o"
   },
   "source": [
    "There are 107 years though. If we wanted to know how many babies were born in California for each year we need to do something more efficient.\n",
    "\n",
    "`groupby` to the rescue!\n",
    "\n",
    "Groupby allows us to split our table into groups, each group having one similarity.\n",
    "\n",
    "For example if we group by \"Year\" we would create 107 groups because there are 107 unique years.\n",
    "\n",
    "\n",
    "<center>`baby_names.groupby('Year')`</center>\n",
    "\n",
    "\n",
    "Now we have 107 groups but what do we do with them? We can apply the function `sum` to each group. This will sum the other numerical column, 'Counts' which reduces each group to a single row: Year and sum.\n",
    "\n",
    "Excellent tutorial: http://bconnelly.net/2013/10/summarizing-data-in-python-with-pandas/"
   ]
  },
  {
   "cell_type": "code",
   "execution_count": 0,
   "metadata": {
    "colab": {
     "autoexec": {
      "startup": false,
      "wait_interval": 0
     }
    },
    "colab_type": "code",
    "collapsed": true,
    "id": "8jhioDmRGHH7"
   },
   "outputs": [],
   "source": [
    "# this will apply sum to the \"Count\" column of each year group\n",
    "yearly_data = baby_names.groupby('Year').sum()\n",
    "yearly_data.head(5)"
   ]
  },
  {
   "cell_type": "markdown",
   "metadata": {
    "colab_type": "text",
    "id": "HSXIatW5K58d"
   },
   "source": [
    "Further reading: http://bconnelly.net/2013/10/summarizing-data-in-python-with-pandas/"
   ]
  },
  {
   "cell_type": "markdown",
   "metadata": {
    "colab_type": "text",
    "id": "KhE8oJzD-Uqf"
   },
   "source": [
    "# <font id=\"2.5\" color=\"blue\">Plot with Pandas</font>"
   ]
  },
  {
   "cell_type": "code",
   "execution_count": 0,
   "metadata": {
    "colab": {
     "autoexec": {
      "startup": false,
      "wait_interval": 0
     }
    },
    "colab_type": "code",
    "collapsed": true,
    "id": "__7VTaS12f09"
   },
   "outputs": [],
   "source": [
    "# %matplotlib inline"
   ]
  },
  {
   "cell_type": "markdown",
   "metadata": {
    "colab_type": "text",
    "id": "eL6fUkZD2f09"
   },
   "source": [
    "[Pandas.plot documentation](https://pandas.pydata.org/pandas-docs/stable/generated/pandas.DataFrame.plot.html)\n",
    "\n",
    "Pandas comes with a built-in `plot` method that can be very useful! `pandas.plot` actually uses `matplotlib` behind the scenes!\n",
    "\n",
    "`yearly_data` contains the number of registered babies per year."
   ]
  },
  {
   "cell_type": "code",
   "execution_count": 0,
   "metadata": {
    "colab": {
     "autoexec": {
      "startup": false,
      "wait_interval": 0
     }
    },
    "colab_type": "code",
    "collapsed": true,
    "id": "3aT2IIdEONxP"
   },
   "outputs": [],
   "source": [
    "yearly_data.head()"
   ]
  },
  {
   "cell_type": "markdown",
   "metadata": {
    "colab_type": "text",
    "id": "vgEhdkry2f0_"
   },
   "source": [
    "## Line Graphs"
   ]
  },
  {
   "cell_type": "code",
   "execution_count": 0,
   "metadata": {
    "colab": {
     "autoexec": {
      "startup": false,
      "wait_interval": 0
     }
    },
    "colab_type": "code",
    "collapsed": true,
    "id": "7Nuds8wr2f0_"
   },
   "outputs": [],
   "source": [
    "yearly_data.plot(kind=\"line\")  #kind='line' is optional"
   ]
  },
  {
   "cell_type": "markdown",
   "metadata": {
    "colab_type": "text",
    "id": "oq6uT5tk2f1C"
   },
   "source": [
    "### Study: Name History"
   ]
  },
  {
   "cell_type": "code",
   "execution_count": 0,
   "metadata": {
    "colab": {
     "autoexec": {
      "startup": false,
      "wait_interval": 0
     }
    },
    "colab_type": "code",
    "collapsed": true,
    "id": "0tLutdpw2f1E"
   },
   "outputs": [],
   "source": [
    "# don't worry about this function unless you want to learn about groupby\n",
    "def your_name_history(name):\n",
    "    return baby_names[baby_names['Name'] == name].groupby('Year').sum()"
   ]
  },
  {
   "cell_type": "code",
   "execution_count": 0,
   "metadata": {
    "colab": {
     "autoexec": {
      "startup": false,
      "wait_interval": 0
     }
    },
    "colab_type": "code",
    "collapsed": true,
    "id": "aviRv_YR2f1D"
   },
   "outputs": [],
   "source": [
    "table = your_name_history('John')\n",
    "\n",
    "table.plot()"
   ]
  },
  {
   "cell_type": "markdown",
   "metadata": {
    "colab_type": "text",
    "id": "-mNv9MLq2f1F"
   },
   "source": [
    "## Bar Graphs\n",
    "\n",
    "We can modify our data before we graph it to analyze different things."
   ]
  },
  {
   "cell_type": "code",
   "execution_count": 0,
   "metadata": {
    "colab": {
     "autoexec": {
      "startup": false,
      "wait_interval": 0
     }
    },
    "colab_type": "code",
    "collapsed": true,
    "id": "H8-SJvvd2f1G"
   },
   "outputs": [],
   "source": [
    "yearly_data.plot(kind=\"bar\")\n",
    "plt.axis('off')"
   ]
  },
  {
   "cell_type": "markdown",
   "metadata": {
    "colab_type": "text",
    "id": "yoUhuR8B2f1I"
   },
   "source": [
    "<font color=\"blue\">Class Exercise:</font> How could we graph only the 15 years after World War II (i.e. 1945-1960)?\n",
    "\n",
    "Hint: create a table with only the desired years first"
   ]
  },
  {
   "cell_type": "code",
   "execution_count": 0,
   "metadata": {
    "colab": {
     "autoexec": {
      "startup": false,
      "wait_interval": 0
     }
    },
    "colab_type": "code",
    "collapsed": true,
    "id": "7tivYkt42f1J"
   },
   "outputs": [],
   "source": [
    "modified = yearly_data.loc[...]\n",
    "\n",
    "modified.plot(...)"
   ]
  },
  {
   "cell_type": "markdown",
   "metadata": {
    "colab_type": "text",
    "id": "LiogwUGOe0iQ"
   },
   "source": [
    "# <font color=\"blue\" id=\"3\">Matplotlib</font>\n"
   ]
  },
  {
   "cell_type": "markdown",
   "metadata": {
    "colab_type": "text",
    "id": "-2ZtLz1enKXC"
   },
   "source": [
    "## Line Graphs\n",
    "Use [`plt.plot()`](https://matplotlib.org/api/_as_gen/matplotlib.pyplot.plot.html) to create line graphs! The required arguments are a list of x-values and a list of y-values."
   ]
  },
  {
   "cell_type": "code",
   "execution_count": 0,
   "metadata": {
    "colab": {
     "autoexec": {
      "startup": false,
      "wait_interval": 0
     }
    },
    "colab_type": "code",
    "collapsed": true,
    "id": "16Lealc-tWLs"
   },
   "outputs": [],
   "source": [
    "np.random.seed(42) # To ensure that the random number generation is always the same\n",
    "plt.plot(np.arange(0, 7, 1), np.random.rand(7, 1))\n",
    "plt.show()"
   ]
  },
  {
   "cell_type": "code",
   "execution_count": 0,
   "metadata": {
    "colab": {
     "autoexec": {
      "startup": false,
      "wait_interval": 0
     }
    },
    "colab_type": "code",
    "collapsed": true,
    "id": "sZpY8MpECB1T"
   },
   "outputs": [],
   "source": [
    "%matplotlib inline\n",
    "\n",
    "plt.plot(np.arange(0, 7, 1), np.random.rand(7, 1))\n",
    "# plt.show() no longer required"
   ]
  },
  {
   "cell_type": "markdown",
   "metadata": {
    "colab_type": "text",
    "id": "EWr_iep0Bwz0"
   },
   "source": [
    "## Histograms\n",
    "To explore other types of charts, let's load in a built-in dataset from Seaborn and first take a quick peek:"
   ]
  },
  {
   "cell_type": "code",
   "execution_count": 0,
   "metadata": {
    "colab": {
     "autoexec": {
      "startup": false,
      "wait_interval": 0
     }
    },
    "colab_type": "code",
    "collapsed": true,
    "id": "Ej4xOo-8e0iR"
   },
   "outputs": [],
   "source": [
    "tips = sns.load_dataset('tips')\n",
    "tips.head()"
   ]
  },
  {
   "cell_type": "markdown",
   "metadata": {
    "colab_type": "text",
    "id": "TqUS4_gNCRTW"
   },
   "source": [
    "Histograms can be plotted in matplotlib using [`plt.hist()`](https://matplotlib.org/api/_as_gen/matplotlib.pyplot.hist.html).\n",
    "This will take one required argument of the x-axis variable."
   ]
  },
  {
   "cell_type": "code",
   "execution_count": 0,
   "metadata": {
    "colab": {
     "autoexec": {
      "startup": false,
      "wait_interval": 0
     }
    },
    "colab_type": "code",
    "collapsed": true,
    "id": "4pJa4rJ9e0iT"
   },
   "outputs": [],
   "source": [
    "plt.hist(tips['total_bill'])"
   ]
  },
  {
   "cell_type": "markdown",
   "metadata": {
    "colab_type": "text",
    "id": "HTxlON0RCjz5"
   },
   "source": [
    "## Scatterplots\n",
    "Scatterplots can be made using [`plt.scatter()`](https://matplotlib.org/api/_as_gen/matplotlib.pyplot.scatter.html). It takes in two arguments: x-values and y-values."
   ]
  },
  {
   "cell_type": "code",
   "execution_count": 0,
   "metadata": {
    "colab": {
     "autoexec": {
      "startup": false,
      "wait_interval": 0
     }
    },
    "colab_type": "code",
    "collapsed": true,
    "id": "8GTW8W6ce0iW"
   },
   "outputs": [],
   "source": [
    "plt.scatter(tips['total_bill'], tips['tip'])"
   ]
  },
  {
   "cell_type": "code",
   "execution_count": 0,
   "metadata": {
    "colab": {
     "autoexec": {
      "startup": false,
      "wait_interval": 0
     }
    },
    "colab_type": "code",
    "collapsed": true,
    "id": "BFDO_IPbny3E"
   },
   "outputs": [],
   "source": [
    "plt.scatter(tips['total_bill'], tips['tip'])\n",
    "plt.xlabel('Total Bill')\n",
    "plt.ylabel('Tip Amount')\n",
    "plt.title('Total Bill vs Tip Amount')"
   ]
  },
  {
   "cell_type": "code",
   "execution_count": 0,
   "metadata": {
    "colab": {
     "autoexec": {
      "startup": false,
      "wait_interval": 0
     }
    },
    "colab_type": "code",
    "collapsed": true,
    "id": "SUjj2Q8ioCkn"
   },
   "outputs": [],
   "source": [
    "plt.figure(figsize=(15, 10)) # Increase the size of the returned plot\n",
    "\n",
    "# Points with smoker == 'yes'\n",
    "plt.scatter(x=tips.loc[tips['smoker'] == 'Yes', 'total_bill'], \n",
    "            y=tips.loc[tips['smoker'] == 'Yes', 'tip'],\n",
    "            label='Smoker', alpha=0.6)\n",
    "\n",
    "# Points with smoker == 'no'\n",
    "plt.scatter(x=tips.loc[tips['smoker'] == 'No', 'total_bill'], \n",
    "            y=tips.loc[tips['smoker'] == 'No', 'tip'],\n",
    "            label='Non-Smoker', alpha=0.6)\n",
    "\n",
    "plt.xlabel('Total Bill')\n",
    "plt.ylabel('Tip Amount')\n",
    "plt.title('Total Bill vs Tip Amount (by Smoking Habits)')\n",
    "plt.legend()"
   ]
  },
  {
   "cell_type": "markdown",
   "metadata": {
    "colab_type": "text",
    "id": "YzllZgzE-VPZ"
   },
   "source": [
    "## Exercises in Matplotlib\n",
    "We'll do the exercises using a famous dataset: [the iris dataset](https://archive.ics.uci.edu/ml/datasets/iris).\n",
    "First, let's load it in and take a look:"
   ]
  },
  {
   "cell_type": "code",
   "execution_count": 0,
   "metadata": {
    "colab": {
     "autoexec": {
      "startup": false,
      "wait_interval": 0
     }
    },
    "colab_type": "code",
    "collapsed": true,
    "id": "RQ1x2_Jy3doe"
   },
   "outputs": [],
   "source": [
    "iris = sns.load_dataset('iris')\n",
    "iris.head()"
   ]
  },
  {
   "cell_type": "markdown",
   "metadata": {
    "colab_type": "text",
    "id": "bJZjdrUkDZ3i"
   },
   "source": [
    "![alt text](https://www.wpclipart.com/plants/diagrams/plant_parts/petal_sepal_label.png)\n",
    "\n",
    "Let's also take a look at the different species:"
   ]
  },
  {
   "cell_type": "code",
   "execution_count": 0,
   "metadata": {
    "colab": {
     "autoexec": {
      "startup": false,
      "wait_interval": 0
     }
    },
    "colab_type": "code",
    "collapsed": true,
    "id": "0aI3nDIW6Ozo"
   },
   "outputs": [],
   "source": [
    "iris['species'].unique()"
   ]
  },
  {
   "cell_type": "markdown",
   "metadata": {
    "colab_type": "text",
    "id": "MC3DvG2SAR0a"
   },
   "source": [
    "<font color=\"blue\">Exercise:</font> Create a basic scatterplot of the petal lengths versus the petal widths. Label your axes (use the documentation linked above to make them meaningful)!"
   ]
  },
  {
   "cell_type": "code",
   "execution_count": 0,
   "metadata": {
    "colab": {
     "autoexec": {
      "startup": false,
      "wait_interval": 0
     }
    },
    "colab_type": "code",
    "collapsed": true,
    "id": "qS9NAkre3hRZ"
   },
   "outputs": [],
   "source": [
    "..."
   ]
  },
  {
   "cell_type": "markdown",
   "metadata": {
    "colab_type": "text",
    "id": "IwPdSNs9-oED"
   },
   "source": [
    "<font color=\"blue\">Exercise:</font> This time, create the same scatterplot, but assign a different color for each flower species."
   ]
  },
  {
   "cell_type": "code",
   "execution_count": 0,
   "metadata": {
    "colab": {
     "autoexec": {
      "startup": false,
      "wait_interval": 0
     }
    },
    "colab_type": "code",
    "collapsed": true,
    "id": "xThavmbXwB7T"
   },
   "outputs": [],
   "source": [
    "plt.scatter(...)\n",
    "plt.scatter(...)\n",
    "plt.scatter(...)\n",
    "plt.legend()"
   ]
  },
  {
   "cell_type": "code",
   "execution_count": 0,
   "metadata": {
    "colab": {
     "autoexec": {
      "startup": false,
      "wait_interval": 0
     }
    },
    "colab_type": "code",
    "collapsed": true,
    "id": "wgGVZruE-_Ep"
   },
   "outputs": [],
   "source": [
    "def plot_by_species(species, x, y):\n",
    "    plt.scatter(x=iris.loc[iris['species'] == species, x],\n",
    "             y=iris.loc[iris['species'] == species, y],\n",
    "             label=species)\n",
    "\n",
    "for species in iris['species'].unique():\n",
    "    plot_by_species(species, 'sepal_length', 'sepal_width')\n",
    "\n",
    "plt.xlabel('Sepal Length (cm)')\n",
    "plt.ylabel('Sepal Width (cm)')\n",
    "plt.title('Sepal Length vs Sepal Width (by Species)')\n",
    "plt.legend()"
   ]
  },
  {
   "cell_type": "markdown",
   "metadata": {
    "colab_type": "text",
    "id": "-uBJD0Jfe0ia"
   },
   "source": [
    "# <font id=\"4\" color=\"blue\"> Seaborn</font>"
   ]
  },
  {
   "cell_type": "markdown",
   "metadata": {
    "colab_type": "text",
    "id": "6514TXVBEI5h"
   },
   "source": [
    "## Histogram\n",
    "Back to the tips dataset to explore seaborn! First off is seaborn's take on the histogram, [`sns.distplot()`](https://seaborn.pydata.org/generated/seaborn.distplot.html#seaborn.distplot). By default, it shows a relative distribution and overlays a *kernel density estimator*; if you would like seaborn to just show a plain histogram, you can add the argument `kde=False`."
   ]
  },
  {
   "cell_type": "code",
   "execution_count": 0,
   "metadata": {
    "colab": {
     "autoexec": {
      "startup": false,
      "wait_interval": 0
     }
    },
    "colab_type": "code",
    "collapsed": true,
    "id": "Dn-eM_Cpe0iV"
   },
   "outputs": [],
   "source": [
    "plt.figure(figsize=(15, 10))\n",
    "plt.subplot(1, 2, 1)\n",
    "sns.distplot(tips['total_bill'])\n",
    "\n",
    "plt.subplot(1, 2, 2)\n",
    "sns.distplot(tips['total_bill'], kde=False)"
   ]
  },
  {
   "cell_type": "markdown",
   "metadata": {
    "colab_type": "text",
    "id": "fRBkrWzVFTu-"
   },
   "source": [
    "## Scatterplot\n",
    "To create a scatterplot using seaborn, you can use [`sns.lmplot()`](https://seaborn.pydata.org/generated/seaborn.lmplot.html#seaborn.lmplot). It'll take x-values and y-values, and overlay a least-squares regression line and standard deviation\n",
    "\n",
    "Note: You can use pandas indexing, but check out the fancy ability to refer to columns by their names instead."
   ]
  },
  {
   "cell_type": "code",
   "execution_count": 0,
   "metadata": {
    "colab": {
     "autoexec": {
      "startup": false,
      "wait_interval": 0
     }
    },
    "colab_type": "code",
    "collapsed": true,
    "id": "sXgkjX8te0ib"
   },
   "outputs": [],
   "source": [
    "sns.lmplot(x='total_bill', y='tip', data=tips)"
   ]
  },
  {
   "cell_type": "markdown",
   "metadata": {
    "colab_type": "text",
    "id": "ZW4r1erLGgzc"
   },
   "source": [
    "Let's do that same plot from earlier, where we faceted by smoker. It's a lot easier in seaborn, since we only need to pass in an additional argument of `hue`:"
   ]
  },
  {
   "cell_type": "code",
   "execution_count": 0,
   "metadata": {
    "colab": {
     "autoexec": {
      "startup": false,
      "wait_interval": 0
     }
    },
    "colab_type": "code",
    "collapsed": true,
    "id": "MoLshOpxGr02"
   },
   "outputs": [],
   "source": [
    "sns.lmplot(x='total_bill', y='tip', hue='smoker', data=tips)"
   ]
  },
  {
   "cell_type": "markdown",
   "metadata": {
    "colab_type": "text",
    "id": "HgznnaQdG304"
   },
   "source": [
    "Cool. Do smokers' and non-smokers' generosities differ by day of the week? Let's try out the `row` and `col` (column) arguments:"
   ]
  },
  {
   "cell_type": "code",
   "execution_count": 0,
   "metadata": {
    "colab": {
     "autoexec": {
      "startup": false,
      "wait_interval": 0
     }
    },
    "colab_type": "code",
    "collapsed": true,
    "id": "Kv62tNvEHjKa"
   },
   "outputs": [],
   "source": [
    "sns.lmplot(x='total_bill', y='tip', row='time', col='smoker', data=tips)"
   ]
  },
  {
   "cell_type": "markdown",
   "metadata": {
    "colab_type": "text",
    "id": "KGl6dImrIk37"
   },
   "source": [
    "## Seaborn Exercises\n",
    "<font color=\"blue\">Exercise:</font> Your turn! Create a histogram of the petal widths in the `iris` dataset."
   ]
  },
  {
   "cell_type": "code",
   "execution_count": 0,
   "metadata": {
    "colab": {
     "autoexec": {
      "startup": false,
      "wait_interval": 0
     }
    },
    "colab_type": "code",
    "collapsed": true,
    "id": "Appp7qlrIzyt"
   },
   "outputs": [],
   "source": [
    "..."
   ]
  },
  {
   "cell_type": "markdown",
   "metadata": {
    "colab_type": "text",
    "id": "zl6mXmQuJCdE"
   },
   "source": [
    "<font color=\"blue\">Exercise:</font> Now try to create a scatterplot of petal lengths versus petal widths, and color the points based on the species of flowers. Feel free to turn off the regression line using `fit_reg=False`."
   ]
  },
  {
   "cell_type": "code",
   "execution_count": 0,
   "metadata": {
    "colab": {
     "autoexec": {
      "startup": false,
      "wait_interval": 0
     }
    },
    "colab_type": "code",
    "collapsed": true,
    "id": "BYIBYEW_JP3B"
   },
   "outputs": [],
   "source": [
    "..."
   ]
  },
  {
   "cell_type": "markdown",
   "metadata": {
    "colab_type": "text",
    "id": "Wn-pFnIV2f2H"
   },
   "source": [
    "That's the end of our workshop.\n",
    "\n",
    "We hope you learned something. Keep this notebook handy for reference later!\n",
    "\n",
    "## Hope to see you at our workshop next week: Python Modeling\n",
    "\n",
    "<img width=\"120\" src=\"https://dss.berkeley.edu/static/img/logo.jpg\"/>"
   ]
  }
 ],
 "metadata": {
  "colab": {
   "default_view": {},
   "name": "Python_Libraries_Workshop.ipynb",
   "provenance": [],
   "version": "0.3.2",
   "views": {}
  },
  "kernelspec": {
   "display_name": "Python 3",
   "language": "python",
   "name": "python3"
  },
  "language_info": {
   "codemirror_mode": {
    "name": "ipython",
    "version": 3
   },
   "file_extension": ".py",
   "mimetype": "text/x-python",
   "name": "python",
   "nbconvert_exporter": "python",
   "pygments_lexer": "ipython3",
   "version": "3.6.1"
  }
 },
 "nbformat": 4,
 "nbformat_minor": 1
}
