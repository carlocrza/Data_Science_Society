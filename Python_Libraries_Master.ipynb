{
 "cells": [
  {
   "cell_type": "markdown",
   "metadata": {
    "colab_type": "text",
    "id": "QZDvTBLpe0gZ"
   },
   "source": [
    "# Python Libraries Interactive Notebook"
   ]
  },
  {
   "cell_type": "markdown",
   "metadata": {
    "colab_type": "text",
    "id": "P8BA_WzFe0ga"
   },
   "source": [
    "Today, we will be learning about four fundamental python libraries. These are widely used and plenty of documentation can be found online. Don't be afraid to search Google/Stack Overflow!\n",
    "\n",
    "**These are the solutions! To work on the interactive notebook yourself, click here: [Python_Libraries_Workshop.ipynb](https://cdn.rawgit.com/carlocrza/Data_Science_Society/b180c281/Python_Libraries_Workshop.ipynb).**\n",
    "\n",
    "1. Numpy: https://docs.scipy.org/doc/numpy-dev/user/index.html\n",
    "- Pandas: http://pandas.pydata.org/pandas-docs/stable/\n",
    "- Matplotlib: https://matplotlib.org/2.1.2/index.html\n",
    "- Seaborn: https://seaborn.pydata.org/"
   ]
  },
  {
   "cell_type": "markdown",
   "metadata": {
    "colab_type": "text",
    "id": "iBbk4cSN2fxY"
   },
   "source": [
    "# Table of Contents\n",
    "\n",
    "I. [Numpy](#1)<br>\n",
    "II. [Pandas](#2)<br>\n",
    "III. [Plot with Pandas](#2.5)<br>\n",
    "IV. [Matplotlib](#3)<br>\n",
    "V. [Seaborn](#4)"
   ]
  },
  {
   "cell_type": "markdown",
   "metadata": {
    "colab_type": "text",
    "id": "q2V2DMrre0gb"
   },
   "source": [
    "### Jupyter Notebook Recap"
   ]
  },
  {
   "cell_type": "markdown",
   "metadata": {
    "colab_type": "text",
    "id": "d4uBEZHte0gc"
   },
   "source": [
    "`To run a cell: select cell, press SHIFT + ENTER`\n",
    "\n",
    "The last line of a cell is always displayed"
   ]
  },
  {
   "cell_type": "code",
   "execution_count": 2,
   "metadata": {
    "colab": {
     "autoexec": {
      "startup": false,
      "wait_interval": 0
     },
     "base_uri": "https://localhost:8080/",
     "height": 34,
     "output_extras": [
      {}
     ]
    },
    "colab_type": "code",
    "executionInfo": {
     "elapsed": 371,
     "status": "ok",
     "timestamp": 1519705787716,
     "user": {
      "displayName": "Carlo C.",
      "photoUrl": "//lh6.googleusercontent.com/-Oz6qj713Ejc/AAAAAAAAAAI/AAAAAAAAAlc/CuM0wKBfCwg/s50-c-k-no/photo.jpg",
      "userId": "101126728090140711345"
     },
     "user_tz": 480
    },
    "id": "1huIpySee0gc",
    "outputId": "482a3c22-37e8-4937-964a-ba87ed46f43c"
   },
   "outputs": [
    {
     "data": {
      "text/plain": [
       "'this will be displayed'"
      ]
     },
     "execution_count": 2,
     "metadata": {},
     "output_type": "execute_result"
    }
   ],
   "source": [
    "\"this will NOT be displayed\"\n",
    "\"this will be displayed\""
   ]
  },
  {
   "cell_type": "markdown",
   "metadata": {
    "colab_type": "text",
    "id": "nCC86eVwimDX"
   },
   "source": [
    "If cells contain `...` we expect you to replace `...` with your code :)"
   ]
  },
  {
   "cell_type": "markdown",
   "metadata": {
    "colab_type": "text",
    "id": "4piuoUK8e0gm"
   },
   "source": [
    "## Import"
   ]
  },
  {
   "cell_type": "markdown",
   "metadata": {
    "colab_type": "text",
    "id": "9vL0-jC6e0gn"
   },
   "source": [
    "`numpy`, `pandas`, `matplotlib`, and `seaborn` are made by other people! We need to `import` these modules in order to use them."
   ]
  },
  {
   "cell_type": "code",
   "execution_count": 3,
   "metadata": {
    "colab": {
     "autoexec": {
      "startup": false,
      "wait_interval": 0
     }
    },
    "colab_type": "code",
    "collapsed": true,
    "id": "1ACtTUt6e0gn"
   },
   "outputs": [],
   "source": [
    "import numpy as np\n",
    "import matplotlib.pyplot as plt\n",
    "import pandas as pd\n",
    "import seaborn as sns\n",
    "# %matplotlib inline\n",
    "# sns.set()"
   ]
  },
  {
   "cell_type": "markdown",
   "metadata": {
    "colab_type": "text",
    "id": "N-QKcotGe0gs"
   },
   "source": [
    "# <font id=\"1\" color=\"blue\">Numpy</font>"
   ]
  },
  {
   "cell_type": "markdown",
   "metadata": {
    "colab_type": "text",
    "id": "334Iu_uZe0gt"
   },
   "source": [
    "<tr><td>\n",
    "<img src=\"http://rickizzo.com/images/posts/2017-12-19/numpy.jpeg\"/></td>\n",
    "\n",
    "<td style=\"text-align:left\">Numpy's main use is ```np.array```\n",
    "<br><br>\n",
    "Numpy arrays take less space than built-in lists and come with a **wide variety of useful functions.**</td></tr>"
   ]
  },
  {
   "cell_type": "code",
   "execution_count": 4,
   "metadata": {
    "colab": {
     "autoexec": {
      "startup": false,
      "wait_interval": 0
     },
     "base_uri": "https://localhost:8080/",
     "height": 34,
     "output_extras": [
      {}
     ]
    },
    "colab_type": "code",
    "executionInfo": {
     "elapsed": 368,
     "status": "ok",
     "timestamp": 1519705849560,
     "user": {
      "displayName": "Carlo C.",
      "photoUrl": "//lh6.googleusercontent.com/-Oz6qj713Ejc/AAAAAAAAAAI/AAAAAAAAAlc/CuM0wKBfCwg/s50-c-k-no/photo.jpg",
      "userId": "101126728090140711345"
     },
     "user_tz": 480
    },
    "id": "KqrCVzK0e0gu",
    "outputId": "5d1b704b-df5e-4b26-cc5b-5fbcd27ab854"
   },
   "outputs": [
    {
     "data": {
      "text/plain": [
       "array([2, 3, 4])"
      ]
     },
     "execution_count": 4,
     "metadata": {},
     "output_type": "execute_result"
    }
   ],
   "source": [
    "# make an array\n",
    "a = np.array([2,3,4])\n",
    "a"
   ]
  },
  {
   "cell_type": "code",
   "execution_count": 5,
   "metadata": {
    "colab": {
     "autoexec": {
      "startup": false,
      "wait_interval": 0
     },
     "base_uri": "https://localhost:8080/",
     "height": 68,
     "output_extras": [
      {}
     ]
    },
    "colab_type": "code",
    "executionInfo": {
     "elapsed": 285,
     "status": "ok",
     "timestamp": 1519705850332,
     "user": {
      "displayName": "Carlo C.",
      "photoUrl": "//lh6.googleusercontent.com/-Oz6qj713Ejc/AAAAAAAAAAI/AAAAAAAAAlc/CuM0wKBfCwg/s50-c-k-no/photo.jpg",
      "userId": "101126728090140711345"
     },
     "user_tz": 480
    },
    "id": "_OxDc_Qre0gz",
    "outputId": "950b7ae8-069b-407d-8348-30f4eee44b3c"
   },
   "outputs": [
    {
     "data": {
      "text/plain": [
       "array([[1, 2, 3],\n",
       "       [4, 5, 6],\n",
       "       [7, 8, 9]])"
      ]
     },
     "execution_count": 5,
     "metadata": {},
     "output_type": "execute_result"
    }
   ],
   "source": [
    "# make a 2-dimensional array (matrix)\n",
    "matrix = np.array([ [1,2,3],\n",
    "                    [4,5,6],\n",
    "                    [7,8,9] ])\n",
    "matrix"
   ]
  },
  {
   "cell_type": "markdown",
   "metadata": {
    "colab_type": "text",
    "id": "YUJd8sOfkbf7"
   },
   "source": [
    "Linear Algebra!"
   ]
  },
  {
   "cell_type": "code",
   "execution_count": 6,
   "metadata": {
    "colab": {
     "autoexec": {
      "startup": false,
      "wait_interval": 0
     },
     "base_uri": "https://localhost:8080/",
     "height": 34,
     "output_extras": [
      {}
     ]
    },
    "colab_type": "code",
    "executionInfo": {
     "elapsed": 361,
     "status": "ok",
     "timestamp": 1519705851716,
     "user": {
      "displayName": "Carlo C.",
      "photoUrl": "//lh6.googleusercontent.com/-Oz6qj713Ejc/AAAAAAAAAAI/AAAAAAAAAlc/CuM0wKBfCwg/s50-c-k-no/photo.jpg",
      "userId": "101126728090140711345"
     },
     "user_tz": 480
    },
    "id": "2cy7u0Ace0g4",
    "outputId": "75126bf6-1e67-4bc0-f716-b65fa4f65238"
   },
   "outputs": [
    {
     "data": {
      "text/plain": [
       "array([20, 47, 74])"
      ]
     },
     "execution_count": 6,
     "metadata": {},
     "output_type": "execute_result"
    }
   ],
   "source": [
    "# you can multiply matrices with np.dot\n",
    "np.dot(matrix, a)"
   ]
  },
  {
   "cell_type": "markdown",
   "metadata": {
    "colab_type": "text",
    "id": "gD3NKRYAe0g-"
   },
   "source": [
    "### Arithmetic with numpy!"
   ]
  },
  {
   "cell_type": "markdown",
   "metadata": {
    "colab_type": "text",
    "id": "2Feq-FrUe0g_"
   },
   "source": [
    "**You can add/subtract/multiply/divide with numpy arrays!** You *cannot* do this with built-in python lists."
   ]
  },
  {
   "cell_type": "code",
   "execution_count": 7,
   "metadata": {
    "colab": {
     "autoexec": {
      "startup": false,
      "wait_interval": 0
     },
     "base_uri": "https://localhost:8080/",
     "height": 34,
     "output_extras": [
      {}
     ]
    },
    "colab_type": "code",
    "executionInfo": {
     "elapsed": 308,
     "status": "ok",
     "timestamp": 1519705854867,
     "user": {
      "displayName": "Carlo C.",
      "photoUrl": "//lh6.googleusercontent.com/-Oz6qj713Ejc/AAAAAAAAAAI/AAAAAAAAAlc/CuM0wKBfCwg/s50-c-k-no/photo.jpg",
      "userId": "101126728090140711345"
     },
     "user_tz": 480
    },
    "id": "bMJGzUr9e0hA",
    "outputId": "a78f5c89-5b16-404e-db25-816b14915618"
   },
   "outputs": [
    {
     "data": {
      "text/plain": [
       "array([7, 8, 9])"
      ]
     },
     "execution_count": 7,
     "metadata": {},
     "output_type": "execute_result"
    }
   ],
   "source": [
    "a + 5"
   ]
  },
  {
   "cell_type": "code",
   "execution_count": 8,
   "metadata": {
    "colab": {
     "autoexec": {
      "startup": false,
      "wait_interval": 0
     },
     "base_uri": "https://localhost:8080/",
     "height": 34,
     "output_extras": [
      {}
     ]
    },
    "colab_type": "code",
    "executionInfo": {
     "elapsed": 474,
     "status": "ok",
     "timestamp": 1519705855949,
     "user": {
      "displayName": "Carlo C.",
      "photoUrl": "//lh6.googleusercontent.com/-Oz6qj713Ejc/AAAAAAAAAAI/AAAAAAAAAlc/CuM0wKBfCwg/s50-c-k-no/photo.jpg",
      "userId": "101126728090140711345"
     },
     "user_tz": 480
    },
    "id": "HuOA_Ib-e0hH",
    "outputId": "27a333d7-13c9-4d11-d407-baa4ffff3d2e"
   },
   "outputs": [
    {
     "data": {
      "text/plain": [
       "array([-2, -3, -4])"
      ]
     },
     "execution_count": 8,
     "metadata": {},
     "output_type": "execute_result"
    }
   ],
   "source": [
    "a * -1"
   ]
  },
  {
   "cell_type": "code",
   "execution_count": 9,
   "metadata": {
    "colab": {
     "autoexec": {
      "startup": false,
      "wait_interval": 0
     },
     "base_uri": "https://localhost:8080/",
     "height": 34,
     "output_extras": [
      {}
     ]
    },
    "colab_type": "code",
    "executionInfo": {
     "elapsed": 482,
     "status": "ok",
     "timestamp": 1519705856895,
     "user": {
      "displayName": "Carlo C.",
      "photoUrl": "//lh6.googleusercontent.com/-Oz6qj713Ejc/AAAAAAAAAAI/AAAAAAAAAlc/CuM0wKBfCwg/s50-c-k-no/photo.jpg",
      "userId": "101126728090140711345"
     },
     "user_tz": 480
    },
    "id": "rbOu-7M9e0hO",
    "outputId": "03994f29-cbaa-4a5d-e8d8-d4c7cbfd2fd0"
   },
   "outputs": [
    {
     "data": {
      "text/plain": [
       "array([5, 5, 5])"
      ]
     },
     "execution_count": 9,
     "metadata": {},
     "output_type": "execute_result"
    }
   ],
   "source": [
    "b = np.array([3, 2, 1])\n",
    "a + b"
   ]
  },
  {
   "cell_type": "markdown",
   "metadata": {
    "colab_type": "text",
    "id": "w8eEBhEwe0hS"
   },
   "source": [
    "If you try to perform operations on two arrays of different lengths, <span style=\"color:red\">an error will occur.</span> Try running the following cell!"
   ]
  },
  {
   "cell_type": "code",
   "execution_count": 10,
   "metadata": {
    "colab": {
     "autoexec": {
      "startup": false,
      "wait_interval": 0
     },
     "base_uri": "https://localhost:8080/",
     "height": 164,
     "output_extras": [
      {}
     ]
    },
    "colab_type": "code",
    "executionInfo": {
     "elapsed": 293,
     "status": "error",
     "timestamp": 1519705858268,
     "user": {
      "displayName": "Carlo C.",
      "photoUrl": "//lh6.googleusercontent.com/-Oz6qj713Ejc/AAAAAAAAAAI/AAAAAAAAAlc/CuM0wKBfCwg/s50-c-k-no/photo.jpg",
      "userId": "101126728090140711345"
     },
     "user_tz": 480
    },
    "id": "c_p24Seae0hT",
    "outputId": "49042b5f-5f06-4723-f89c-cb9bf48670b7"
   },
   "outputs": [
    {
     "ename": "ValueError",
     "evalue": "operands could not be broadcast together with shapes (3,) (4,) ",
     "output_type": "error",
     "traceback": [
      "\u001b[0;31m---------------------------------------------------------------------------\u001b[0m",
      "\u001b[0;31mValueError\u001b[0m                                Traceback (most recent call last)",
      "\u001b[0;32m<ipython-input-10-01af955792b6>\u001b[0m in \u001b[0;36m<module>\u001b[0;34m()\u001b[0m\n\u001b[1;32m      1\u001b[0m \u001b[0;31m# Run me!\u001b[0m\u001b[0;34m\u001b[0m\u001b[0;34m\u001b[0m\u001b[0m\n\u001b[0;32m----> 2\u001b[0;31m \u001b[0mb\u001b[0m \u001b[0;34m+\u001b[0m \u001b[0mnp\u001b[0m\u001b[0;34m.\u001b[0m\u001b[0marray\u001b[0m\u001b[0;34m(\u001b[0m\u001b[0;34m[\u001b[0m\u001b[0;36m1\u001b[0m\u001b[0;34m,\u001b[0m \u001b[0;36m2\u001b[0m\u001b[0;34m,\u001b[0m \u001b[0;36m3\u001b[0m\u001b[0;34m,\u001b[0m \u001b[0;36m4\u001b[0m\u001b[0;34m]\u001b[0m\u001b[0;34m)\u001b[0m\u001b[0;34m\u001b[0m\u001b[0m\n\u001b[0m",
      "\u001b[0;31mValueError\u001b[0m: operands could not be broadcast together with shapes (3,) (4,) "
     ]
    }
   ],
   "source": [
    "# Run me!\n",
    "b + np.array([1, 2, 3, 4])"
   ]
  },
  {
   "cell_type": "markdown",
   "metadata": {
    "colab_type": "text",
    "id": "N3s3TJoDe0hZ"
   },
   "source": [
    "Use ```len( array )``` to find length of array."
   ]
  },
  {
   "cell_type": "code",
   "execution_count": 11,
   "metadata": {
    "colab": {
     "autoexec": {
      "startup": false,
      "wait_interval": 0
     },
     "base_uri": "https://localhost:8080/",
     "height": 34,
     "output_extras": [
      {}
     ]
    },
    "colab_type": "code",
    "executionInfo": {
     "elapsed": 342,
     "status": "ok",
     "timestamp": 1519705869916,
     "user": {
      "displayName": "Carlo C.",
      "photoUrl": "//lh6.googleusercontent.com/-Oz6qj713Ejc/AAAAAAAAAAI/AAAAAAAAAlc/CuM0wKBfCwg/s50-c-k-no/photo.jpg",
      "userId": "101126728090140711345"
     },
     "user_tz": 480
    },
    "id": "zzpowKgAe0hZ",
    "outputId": "65ad8543-0e58-4573-a572-b85f51cc6a80"
   },
   "outputs": [
    {
     "data": {
      "text/plain": [
       "3"
      ]
     },
     "execution_count": 11,
     "metadata": {},
     "output_type": "execute_result"
    }
   ],
   "source": [
    "len(b)"
   ]
  },
  {
   "cell_type": "code",
   "execution_count": 12,
   "metadata": {
    "colab": {
     "autoexec": {
      "startup": false,
      "wait_interval": 0
     },
     "base_uri": "https://localhost:8080/",
     "height": 34,
     "output_extras": [
      {}
     ]
    },
    "colab_type": "code",
    "executionInfo": {
     "elapsed": 401,
     "status": "ok",
     "timestamp": 1519705870538,
     "user": {
      "displayName": "Carlo C.",
      "photoUrl": "//lh6.googleusercontent.com/-Oz6qj713Ejc/AAAAAAAAAAI/AAAAAAAAAlc/CuM0wKBfCwg/s50-c-k-no/photo.jpg",
      "userId": "101126728090140711345"
     },
     "user_tz": 480
    },
    "id": "fLnxxOIve0hd",
    "outputId": "52164072-7287-4347-e9f9-3eed65193fd1"
   },
   "outputs": [
    {
     "data": {
      "text/plain": [
       "4"
      ]
     },
     "execution_count": 12,
     "metadata": {},
     "output_type": "execute_result"
    }
   ],
   "source": [
    "len(np.array([1, 2, 3, 4]))"
   ]
  },
  {
   "cell_type": "markdown",
   "metadata": {
    "colab_type": "text",
    "id": "CtFaFBkCAiH-"
   },
   "source": [
    "Conditionals apply to every element of a numpy array as well. This will come in handy later!"
   ]
  },
  {
   "cell_type": "code",
   "execution_count": 13,
   "metadata": {
    "colab": {
     "autoexec": {
      "startup": false,
      "wait_interval": 0
     },
     "base_uri": "https://localhost:8080/",
     "height": 34,
     "output_extras": [
      {}
     ]
    },
    "colab_type": "code",
    "executionInfo": {
     "elapsed": 348,
     "status": "ok",
     "timestamp": 1519713944933,
     "user": {
      "displayName": "Carlo C.",
      "photoUrl": "//lh6.googleusercontent.com/-Oz6qj713Ejc/AAAAAAAAAAI/AAAAAAAAAlc/CuM0wKBfCwg/s50-c-k-no/photo.jpg",
      "userId": "101126728090140711345"
     },
     "user_tz": 480
    },
    "id": "IY2xfJ7wAXgk",
    "outputId": "d7dabaac-7b4f-464d-bfe7-74060abd48a8"
   },
   "outputs": [
    {
     "data": {
      "text/plain": [
       "array([ True, False, False,  True,  True], dtype=bool)"
      ]
     },
     "execution_count": 13,
     "metadata": {},
     "output_type": "execute_result"
    }
   ],
   "source": [
    "a = np.array([1, 2, 3, 1, 1])\n",
    "a == 1"
   ]
  },
  {
   "cell_type": "markdown",
   "metadata": {
    "colab_type": "text",
    "id": "QdtcprtGe0hg"
   },
   "source": [
    "### Essential array functions"
   ]
  },
  {
   "cell_type": "markdown",
   "metadata": {
    "colab_type": "text",
    "id": "p2iSISdVh30G"
   },
   "source": [
    "Why do we use Numpy? **Numpy provides a multitude of useful functions for arrays.** We'll teach you a few (many more exist!)\n",
    "\n",
    "<font color=\"blue\">Exercise:</font> Search online how to find the mean of a numpy array."
   ]
  },
  {
   "cell_type": "code",
   "execution_count": 14,
   "metadata": {
    "colab": {
     "autoexec": {
      "startup": false,
      "wait_interval": 0
     }
    },
    "colab_type": "code",
    "collapsed": true,
    "id": "HLTiXnMo2fyQ"
   },
   "outputs": [],
   "source": [
    "x = np.array([1, 5, -7, 18, 1, -2, 4])"
   ]
  },
  {
   "cell_type": "code",
   "execution_count": 15,
   "metadata": {
    "colab": {
     "autoexec": {
      "startup": false,
      "wait_interval": 0
     }
    },
    "colab_type": "code",
    "collapsed": true,
    "id": "277l9mS2ifDK"
   },
   "outputs": [],
   "source": [
    "# Find the mean of array x\n",
    "x_mean = np.mean(x)"
   ]
  },
  {
   "cell_type": "markdown",
   "metadata": {
    "colab_type": "text",
    "id": "35Nd2SAzixdZ"
   },
   "source": [
    "Here, we'll give you a list of some useful numpy functions. Remember, you can easily find info about these by searching google / numpy documentation!"
   ]
  },
  {
   "cell_type": "code",
   "execution_count": 16,
   "metadata": {
    "colab": {
     "autoexec": {
      "startup": false,
      "wait_interval": 0
     },
     "base_uri": "https://localhost:8080/",
     "height": 34,
     "output_extras": [
      {}
     ]
    },
    "colab_type": "code",
    "executionInfo": {
     "elapsed": 300,
     "status": "ok",
     "timestamp": 1519706499391,
     "user": {
      "displayName": "Carlo C.",
      "photoUrl": "//lh6.googleusercontent.com/-Oz6qj713Ejc/AAAAAAAAAAI/AAAAAAAAAlc/CuM0wKBfCwg/s50-c-k-no/photo.jpg",
      "userId": "101126728090140711345"
     },
     "user_tz": 480
    },
    "id": "CNCJDiITe0hh",
    "outputId": "352d3061-37d5-4554-9824-cfdfc5aa3677"
   },
   "outputs": [
    {
     "data": {
      "text/plain": [
       "20"
      ]
     },
     "execution_count": 16,
     "metadata": {},
     "output_type": "execute_result"
    }
   ],
   "source": [
    "np.sum(x)"
   ]
  },
  {
   "cell_type": "code",
   "execution_count": 17,
   "metadata": {
    "colab": {
     "autoexec": {
      "startup": false,
      "wait_interval": 0
     },
     "base_uri": "https://localhost:8080/",
     "height": 34,
     "output_extras": [
      {}
     ]
    },
    "colab_type": "code",
    "executionInfo": {
     "elapsed": 320,
     "status": "ok",
     "timestamp": 1519706500185,
     "user": {
      "displayName": "Carlo C.",
      "photoUrl": "//lh6.googleusercontent.com/-Oz6qj713Ejc/AAAAAAAAAAI/AAAAAAAAAlc/CuM0wKBfCwg/s50-c-k-no/photo.jpg",
      "userId": "101126728090140711345"
     },
     "user_tz": 480
    },
    "id": "XVJeoo1fe0hn",
    "outputId": "ef8c14b4-a239-4e14-a677-7c9657eb38b8"
   },
   "outputs": [
    {
     "data": {
      "text/plain": [
       "-7"
      ]
     },
     "execution_count": 17,
     "metadata": {},
     "output_type": "execute_result"
    }
   ],
   "source": [
    "np.min(x)"
   ]
  },
  {
   "cell_type": "code",
   "execution_count": 18,
   "metadata": {
    "colab": {
     "autoexec": {
      "startup": false,
      "wait_interval": 0
     },
     "base_uri": "https://localhost:8080/",
     "height": 34,
     "output_extras": [
      {}
     ]
    },
    "colab_type": "code",
    "executionInfo": {
     "elapsed": 305,
     "status": "ok",
     "timestamp": 1519706500760,
     "user": {
      "displayName": "Carlo C.",
      "photoUrl": "//lh6.googleusercontent.com/-Oz6qj713Ejc/AAAAAAAAAAI/AAAAAAAAAlc/CuM0wKBfCwg/s50-c-k-no/photo.jpg",
      "userId": "101126728090140711345"
     },
     "user_tz": 480
    },
    "id": "8akxjCwpe0hp",
    "outputId": "fe31a5ba-a83b-4c8b-d094-ee014d4707fa"
   },
   "outputs": [
    {
     "data": {
      "text/plain": [
       "18"
      ]
     },
     "execution_count": 18,
     "metadata": {},
     "output_type": "execute_result"
    }
   ],
   "source": [
    "np.max(x)"
   ]
  },
  {
   "cell_type": "code",
   "execution_count": 19,
   "metadata": {
    "colab": {
     "autoexec": {
      "startup": false,
      "wait_interval": 0
     },
     "base_uri": "https://localhost:8080/",
     "height": 34,
     "output_extras": [
      {}
     ]
    },
    "colab_type": "code",
    "executionInfo": {
     "elapsed": 372,
     "status": "ok",
     "timestamp": 1519706502206,
     "user": {
      "displayName": "Carlo C.",
      "photoUrl": "//lh6.googleusercontent.com/-Oz6qj713Ejc/AAAAAAAAAAI/AAAAAAAAAlc/CuM0wKBfCwg/s50-c-k-no/photo.jpg",
      "userId": "101126728090140711345"
     },
     "user_tz": 480
    },
    "id": "G5nLZKJ9jSOl",
    "outputId": "1d48172a-4a7c-4608-d075-254647603a4e"
   },
   "outputs": [
    {
     "data": {
      "text/plain": [
       "1.0"
      ]
     },
     "execution_count": 19,
     "metadata": {},
     "output_type": "execute_result"
    }
   ],
   "source": [
    "np.median(x)"
   ]
  },
  {
   "cell_type": "code",
   "execution_count": 20,
   "metadata": {
    "colab": {
     "autoexec": {
      "startup": false,
      "wait_interval": 0
     },
     "base_uri": "https://localhost:8080/",
     "height": 34,
     "output_extras": [
      {}
     ]
    },
    "colab_type": "code",
    "executionInfo": {
     "elapsed": 505,
     "status": "ok",
     "timestamp": 1519706503119,
     "user": {
      "displayName": "Carlo C.",
      "photoUrl": "//lh6.googleusercontent.com/-Oz6qj713Ejc/AAAAAAAAAAI/AAAAAAAAAlc/CuM0wKBfCwg/s50-c-k-no/photo.jpg",
      "userId": "101126728090140711345"
     },
     "user_tz": 480
    },
    "id": "dhLFs6JFjWID",
    "outputId": "84a7d0de-9282-4e8a-a763-7ec52005a28c"
   },
   "outputs": [
    {
     "data": {
      "text/plain": [
       "array([ 1,  6, -1, 17, 18, 16, 20])"
      ]
     },
     "execution_count": 20,
     "metadata": {},
     "output_type": "execute_result"
    }
   ],
   "source": [
    "np.cumsum(x)"
   ]
  },
  {
   "cell_type": "code",
   "execution_count": 21,
   "metadata": {
    "colab": {
     "autoexec": {
      "startup": false,
      "wait_interval": 0
     },
     "base_uri": "https://localhost:8080/",
     "height": 34,
     "output_extras": [
      {}
     ]
    },
    "colab_type": "code",
    "executionInfo": {
     "elapsed": 342,
     "status": "ok",
     "timestamp": 1519706503802,
     "user": {
      "displayName": "Carlo C.",
      "photoUrl": "//lh6.googleusercontent.com/-Oz6qj713Ejc/AAAAAAAAAAI/AAAAAAAAAlc/CuM0wKBfCwg/s50-c-k-no/photo.jpg",
      "userId": "101126728090140711345"
     },
     "user_tz": 480
    },
    "id": "tk3gEgMwkJ8O",
    "outputId": "c224f60b-d89c-4813-dd43-e9cec9fa502c"
   },
   "outputs": [
    {
     "data": {
      "text/plain": [
       "array([ 1,  5,  7, 18,  1,  2,  4])"
      ]
     },
     "execution_count": 21,
     "metadata": {},
     "output_type": "execute_result"
    }
   ],
   "source": [
    "np.abs(x)"
   ]
  },
  {
   "cell_type": "markdown",
   "metadata": {
    "colab_type": "text",
    "id": "f851KRK2jZ_J"
   },
   "source": [
    "What do you think ```np.cumsum``` does? Note, numpy has a similar function ```np.cumprod```. Try it!\n",
    "\n",
    "What do you think ```np.diff``` does?"
   ]
  },
  {
   "cell_type": "code",
   "execution_count": 22,
   "metadata": {
    "colab": {
     "autoexec": {
      "startup": false,
      "wait_interval": 0
     },
     "base_uri": "https://localhost:8080/",
     "height": 34,
     "output_extras": [
      {}
     ]
    },
    "colab_type": "code",
    "executionInfo": {
     "elapsed": 356,
     "status": "ok",
     "timestamp": 1519706356041,
     "user": {
      "displayName": "Carlo C.",
      "photoUrl": "//lh6.googleusercontent.com/-Oz6qj713Ejc/AAAAAAAAAAI/AAAAAAAAAlc/CuM0wKBfCwg/s50-c-k-no/photo.jpg",
      "userId": "101126728090140711345"
     },
     "user_tz": 480
    },
    "id": "LITXIKHdjWRA",
    "outputId": "36ee8ffa-4482-45fe-9a97-19c5aad84c0b"
   },
   "outputs": [
    {
     "data": {
      "text/plain": [
       "array([  4, -12,  25, -17,  -3,   6])"
      ]
     },
     "execution_count": 22,
     "metadata": {},
     "output_type": "execute_result"
    }
   ],
   "source": [
    "np.diff(x)"
   ]
  },
  {
   "cell_type": "markdown",
   "metadata": {
    "colab_type": "text",
    "id": "uY27ag6B0Us_"
   },
   "source": [
    "Two super useful functions in numpy are `np.arange` and `np.linspace`. They allow you to craft arrays with equidistant values:\n",
    "* np.arange asks for [`start`], `stop`, and [`step`]\n",
    "* np.linspace asks for `start`, `stop`, and `num`"
   ]
  },
  {
   "cell_type": "code",
   "execution_count": 23,
   "metadata": {
    "colab": {
     "autoexec": {
      "startup": false,
      "wait_interval": 0
     },
     "base_uri": "https://localhost:8080/",
     "height": 34,
     "output_extras": [
      {}
     ]
    },
    "colab_type": "code",
    "executionInfo": {
     "elapsed": 277,
     "status": "ok",
     "timestamp": 1519710878023,
     "user": {
      "displayName": "Jun Seo Park",
      "photoUrl": "//lh6.googleusercontent.com/-KIeDOii6NOY/AAAAAAAAAAI/AAAAAAAAAA4/BO9dUEBtd8E/s50-c-k-no/photo.jpg",
      "userId": "116991900080281348598"
     },
     "user_tz": 480
    },
    "id": "EXhy7WLI04ed",
    "outputId": "d0906e3c-b598-4039-dc9e-2904d95c0e6f"
   },
   "outputs": [
    {
     "data": {
      "text/plain": [
       "array([ 0, 10, 20, 30, 40, 50, 60, 70, 80, 90])"
      ]
     },
     "execution_count": 23,
     "metadata": {},
     "output_type": "execute_result"
    }
   ],
   "source": [
    "np.arange(0, 100, 10)"
   ]
  },
  {
   "cell_type": "code",
   "execution_count": 24,
   "metadata": {
    "colab": {
     "autoexec": {
      "startup": false,
      "wait_interval": 0
     },
     "base_uri": "https://localhost:8080/",
     "height": 85,
     "output_extras": [
      {}
     ]
    },
    "colab_type": "code",
    "executionInfo": {
     "elapsed": 231,
     "status": "ok",
     "timestamp": 1519710894464,
     "user": {
      "displayName": "Jun Seo Park",
      "photoUrl": "//lh6.googleusercontent.com/-KIeDOii6NOY/AAAAAAAAAAI/AAAAAAAAAA4/BO9dUEBtd8E/s50-c-k-no/photo.jpg",
      "userId": "116991900080281348598"
     },
     "user_tz": 480
    },
    "id": "6umI702c086G",
    "outputId": "b832370a-9c86-4fc1-ae14-67594d777d4a"
   },
   "outputs": [
    {
     "data": {
      "text/plain": [
       "array([   0.        ,    7.14285714,   14.28571429,   21.42857143,\n",
       "         28.57142857,   35.71428571,   42.85714286,   50.        ,\n",
       "         57.14285714,   64.28571429,   71.42857143,   78.57142857,\n",
       "         85.71428571,   92.85714286,  100.        ])"
      ]
     },
     "execution_count": 24,
     "metadata": {},
     "output_type": "execute_result"
    }
   ],
   "source": [
    "np.linspace(0, 100, 15)"
   ]
  },
  {
   "cell_type": "markdown",
   "metadata": {
    "colab_type": "text",
    "id": "ssN5yL2He0hv"
   },
   "source": [
    "### Python"
   ]
  },
  {
   "cell_type": "markdown",
   "metadata": {
    "colab_type": "text",
    "id": "BueLz_vfe0hw"
   },
   "source": [
    "Using ```np.arrays``` in python is a little bit different than with built-in lists."
   ]
  },
  {
   "cell_type": "code",
   "execution_count": 25,
   "metadata": {
    "colab": {
     "autoexec": {
      "startup": false,
      "wait_interval": 0
     },
     "output_extras": [
      {}
     ]
    },
    "colab_type": "code",
    "id": "8Kb8hHi1e0hw",
    "outputId": "1222ab08-d0f4-438b-c57f-d869b2045ab2"
   },
   "outputs": [
    {
     "name": "stdout",
     "output_type": "stream",
     "text": [
      "[2 3 4]\n",
      "[2, 3, 4]\n"
     ]
    }
   ],
   "source": [
    "a = np.array([2, 3, 4])\n",
    "b = [2, 3, 4]\n",
    "print(a)\n",
    "print(b)"
   ]
  },
  {
   "cell_type": "markdown",
   "metadata": {
    "colab_type": "text",
    "id": "vtvapXJJ2fy2"
   },
   "source": [
    "#### Adding values to np.array is different"
   ]
  },
  {
   "cell_type": "code",
   "execution_count": 26,
   "metadata": {
    "colab": {
     "autoexec": {
      "startup": false,
      "wait_interval": 0
     },
     "output_extras": [
      {}
     ]
    },
    "colab_type": "code",
    "id": "8kmRg1Zf2fy3",
    "outputId": "50897b74-d459-4887-9e65-593f110d74bd"
   },
   "outputs": [
    {
     "data": {
      "text/plain": [
       "[2, 3, 4, 'hello']"
      ]
     },
     "execution_count": 26,
     "metadata": {},
     "output_type": "execute_result"
    }
   ],
   "source": [
    "b.append(\"hello\")\n",
    "b"
   ]
  },
  {
   "cell_type": "code",
   "execution_count": 27,
   "metadata": {
    "colab": {
     "autoexec": {
      "startup": false,
      "wait_interval": 0
     },
     "output_extras": [
      {}
     ]
    },
    "colab_type": "code",
    "id": "d1PS0a4x2fy6",
    "outputId": "57c032b3-bd80-42fc-d417-da53a3f5bcec"
   },
   "outputs": [
    {
     "data": {
      "text/plain": [
       "array(['2', '3', '4', 'hello'], \n",
       "      dtype='<U21')"
      ]
     },
     "execution_count": 27,
     "metadata": {},
     "output_type": "execute_result"
    }
   ],
   "source": [
    "a = np.append(a, 'hello')\n",
    "a"
   ]
  },
  {
   "cell_type": "markdown",
   "metadata": {
    "colab_type": "text",
    "id": "z2bR7l1W2fy8"
   },
   "source": [
    "#### For loops work the same way"
   ]
  },
  {
   "cell_type": "code",
   "execution_count": 28,
   "metadata": {
    "colab": {
     "autoexec": {
      "startup": false,
      "wait_interval": 0
     },
     "output_extras": [
      {}
     ]
    },
    "colab_type": "code",
    "id": "73tOXroze0h0",
    "outputId": "9b80d845-512a-4970-c0e8-37a4897d8305"
   },
   "outputs": [
    {
     "data": {
      "text/plain": [
       "120"
      ]
     },
     "execution_count": 28,
     "metadata": {},
     "output_type": "execute_result"
    }
   ],
   "source": [
    "c = np.array([1, 2, 3, 4, 5])\n",
    "cumulative_product = 1\n",
    "\n",
    "for element in c:\n",
    "    cumulative_product *= element\n",
    "    \n",
    "cumulative_product"
   ]
  },
  {
   "cell_type": "markdown",
   "metadata": {
    "colab_type": "text",
    "id": "Si-xX6BAe0h2"
   },
   "source": [
    "### <font color=\"blue\">Numpy Exercises</font>"
   ]
  },
  {
   "cell_type": "markdown",
   "metadata": {
    "colab_type": "text",
    "id": "U3yfF0bYhC0t"
   },
   "source": [
    "Use [`np.arange`](https://docs.scipy.org/doc/numpy/reference/generated/numpy.arange.html) to create an array called `arr1` that contains every odd number from 1 to 100, inclusive."
   ]
  },
  {
   "cell_type": "code",
   "execution_count": 29,
   "metadata": {
    "colab": {
     "autoexec": {
      "startup": false,
      "wait_interval": 0
     },
     "base_uri": "https://localhost:8080/",
     "height": 68,
     "output_extras": [
      {}
     ]
    },
    "colab_type": "code",
    "executionInfo": {
     "elapsed": 250,
     "status": "ok",
     "timestamp": 1519705948101,
     "user": {
      "displayName": "Jun Seo Park",
      "photoUrl": "//lh6.googleusercontent.com/-KIeDOii6NOY/AAAAAAAAAAI/AAAAAAAAAA4/BO9dUEBtd8E/s50-c-k-no/photo.jpg",
      "userId": "116991900080281348598"
     },
     "user_tz": 480
    },
    "id": "lHGRcZWLh0K-",
    "outputId": "b130c87d-92bc-4a20-a88e-09fcc8c4c056"
   },
   "outputs": [
    {
     "data": {
      "text/plain": [
       "array([ 1,  3,  5,  7,  9, 11, 13, 15, 17, 19, 21, 23, 25, 27, 29, 31, 33,\n",
       "       35, 37, 39, 41, 43, 45, 47, 49, 51, 53, 55, 57, 59, 61, 63, 65, 67,\n",
       "       69, 71, 73, 75, 77, 79, 81, 83, 85, 87, 89, 91, 93, 95, 97, 99])"
      ]
     },
     "execution_count": 29,
     "metadata": {},
     "output_type": "execute_result"
    }
   ],
   "source": [
    "arr1 = np.arange(1, 100, 2)\n",
    "arr1"
   ]
  },
  {
   "cell_type": "markdown",
   "metadata": {
    "colab_type": "text",
    "id": "qKQsJC21hJyn"
   },
   "source": [
    "Use `arr1` to create an array `arr2` of every number divisible by 4 from 1 to 200, inclusive."
   ]
  },
  {
   "cell_type": "code",
   "execution_count": 30,
   "metadata": {
    "colab": {
     "autoexec": {
      "startup": false,
      "wait_interval": 0
     },
     "base_uri": "https://localhost:8080/",
     "height": 85,
     "output_extras": [
      {}
     ]
    },
    "colab_type": "code",
    "executionInfo": {
     "elapsed": 239,
     "status": "ok",
     "timestamp": 1519705972037,
     "user": {
      "displayName": "Jun Seo Park",
      "photoUrl": "//lh6.googleusercontent.com/-KIeDOii6NOY/AAAAAAAAAAI/AAAAAAAAAA4/BO9dUEBtd8E/s50-c-k-no/photo.jpg",
      "userId": "116991900080281348598"
     },
     "user_tz": 480
    },
    "id": "M39BjQAHe0h6",
    "outputId": "20a4ecf8-019d-46c3-a2be-0d3bfda49156"
   },
   "outputs": [
    {
     "data": {
      "text/plain": [
       "array([  4,   8,  12,  16,  20,  24,  28,  32,  36,  40,  44,  48,  52,\n",
       "        56,  60,  64,  68,  72,  76,  80,  84,  88,  92,  96, 100, 104,\n",
       "       108, 112, 116, 120, 124, 128, 132, 136, 140, 144, 148, 152, 156,\n",
       "       160, 164, 168, 172, 176, 180, 184, 188, 192, 196, 200])"
      ]
     },
     "execution_count": 30,
     "metadata": {},
     "output_type": "execute_result"
    }
   ],
   "source": [
    "arr2 = (arr1 + 1) * 2 \n",
    "arr2"
   ]
  },
  {
   "cell_type": "markdown",
   "metadata": {
    "colab_type": "text",
    "id": "Yk3bGC5oiVOE"
   },
   "source": [
    "Create the same array, but using [`np.linspace`](https://docs.scipy.org/doc/numpy/reference/generated/numpy.linspace.html) instead. Call this array `arr3`."
   ]
  },
  {
   "cell_type": "code",
   "execution_count": 31,
   "metadata": {
    "colab": {
     "autoexec": {
      "startup": false,
      "wait_interval": 0
     },
     "base_uri": "https://localhost:8080/",
     "height": 102,
     "output_extras": [
      {}
     ]
    },
    "colab_type": "code",
    "executionInfo": {
     "elapsed": 443,
     "status": "ok",
     "timestamp": 1519706136705,
     "user": {
      "displayName": "Jun Seo Park",
      "photoUrl": "//lh6.googleusercontent.com/-KIeDOii6NOY/AAAAAAAAAAI/AAAAAAAAAA4/BO9dUEBtd8E/s50-c-k-no/photo.jpg",
      "userId": "116991900080281348598"
     },
     "user_tz": 480
    },
    "id": "sdvT_TXge0h8",
    "outputId": "9e861aa8-330f-4ae0-dd6a-c72bbddcb311"
   },
   "outputs": [
    {
     "data": {
      "text/plain": [
       "array([   4.,    8.,   12.,   16.,   20.,   24.,   28.,   32.,   36.,\n",
       "         40.,   44.,   48.,   52.,   56.,   60.,   64.,   68.,   72.,\n",
       "         76.,   80.,   84.,   88.,   92.,   96.,  100.,  104.,  108.,\n",
       "        112.,  116.,  120.,  124.,  128.,  132.,  136.,  140.,  144.,\n",
       "        148.,  152.,  156.,  160.,  164.,  168.,  172.,  176.,  180.,\n",
       "        184.,  188.,  192.,  196.,  200.])"
      ]
     },
     "execution_count": 31,
     "metadata": {},
     "output_type": "execute_result"
    }
   ],
   "source": [
    "arr3 = np.linspace(4, 200, 50)\n",
    "arr3"
   ]
  },
  {
   "cell_type": "markdown",
   "metadata": {
    "colab_type": "text",
    "id": "iziQseWNjL3P"
   },
   "source": [
    "Print the following summary statistics for `arr3`: \n",
    "\n",
    "* minimum\n",
    "* 1st quartile (Hint: See [`np.percentile()`](https://docs.scipy.org/doc/numpy-dev/reference/generated/numpy.percentile.html))\n",
    "* median\n",
    "* mean\n",
    "* standard deviation\n",
    "* 3rd quartile\n",
    "* max\n"
   ]
  },
  {
   "cell_type": "code",
   "execution_count": 32,
   "metadata": {
    "colab": {
     "autoexec": {
      "startup": false,
      "wait_interval": 0
     },
     "base_uri": "https://localhost:8080/",
     "height": 136,
     "output_extras": [
      {}
     ]
    },
    "colab_type": "code",
    "executionInfo": {
     "elapsed": 399,
     "status": "ok",
     "timestamp": 1519719064372,
     "user": {
      "displayName": "Jun Seo Park",
      "photoUrl": "//lh6.googleusercontent.com/-KIeDOii6NOY/AAAAAAAAAAI/AAAAAAAAAA4/BO9dUEBtd8E/s50-c-k-no/photo.jpg",
      "userId": "116991900080281348598"
     },
     "user_tz": 480
    },
    "id": "UT62L45sj2QK",
    "outputId": "d9b17691-6fb9-45ce-c95e-c6560baf7741"
   },
   "outputs": [
    {
     "name": "stdout",
     "output_type": "stream",
     "text": [
      "Minimum: 4.0\n",
      "1st quartile: 53.0\n",
      "Median: 102.0\n",
      "Mean: 102.0\n",
      "Standard Deviation: 57.7234787586\n",
      "3rd Quartile: 151.0\n",
      "Max: 200.0\n"
     ]
    }
   ],
   "source": [
    "print('Minimum: '            + str(np.min(arr3)))\n",
    "print('1st quartile: '       + str(np.percentile(arr3, 25)))\n",
    "print('Median: '             + str(np.median(arr3)))\n",
    "print('Mean: '               + str(np.mean(arr3)))\n",
    "print('Standard Deviation: ' + str(np.std(arr3)))\n",
    "print('3rd Quartile: '       + str(np.percentile(arr3, 75)))\n",
    "print('Max: '                + str(np.max(arr3)))"
   ]
  },
  {
   "cell_type": "markdown",
   "metadata": {
    "colab_type": "text",
    "id": "vdqq_mtfe0iB"
   },
   "source": [
    "# <span id=\"2\" style=\"color: blue\">Pandas</span>"
   ]
  },
  {
   "cell_type": "markdown",
   "metadata": {
    "colab_type": "text",
    "id": "mSwF4jr7e0iC"
   },
   "source": [
    "<tr><td><img width=200 src=\"https://c402277.ssl.cf1.rackcdn.com/photos/13100/images/featured_story/BIC_128.png?1485963152\"/></td><td>\n",
    "\n",
    "Pandas is all about tables!</td></tr>"
   ]
  },
  {
   "cell_type": "markdown",
   "metadata": {
    "colab_type": "text",
    "id": "1-ODG_5te0iC"
   },
   "source": [
    "A table is called a ['dataframe'](http://pandas.pydata.org/pandas-docs/stable/dsintro.html#dataframe) in Pandas. Consider the table `fruit_info`:\n",
    "\n"
   ]
  },
  {
   "cell_type": "markdown",
   "metadata": {
    "colab_type": "text",
    "id": "GEWGAtB2pNiO"
   },
   "source": [
    "<table border=\"1\" class=\"dataframe\">\n",
    "  <thead><tr><td>**color**</td><td>**fruit**</td></tr></thead>\n",
    "<tr><td>red</td><td>apple</td></tr>\n",
    "<tr><td>orange</td><td>orange</td></tr>\n",
    "<tr><td>yellow</td><td>banana</td></tr>\n",
    "<tr><td>pink</td><td>raspberry</td></tr>\n",
    "</table>"
   ]
  },
  {
   "cell_type": "markdown",
   "metadata": {
    "colab_type": "text",
    "id": "-h5lz5xVqhKm"
   },
   "source": [
    "## Pandas Series"
   ]
  },
  {
   "cell_type": "markdown",
   "metadata": {
    "colab_type": "text",
    "id": "D7_REil2lzyw"
   },
   "source": [
    "Let's break this table down. DataFrames consist of columns called **```Series```**. Series act like numpy arrays.\n",
    "\n",
    "_How to make a Series:_\n",
    "\n",
    "1.   create a numpy ```array```\n",
    "2.   call ```pd.Series(array, name=\"...\")``` &nbsp;&nbsp; <font color=\"gray\"># name can be anything</font>\n",
    "\n",
    "<font color=\"blue\">Exercise:</font> Make a Series that contains the colors from `fruit_info` and has `name='color'`\n"
   ]
  },
  {
   "cell_type": "code",
   "execution_count": 33,
   "metadata": {
    "colab": {
     "autoexec": {
      "startup": false,
      "wait_interval": 0
     },
     "base_uri": "https://localhost:8080/",
     "height": 102,
     "output_extras": [
      {}
     ]
    },
    "colab_type": "code",
    "executionInfo": {
     "elapsed": 333,
     "status": "ok",
     "timestamp": 1519707526236,
     "user": {
      "displayName": "Carlo C.",
      "photoUrl": "//lh6.googleusercontent.com/-Oz6qj713Ejc/AAAAAAAAAAI/AAAAAAAAAlc/CuM0wKBfCwg/s50-c-k-no/photo.jpg",
      "userId": "101126728090140711345"
     },
     "user_tz": 480
    },
    "id": "GblqAVjSmHLR",
    "outputId": "6712b35e-4d2e-4b74-b0cc-f753e5817f77"
   },
   "outputs": [
    {
     "data": {
      "text/plain": [
       "0       red\n",
       "1    orange\n",
       "2    yellow\n",
       "3      pink\n",
       "Name: color, dtype: object"
      ]
     },
     "execution_count": 33,
     "metadata": {},
     "output_type": "execute_result"
    }
   ],
   "source": [
    "array = np.array(['red', 'orange', 'yellow', 'pink'])\n",
    "color_column = pd.Series(array, name=\"color\")\n",
    "color_column"
   ]
  },
  {
   "cell_type": "markdown",
   "metadata": {
    "colab_type": "text",
    "id": "eyctU1Jkm18R"
   },
   "source": [
    "<font color=\"blue\">Exercise:</font> Make another Series for the fruit column:"
   ]
  },
  {
   "cell_type": "code",
   "execution_count": 34,
   "metadata": {
    "colab": {
     "autoexec": {
      "startup": false,
      "wait_interval": 0
     },
     "base_uri": "https://localhost:8080/",
     "height": 102,
     "output_extras": [
      {}
     ]
    },
    "colab_type": "code",
    "executionInfo": {
     "elapsed": 312,
     "status": "ok",
     "timestamp": 1519707373904,
     "user": {
      "displayName": "Carlo C.",
      "photoUrl": "//lh6.googleusercontent.com/-Oz6qj713Ejc/AAAAAAAAAAI/AAAAAAAAAlc/CuM0wKBfCwg/s50-c-k-no/photo.jpg",
      "userId": "101126728090140711345"
     },
     "user_tz": 480
    },
    "id": "XjQqqb4Gm1Pw",
    "outputId": "28e5446a-86e2-4841-870c-399904f5c2d5"
   },
   "outputs": [
    {
     "data": {
      "text/plain": [
       "0        apple\n",
       "1       orange\n",
       "2       banana\n",
       "3    raspberry\n",
       "Name: fruit, dtype: object"
      ]
     },
     "execution_count": 34,
     "metadata": {},
     "output_type": "execute_result"
    }
   ],
   "source": [
    "array = np.array(['apple', 'orange', 'banana', 'raspberry'])\n",
    "fruit_column = pd.Series(array, name=\"fruit\")\n",
    "fruit_column"
   ]
  },
  {
   "cell_type": "markdown",
   "metadata": {
    "colab_type": "text",
    "id": "BL5jN9Z3oLvx"
   },
   "source": [
    "Combine your Series into a table!\n",
    "\n",
    "`pd.concat([ series1, series2, series3, ... ], 1)`\n",
    "\n",
    "Don't forget the ```1``` or you'll just make a giant Series."
   ]
  },
  {
   "cell_type": "code",
   "execution_count": 35,
   "metadata": {
    "colab": {
     "autoexec": {
      "startup": false,
      "wait_interval": 0
     },
     "base_uri": "https://localhost:8080/",
     "height": 173,
     "output_extras": [
      {}
     ]
    },
    "colab_type": "code",
    "executionInfo": {
     "elapsed": 312,
     "status": "ok",
     "timestamp": 1519707578354,
     "user": {
      "displayName": "Carlo C.",
      "photoUrl": "//lh6.googleusercontent.com/-Oz6qj713Ejc/AAAAAAAAAAI/AAAAAAAAAlc/CuM0wKBfCwg/s50-c-k-no/photo.jpg",
      "userId": "101126728090140711345"
     },
     "user_tz": 480
    },
    "id": "X-pqBS50nEsu",
    "outputId": "64b2af6d-239a-480c-e766-a97108a2f7c0"
   },
   "outputs": [
    {
     "data": {
      "text/html": [
       "<div>\n",
       "<style>\n",
       "    .dataframe thead tr:only-child th {\n",
       "        text-align: right;\n",
       "    }\n",
       "\n",
       "    .dataframe thead th {\n",
       "        text-align: left;\n",
       "    }\n",
       "\n",
       "    .dataframe tbody tr th {\n",
       "        vertical-align: top;\n",
       "    }\n",
       "</style>\n",
       "<table border=\"1\" class=\"dataframe\">\n",
       "  <thead>\n",
       "    <tr style=\"text-align: right;\">\n",
       "      <th></th>\n",
       "      <th>color</th>\n",
       "      <th>fruit</th>\n",
       "    </tr>\n",
       "  </thead>\n",
       "  <tbody>\n",
       "    <tr>\n",
       "      <th>0</th>\n",
       "      <td>red</td>\n",
       "      <td>apple</td>\n",
       "    </tr>\n",
       "    <tr>\n",
       "      <th>1</th>\n",
       "      <td>orange</td>\n",
       "      <td>orange</td>\n",
       "    </tr>\n",
       "    <tr>\n",
       "      <th>2</th>\n",
       "      <td>yellow</td>\n",
       "      <td>banana</td>\n",
       "    </tr>\n",
       "    <tr>\n",
       "      <th>3</th>\n",
       "      <td>pink</td>\n",
       "      <td>raspberry</td>\n",
       "    </tr>\n",
       "  </tbody>\n",
       "</table>\n",
       "</div>"
      ],
      "text/plain": [
       "    color      fruit\n",
       "0     red      apple\n",
       "1  orange     orange\n",
       "2  yellow     banana\n",
       "3    pink  raspberry"
      ]
     },
     "execution_count": 35,
     "metadata": {},
     "output_type": "execute_result"
    }
   ],
   "source": [
    "fruit_info = pd.concat([color_column, fruit_column], 1)\n",
    "fruit_info"
   ]
  },
  {
   "cell_type": "markdown",
   "metadata": {
    "colab_type": "text",
    "id": "YPCpw0ll6W0d"
   },
   "source": [
    "What if we were given the DataFrame and we want to extract the columns?"
   ]
  },
  {
   "cell_type": "code",
   "execution_count": 36,
   "metadata": {
    "colab": {
     "autoexec": {
      "startup": false,
      "wait_interval": 0
     },
     "base_uri": "https://localhost:8080/",
     "height": 102,
     "output_extras": [
      {}
     ]
    },
    "colab_type": "code",
    "executionInfo": {
     "elapsed": 454,
     "status": "ok",
     "timestamp": 1519712346695,
     "user": {
      "displayName": "Carlo C.",
      "photoUrl": "//lh6.googleusercontent.com/-Oz6qj713Ejc/AAAAAAAAAAI/AAAAAAAAAlc/CuM0wKBfCwg/s50-c-k-no/photo.jpg",
      "userId": "101126728090140711345"
     },
     "user_tz": 480
    },
    "id": "zlxb5I1V6gW_",
    "outputId": "c7ce69a6-97c1-4c24-f717-4e3f8d4ff2e9"
   },
   "outputs": [
    {
     "data": {
      "text/plain": [
       "0        apple\n",
       "1       orange\n",
       "2       banana\n",
       "3    raspberry\n",
       "Name: fruit, dtype: object"
      ]
     },
     "execution_count": 36,
     "metadata": {},
     "output_type": "execute_result"
    }
   ],
   "source": [
    "fruit_info['fruit'] # we get the fruit_column Series back!"
   ]
  },
  {
   "cell_type": "markdown",
   "metadata": {
    "colab_type": "text",
    "id": "IWplutOiqkyV"
   },
   "source": [
    "### Dictionaries"
   ]
  },
  {
   "cell_type": "markdown",
   "metadata": {
    "colab_type": "text",
    "id": "y0crshKnkr4F"
   },
   "source": [
    "Also, we can manually create tables by using a [python dictionary](https://www.python-course.eu/dictionaries.php). A dictionary has the following format:\n",
    "\n",
    "```\n",
    "d = { \"name of column\"   :  [  list of values  ],\n",
    "      \"name of column 2\" :  [  list of values  ],\n",
    "                        ...\n",
    "                        ...\n",
    "    }```\n",
    "    "
   ]
  },
  {
   "cell_type": "code",
   "execution_count": 37,
   "metadata": {
    "colab": {
     "autoexec": {
      "startup": false,
      "wait_interval": 0
     }
    },
    "colab_type": "code",
    "collapsed": true,
    "id": "HwNqPSU4e0iL"
   },
   "outputs": [],
   "source": [
    "d = { 'fruit' : ['apple', 'orange', 'banana', 'raspberry'],\n",
    "      'color' : ['red', 'orange', 'yellow', 'pink']\n",
    "    }"
   ]
  },
  {
   "cell_type": "code",
   "execution_count": 38,
   "metadata": {
    "colab": {
     "autoexec": {
      "startup": false,
      "wait_interval": 0
     },
     "base_uri": "https://localhost:8080/",
     "height": 173,
     "output_extras": [
      {}
     ]
    },
    "colab_type": "code",
    "executionInfo": {
     "elapsed": 320,
     "status": "ok",
     "timestamp": 1519708126737,
     "user": {
      "displayName": "Carlo C.",
      "photoUrl": "//lh6.googleusercontent.com/-Oz6qj713Ejc/AAAAAAAAAAI/AAAAAAAAAlc/CuM0wKBfCwg/s50-c-k-no/photo.jpg",
      "userId": "101126728090140711345"
     },
     "user_tz": 480
    },
    "id": "8ztmLzC_e0iM",
    "outputId": "b4341db3-3e57-4e75-e04c-9a7a863ef334"
   },
   "outputs": [
    {
     "data": {
      "text/html": [
       "<div>\n",
       "<style>\n",
       "    .dataframe thead tr:only-child th {\n",
       "        text-align: right;\n",
       "    }\n",
       "\n",
       "    .dataframe thead th {\n",
       "        text-align: left;\n",
       "    }\n",
       "\n",
       "    .dataframe tbody tr th {\n",
       "        vertical-align: top;\n",
       "    }\n",
       "</style>\n",
       "<table border=\"1\" class=\"dataframe\">\n",
       "  <thead>\n",
       "    <tr style=\"text-align: right;\">\n",
       "      <th></th>\n",
       "      <th>color</th>\n",
       "      <th>fruit</th>\n",
       "    </tr>\n",
       "  </thead>\n",
       "  <tbody>\n",
       "    <tr>\n",
       "      <th>0</th>\n",
       "      <td>red</td>\n",
       "      <td>apple</td>\n",
       "    </tr>\n",
       "    <tr>\n",
       "      <th>1</th>\n",
       "      <td>orange</td>\n",
       "      <td>orange</td>\n",
       "    </tr>\n",
       "    <tr>\n",
       "      <th>2</th>\n",
       "      <td>yellow</td>\n",
       "      <td>banana</td>\n",
       "    </tr>\n",
       "    <tr>\n",
       "      <th>3</th>\n",
       "      <td>pink</td>\n",
       "      <td>raspberry</td>\n",
       "    </tr>\n",
       "  </tbody>\n",
       "</table>\n",
       "</div>"
      ],
      "text/plain": [
       "    color      fruit\n",
       "0     red      apple\n",
       "1  orange     orange\n",
       "2  yellow     banana\n",
       "3    pink  raspberry"
      ]
     },
     "execution_count": 38,
     "metadata": {},
     "output_type": "execute_result"
    }
   ],
   "source": [
    "fruit_info_again = pd.DataFrame(d)\n",
    "fruit_info_again"
   ]
  },
  {
   "cell_type": "markdown",
   "metadata": {
    "colab_type": "text",
    "id": "aFAHsI63q0kX"
   },
   "source": [
    "### Add Columns\n",
    "\n",
    "Add a column to `table` labeled \"new column\" like so:\n",
    "\n",
    "`table['new column'] = array`"
   ]
  },
  {
   "cell_type": "code",
   "execution_count": 39,
   "metadata": {
    "colab": {
     "autoexec": {
      "startup": false,
      "wait_interval": 0
     },
     "base_uri": "https://localhost:8080/",
     "height": 173,
     "output_extras": [
      {}
     ]
    },
    "colab_type": "code",
    "executionInfo": {
     "elapsed": 379,
     "status": "ok",
     "timestamp": 1519708314124,
     "user": {
      "displayName": "Carlo C.",
      "photoUrl": "//lh6.googleusercontent.com/-Oz6qj713Ejc/AAAAAAAAAAI/AAAAAAAAAlc/CuM0wKBfCwg/s50-c-k-no/photo.jpg",
      "userId": "101126728090140711345"
     },
     "user_tz": 480
    },
    "id": "ezbxTDkAq0YV",
    "outputId": "5d33ed18-2066-4d58-9d8d-ac05e3514773"
   },
   "outputs": [
    {
     "data": {
      "text/html": [
       "<div>\n",
       "<style>\n",
       "    .dataframe thead tr:only-child th {\n",
       "        text-align: right;\n",
       "    }\n",
       "\n",
       "    .dataframe thead th {\n",
       "        text-align: left;\n",
       "    }\n",
       "\n",
       "    .dataframe tbody tr th {\n",
       "        vertical-align: top;\n",
       "    }\n",
       "</style>\n",
       "<table border=\"1\" class=\"dataframe\">\n",
       "  <thead>\n",
       "    <tr style=\"text-align: right;\">\n",
       "      <th></th>\n",
       "      <th>color</th>\n",
       "      <th>fruit</th>\n",
       "      <th>inventory</th>\n",
       "    </tr>\n",
       "  </thead>\n",
       "  <tbody>\n",
       "    <tr>\n",
       "      <th>0</th>\n",
       "      <td>red</td>\n",
       "      <td>apple</td>\n",
       "      <td>23</td>\n",
       "    </tr>\n",
       "    <tr>\n",
       "      <th>1</th>\n",
       "      <td>orange</td>\n",
       "      <td>orange</td>\n",
       "      <td>18</td>\n",
       "    </tr>\n",
       "    <tr>\n",
       "      <th>2</th>\n",
       "      <td>yellow</td>\n",
       "      <td>banana</td>\n",
       "      <td>50</td>\n",
       "    </tr>\n",
       "    <tr>\n",
       "      <th>3</th>\n",
       "      <td>pink</td>\n",
       "      <td>raspberry</td>\n",
       "      <td>20</td>\n",
       "    </tr>\n",
       "  </tbody>\n",
       "</table>\n",
       "</div>"
      ],
      "text/plain": [
       "    color      fruit  inventory\n",
       "0     red      apple         23\n",
       "1  orange     orange         18\n",
       "2  yellow     banana         50\n",
       "3    pink  raspberry         20"
      ]
     },
     "execution_count": 39,
     "metadata": {},
     "output_type": "execute_result"
    }
   ],
   "source": [
    "fruit_info['inventory'] = np.array([23, 18, 50, 20])\n",
    "fruit_info"
   ]
  },
  {
   "cell_type": "markdown",
   "metadata": {
    "colab_type": "text",
    "id": "Dhn2AL0ZrKlJ"
   },
   "source": [
    "<font color=\"blue\">Exercise:</font> Add a column called ```rating``` that assigns your rating from 1 to 5 for each fruit :) "
   ]
  },
  {
   "cell_type": "code",
   "execution_count": 40,
   "metadata": {
    "colab": {
     "autoexec": {
      "startup": false,
      "wait_interval": 0
     },
     "base_uri": "https://localhost:8080/",
     "height": 173,
     "output_extras": [
      {}
     ]
    },
    "colab_type": "code",
    "executionInfo": {
     "elapsed": 492,
     "status": "ok",
     "timestamp": 1519708386870,
     "user": {
      "displayName": "Carlo C.",
      "photoUrl": "//lh6.googleusercontent.com/-Oz6qj713Ejc/AAAAAAAAAAI/AAAAAAAAAlc/CuM0wKBfCwg/s50-c-k-no/photo.jpg",
      "userId": "101126728090140711345"
     },
     "user_tz": 480
    },
    "id": "18CL-BA-e0iP",
    "outputId": "2c134889-48cb-4fd3-b022-b52099d1415b"
   },
   "outputs": [
    {
     "data": {
      "text/html": [
       "<div>\n",
       "<style>\n",
       "    .dataframe thead tr:only-child th {\n",
       "        text-align: right;\n",
       "    }\n",
       "\n",
       "    .dataframe thead th {\n",
       "        text-align: left;\n",
       "    }\n",
       "\n",
       "    .dataframe tbody tr th {\n",
       "        vertical-align: top;\n",
       "    }\n",
       "</style>\n",
       "<table border=\"1\" class=\"dataframe\">\n",
       "  <thead>\n",
       "    <tr style=\"text-align: right;\">\n",
       "      <th></th>\n",
       "      <th>color</th>\n",
       "      <th>fruit</th>\n",
       "      <th>inventory</th>\n",
       "      <th>rating</th>\n",
       "    </tr>\n",
       "  </thead>\n",
       "  <tbody>\n",
       "    <tr>\n",
       "      <th>0</th>\n",
       "      <td>red</td>\n",
       "      <td>apple</td>\n",
       "      <td>23</td>\n",
       "      <td>3</td>\n",
       "    </tr>\n",
       "    <tr>\n",
       "      <th>1</th>\n",
       "      <td>orange</td>\n",
       "      <td>orange</td>\n",
       "      <td>18</td>\n",
       "      <td>4</td>\n",
       "    </tr>\n",
       "    <tr>\n",
       "      <th>2</th>\n",
       "      <td>yellow</td>\n",
       "      <td>banana</td>\n",
       "      <td>50</td>\n",
       "      <td>5</td>\n",
       "    </tr>\n",
       "    <tr>\n",
       "      <th>3</th>\n",
       "      <td>pink</td>\n",
       "      <td>raspberry</td>\n",
       "      <td>20</td>\n",
       "      <td>5</td>\n",
       "    </tr>\n",
       "  </tbody>\n",
       "</table>\n",
       "</div>"
      ],
      "text/plain": [
       "    color      fruit  inventory  rating\n",
       "0     red      apple         23       3\n",
       "1  orange     orange         18       4\n",
       "2  yellow     banana         50       5\n",
       "3    pink  raspberry         20       5"
      ]
     },
     "execution_count": 40,
     "metadata": {},
     "output_type": "execute_result"
    }
   ],
   "source": [
    "fruit_info['rating'] = np.array([3, 4, 5, 5])\n",
    "\n",
    "fruit_info  # should now include a rating column"
   ]
  },
  {
   "cell_type": "markdown",
   "metadata": {
    "colab_type": "text",
    "id": "tmI18kjsrkXE"
   },
   "source": [
    "### Drop\n",
    "\n",
    "<font color=\"blue\">Exercise:</font> Now, use the `.drop()` method to [drop](https://pandas.pydata.org/pandas-docs/stable/generated/pandas.DataFrame.drop.html) the `color` column."
   ]
  },
  {
   "cell_type": "code",
   "execution_count": 41,
   "metadata": {
    "colab": {
     "autoexec": {
      "startup": false,
      "wait_interval": 0
     },
     "base_uri": "https://localhost:8080/",
     "height": 34,
     "output_extras": [
      {}
     ]
    },
    "colab_type": "code",
    "executionInfo": {
     "elapsed": 324,
     "status": "ok",
     "timestamp": 1519708477547,
     "user": {
      "displayName": "Carlo C.",
      "photoUrl": "//lh6.googleusercontent.com/-Oz6qj713Ejc/AAAAAAAAAAI/AAAAAAAAAlc/CuM0wKBfCwg/s50-c-k-no/photo.jpg",
      "userId": "101126728090140711345"
     },
     "user_tz": 480
    },
    "id": "TeX_2Kl4rtaF",
    "outputId": "79c423d4-7811-43fd-e49a-42b950129d38"
   },
   "outputs": [
    {
     "data": {
      "text/html": [
       "<div>\n",
       "<style>\n",
       "    .dataframe thead tr:only-child th {\n",
       "        text-align: right;\n",
       "    }\n",
       "\n",
       "    .dataframe thead th {\n",
       "        text-align: left;\n",
       "    }\n",
       "\n",
       "    .dataframe tbody tr th {\n",
       "        vertical-align: top;\n",
       "    }\n",
       "</style>\n",
       "<table border=\"1\" class=\"dataframe\">\n",
       "  <thead>\n",
       "    <tr style=\"text-align: right;\">\n",
       "      <th></th>\n",
       "      <th>fruit</th>\n",
       "      <th>inventory</th>\n",
       "      <th>rating</th>\n",
       "    </tr>\n",
       "  </thead>\n",
       "  <tbody>\n",
       "    <tr>\n",
       "      <th>0</th>\n",
       "      <td>apple</td>\n",
       "      <td>23</td>\n",
       "      <td>3</td>\n",
       "    </tr>\n",
       "    <tr>\n",
       "      <th>1</th>\n",
       "      <td>orange</td>\n",
       "      <td>18</td>\n",
       "      <td>4</td>\n",
       "    </tr>\n",
       "    <tr>\n",
       "      <th>2</th>\n",
       "      <td>banana</td>\n",
       "      <td>50</td>\n",
       "      <td>5</td>\n",
       "    </tr>\n",
       "    <tr>\n",
       "      <th>3</th>\n",
       "      <td>raspberry</td>\n",
       "      <td>20</td>\n",
       "      <td>5</td>\n",
       "    </tr>\n",
       "  </tbody>\n",
       "</table>\n",
       "</div>"
      ],
      "text/plain": [
       "       fruit  inventory  rating\n",
       "0      apple         23       3\n",
       "1     orange         18       4\n",
       "2     banana         50       5\n",
       "3  raspberry         20       5"
      ]
     },
     "execution_count": 41,
     "metadata": {},
     "output_type": "execute_result"
    }
   ],
   "source": [
    "fruit_info_without_color = fruit_info.drop('color', 1) # must include axis=1\n",
    "\n",
    "fruit_info_without_color"
   ]
  },
  {
   "cell_type": "markdown",
   "metadata": {
    "colab_type": "text",
    "id": "hwoFu6Cmvk6I"
   },
   "source": [
    "## California Baby Names\n",
    "\n",
    "Time to use a real dataset!"
   ]
  },
  {
   "cell_type": "markdown",
   "metadata": {
    "colab_type": "text",
    "id": "qjlN61yTvo8I"
   },
   "source": [
    "You can read a `.csv` file into pandas using `pd.read_csv( url )`.\n",
    "\n",
    "Create a variable called `baby_names` that loads this data: `https://raw.githubusercontent.com/carlocrza/Data_Science_Society/master/ca_baby_names.csv`\n",
    "\n"
   ]
  },
  {
   "cell_type": "code",
   "execution_count": 42,
   "metadata": {
    "colab": {
     "autoexec": {
      "startup": false,
      "wait_interval": 0
     }
    },
    "colab_type": "code",
    "collapsed": true,
    "id": "dC_dIgL9r6sz"
   },
   "outputs": [],
   "source": [
    "baby_names = pd.read_csv(\"https://raw.githubusercontent.com/carlocrza/Data_Science_Society/master/baby_names.csv\")"
   ]
  },
  {
   "cell_type": "markdown",
   "metadata": {
    "colab_type": "text",
    "id": "1kH6QcaU2RSR"
   },
   "source": [
    "Let's display the table. We can just type `baby_names` and run the cell but baby_names is HUGE! So, let's display just the first five rows with:\n",
    "\n",
    "`DataFrame.head( # of rows )`"
   ]
  },
  {
   "cell_type": "code",
   "execution_count": 43,
   "metadata": {
    "colab": {
     "autoexec": {
      "startup": false,
      "wait_interval": 0
     },
     "base_uri": "https://localhost:8080/",
     "height": 204,
     "output_extras": [
      {}
     ]
    },
    "colab_type": "code",
    "executionInfo": {
     "elapsed": 353,
     "status": "ok",
     "timestamp": 1519711305425,
     "user": {
      "displayName": "Carlo C.",
      "photoUrl": "//lh6.googleusercontent.com/-Oz6qj713Ejc/AAAAAAAAAAI/AAAAAAAAAlc/CuM0wKBfCwg/s50-c-k-no/photo.jpg",
      "userId": "101126728090140711345"
     },
     "user_tz": 480
    },
    "id": "PZIZOnC82iAe",
    "outputId": "61803f88-fc28-43c4-df59-e0384a40b903"
   },
   "outputs": [
    {
     "data": {
      "text/html": [
       "<div>\n",
       "<style>\n",
       "    .dataframe thead tr:only-child th {\n",
       "        text-align: right;\n",
       "    }\n",
       "\n",
       "    .dataframe thead th {\n",
       "        text-align: left;\n",
       "    }\n",
       "\n",
       "    .dataframe tbody tr th {\n",
       "        vertical-align: top;\n",
       "    }\n",
       "</style>\n",
       "<table border=\"1\" class=\"dataframe\">\n",
       "  <thead>\n",
       "    <tr style=\"text-align: right;\">\n",
       "      <th></th>\n",
       "      <th>State</th>\n",
       "      <th>Sex</th>\n",
       "      <th>Year</th>\n",
       "      <th>Name</th>\n",
       "      <th>Count</th>\n",
       "    </tr>\n",
       "  </thead>\n",
       "  <tbody>\n",
       "    <tr>\n",
       "      <th>0</th>\n",
       "      <td>CA</td>\n",
       "      <td>F</td>\n",
       "      <td>1910</td>\n",
       "      <td>Mary</td>\n",
       "      <td>295</td>\n",
       "    </tr>\n",
       "    <tr>\n",
       "      <th>1</th>\n",
       "      <td>CA</td>\n",
       "      <td>F</td>\n",
       "      <td>1910</td>\n",
       "      <td>Helen</td>\n",
       "      <td>239</td>\n",
       "    </tr>\n",
       "    <tr>\n",
       "      <th>2</th>\n",
       "      <td>CA</td>\n",
       "      <td>F</td>\n",
       "      <td>1910</td>\n",
       "      <td>Dorothy</td>\n",
       "      <td>220</td>\n",
       "    </tr>\n",
       "    <tr>\n",
       "      <th>3</th>\n",
       "      <td>CA</td>\n",
       "      <td>F</td>\n",
       "      <td>1910</td>\n",
       "      <td>Margaret</td>\n",
       "      <td>163</td>\n",
       "    </tr>\n",
       "    <tr>\n",
       "      <th>4</th>\n",
       "      <td>CA</td>\n",
       "      <td>F</td>\n",
       "      <td>1910</td>\n",
       "      <td>Frances</td>\n",
       "      <td>134</td>\n",
       "    </tr>\n",
       "  </tbody>\n",
       "</table>\n",
       "</div>"
      ],
      "text/plain": [
       "  State Sex  Year      Name  Count\n",
       "0    CA   F  1910      Mary    295\n",
       "1    CA   F  1910     Helen    239\n",
       "2    CA   F  1910   Dorothy    220\n",
       "3    CA   F  1910  Margaret    163\n",
       "4    CA   F  1910   Frances    134"
      ]
     },
     "execution_count": 43,
     "metadata": {},
     "output_type": "execute_result"
    }
   ],
   "source": [
    "baby_names.head(5)"
   ]
  },
  {
   "cell_type": "markdown",
   "metadata": {
    "colab_type": "text",
    "id": "7YIAr_9qwLe3"
   },
   "source": [
    "## Row, Column Selection\n",
    "\n",
    "Follow the structure:\n",
    "\n",
    "`table.loc[rows, columns]`\n",
    "\n",
    "`table.loc[2:8, [ 'Name', 'Count']]`\n",
    "\n",
    "The above code will select columns \"Name\" and \"Count\" from rows 2 **through** 8."
   ]
  },
  {
   "cell_type": "code",
   "execution_count": 44,
   "metadata": {
    "colab": {
     "autoexec": {
      "startup": false,
      "wait_interval": 0
     },
     "base_uri": "https://localhost:8080/",
     "height": 34,
     "output_extras": [
      {}
     ]
    },
    "colab_type": "code",
    "executionInfo": {
     "elapsed": 455,
     "status": "ok",
     "timestamp": 1519711085764,
     "user": {
      "displayName": "Carlo C.",
      "photoUrl": "//lh6.googleusercontent.com/-Oz6qj713Ejc/AAAAAAAAAAI/AAAAAAAAAlc/CuM0wKBfCwg/s50-c-k-no/photo.jpg",
      "userId": "101126728090140711345"
     },
     "user_tz": 480
    },
    "id": "hys-JCGD0G3I",
    "outputId": "f6170ac3-9e05-4b39-90e5-e9e8e5b31fd8"
   },
   "outputs": [
    {
     "data": {
      "text/plain": [
       "Index(['State', 'Sex', 'Year', 'Name', 'Count'], dtype='object')"
      ]
     },
     "execution_count": 44,
     "metadata": {},
     "output_type": "execute_result"
    }
   ],
   "source": [
    "# Returns the name of our columns\n",
    "baby_names.columns"
   ]
  },
  {
   "cell_type": "code",
   "execution_count": 45,
   "metadata": {
    "colab": {
     "autoexec": {
      "startup": false,
      "wait_interval": 0
     },
     "base_uri": "https://localhost:8080/",
     "height": 266,
     "output_extras": [
      {}
     ]
    },
    "colab_type": "code",
    "executionInfo": {
     "elapsed": 378,
     "status": "ok",
     "timestamp": 1519711079946,
     "user": {
      "displayName": "Carlo C.",
      "photoUrl": "//lh6.googleusercontent.com/-Oz6qj713Ejc/AAAAAAAAAAI/AAAAAAAAAlc/CuM0wKBfCwg/s50-c-k-no/photo.jpg",
      "userId": "101126728090140711345"
     },
     "user_tz": 480
    },
    "id": "6nOgRO54wwi-",
    "outputId": "27ce7a7a-af4c-42e1-cd5a-04fe3afc03f4"
   },
   "outputs": [
    {
     "data": {
      "text/html": [
       "<div>\n",
       "<style>\n",
       "    .dataframe thead tr:only-child th {\n",
       "        text-align: right;\n",
       "    }\n",
       "\n",
       "    .dataframe thead th {\n",
       "        text-align: left;\n",
       "    }\n",
       "\n",
       "    .dataframe tbody tr th {\n",
       "        vertical-align: top;\n",
       "    }\n",
       "</style>\n",
       "<table border=\"1\" class=\"dataframe\">\n",
       "  <thead>\n",
       "    <tr style=\"text-align: right;\">\n",
       "      <th></th>\n",
       "      <th>Name</th>\n",
       "      <th>Count</th>\n",
       "    </tr>\n",
       "  </thead>\n",
       "  <tbody>\n",
       "    <tr>\n",
       "      <th>2</th>\n",
       "      <td>Dorothy</td>\n",
       "      <td>220</td>\n",
       "    </tr>\n",
       "    <tr>\n",
       "      <th>3</th>\n",
       "      <td>Margaret</td>\n",
       "      <td>163</td>\n",
       "    </tr>\n",
       "    <tr>\n",
       "      <th>4</th>\n",
       "      <td>Frances</td>\n",
       "      <td>134</td>\n",
       "    </tr>\n",
       "    <tr>\n",
       "      <th>5</th>\n",
       "      <td>Ruth</td>\n",
       "      <td>128</td>\n",
       "    </tr>\n",
       "    <tr>\n",
       "      <th>6</th>\n",
       "      <td>Evelyn</td>\n",
       "      <td>126</td>\n",
       "    </tr>\n",
       "    <tr>\n",
       "      <th>7</th>\n",
       "      <td>Alice</td>\n",
       "      <td>118</td>\n",
       "    </tr>\n",
       "    <tr>\n",
       "      <th>8</th>\n",
       "      <td>Virginia</td>\n",
       "      <td>101</td>\n",
       "    </tr>\n",
       "  </tbody>\n",
       "</table>\n",
       "</div>"
      ],
      "text/plain": [
       "       Name  Count\n",
       "2   Dorothy    220\n",
       "3  Margaret    163\n",
       "4   Frances    134\n",
       "5      Ruth    128\n",
       "6    Evelyn    126\n",
       "7     Alice    118\n",
       "8  Virginia    101"
      ]
     },
     "execution_count": 45,
     "metadata": {},
     "output_type": "execute_result"
    }
   ],
   "source": [
    "baby_names.loc[2:8, ['Name', \"Count\"]]"
   ]
  },
  {
   "cell_type": "markdown",
   "metadata": {
    "colab_type": "text",
    "id": "uqTcklNh1wnq"
   },
   "source": [
    "<font color=\"blue\">Exercise:</font> Return a table that includes rows 1000-1005 and only includes the column \"Name\"."
   ]
  },
  {
   "cell_type": "code",
   "execution_count": 46,
   "metadata": {
    "colab": {
     "autoexec": {
      "startup": false,
      "wait_interval": 0
     },
     "base_uri": "https://localhost:8080/",
     "height": 34,
     "output_extras": [
      {}
     ]
    },
    "colab_type": "code",
    "executionInfo": {
     "elapsed": 429,
     "status": "ok",
     "timestamp": 1519711377066,
     "user": {
      "displayName": "Carlo C.",
      "photoUrl": "//lh6.googleusercontent.com/-Oz6qj713Ejc/AAAAAAAAAAI/AAAAAAAAAlc/CuM0wKBfCwg/s50-c-k-no/photo.jpg",
      "userId": "101126728090140711345"
     },
     "user_tz": 480
    },
    "id": "YQavi1AV14mh",
    "outputId": "e68232b3-d408-4c92-a328-67c1ea5f141d"
   },
   "outputs": [
    {
     "data": {
      "text/html": [
       "<div>\n",
       "<style>\n",
       "    .dataframe thead tr:only-child th {\n",
       "        text-align: right;\n",
       "    }\n",
       "\n",
       "    .dataframe thead th {\n",
       "        text-align: left;\n",
       "    }\n",
       "\n",
       "    .dataframe tbody tr th {\n",
       "        vertical-align: top;\n",
       "    }\n",
       "</style>\n",
       "<table border=\"1\" class=\"dataframe\">\n",
       "  <thead>\n",
       "    <tr style=\"text-align: right;\">\n",
       "      <th></th>\n",
       "      <th>Name</th>\n",
       "    </tr>\n",
       "  </thead>\n",
       "  <tbody>\n",
       "    <tr>\n",
       "      <th>1000</th>\n",
       "      <td>Sara</td>\n",
       "    </tr>\n",
       "    <tr>\n",
       "      <th>1001</th>\n",
       "      <td>Teresa</td>\n",
       "    </tr>\n",
       "    <tr>\n",
       "      <th>1002</th>\n",
       "      <td>Cecilia</td>\n",
       "    </tr>\n",
       "    <tr>\n",
       "      <th>1003</th>\n",
       "      <td>Eda</td>\n",
       "    </tr>\n",
       "    <tr>\n",
       "      <th>1004</th>\n",
       "      <td>Etta</td>\n",
       "    </tr>\n",
       "    <tr>\n",
       "      <th>1005</th>\n",
       "      <td>Faye</td>\n",
       "    </tr>\n",
       "  </tbody>\n",
       "</table>\n",
       "</div>"
      ],
      "text/plain": [
       "         Name\n",
       "1000     Sara\n",
       "1001   Teresa\n",
       "1002  Cecilia\n",
       "1003      Eda\n",
       "1004     Etta\n",
       "1005     Faye"
      ]
     },
     "execution_count": 46,
     "metadata": {},
     "output_type": "execute_result"
    }
   ],
   "source": [
    "baby_names.loc[1000:1005, ['Name']]"
   ]
  },
  {
   "cell_type": "code",
   "execution_count": 47,
   "metadata": {
    "colab": {
     "autoexec": {
      "startup": false,
      "wait_interval": 0
     },
     "base_uri": "https://localhost:8080/",
     "height": 173,
     "output_extras": [
      {}
     ]
    },
    "colab_type": "code",
    "executionInfo": {
     "elapsed": 419,
     "status": "ok",
     "timestamp": 1519714111735,
     "user": {
      "displayName": "Carlo C.",
      "photoUrl": "//lh6.googleusercontent.com/-Oz6qj713Ejc/AAAAAAAAAAI/AAAAAAAAAlc/CuM0wKBfCwg/s50-c-k-no/photo.jpg",
      "userId": "101126728090140711345"
     },
     "user_tz": 480
    },
    "id": "fouzfJJD24SB",
    "outputId": "9bba98ce-cfd2-40a9-d8c4-2126c8bfc575"
   },
   "outputs": [
    {
     "data": {
      "text/html": [
       "<div>\n",
       "<style>\n",
       "    .dataframe thead tr:only-child th {\n",
       "        text-align: right;\n",
       "    }\n",
       "\n",
       "    .dataframe thead th {\n",
       "        text-align: left;\n",
       "    }\n",
       "\n",
       "    .dataframe tbody tr th {\n",
       "        vertical-align: top;\n",
       "    }\n",
       "</style>\n",
       "<table border=\"1\" class=\"dataframe\">\n",
       "  <thead>\n",
       "    <tr style=\"text-align: right;\">\n",
       "      <th></th>\n",
       "      <th>Sex</th>\n",
       "      <th>Name</th>\n",
       "    </tr>\n",
       "  </thead>\n",
       "  <tbody>\n",
       "    <tr>\n",
       "      <th>0</th>\n",
       "      <td>F</td>\n",
       "      <td>Mary</td>\n",
       "    </tr>\n",
       "    <tr>\n",
       "      <th>1</th>\n",
       "      <td>F</td>\n",
       "      <td>Helen</td>\n",
       "    </tr>\n",
       "    <tr>\n",
       "      <th>2</th>\n",
       "      <td>F</td>\n",
       "      <td>Dorothy</td>\n",
       "    </tr>\n",
       "    <tr>\n",
       "      <th>3</th>\n",
       "      <td>F</td>\n",
       "      <td>Margaret</td>\n",
       "    </tr>\n",
       "  </tbody>\n",
       "</table>\n",
       "</div>"
      ],
      "text/plain": [
       "  Sex      Name\n",
       "0   F      Mary\n",
       "1   F     Helen\n",
       "2   F   Dorothy\n",
       "3   F  Margaret"
      ]
     },
     "execution_count": 47,
     "metadata": {},
     "output_type": "execute_result"
    }
   ],
   "source": [
    "# Want to select EVERY row?\n",
    "# Don't put anything before and after the colon :\n",
    "baby_names.loc[:, ['Sex', 'Name']].head(4)"
   ]
  },
  {
   "cell_type": "markdown",
   "metadata": {
    "colab_type": "text",
    "id": "ssktJjTM2f0V"
   },
   "source": [
    "### Selecting an entire Column"
   ]
  },
  {
   "cell_type": "markdown",
   "metadata": {
    "colab_type": "text",
    "id": "HxwUHjmz18U8"
   },
   "source": [
    "Remember we can extract the column in the form of a **Series** using:\n",
    "\n",
    "`table_name['Name of column']`"
   ]
  },
  {
   "cell_type": "code",
   "execution_count": 48,
   "metadata": {
    "colab": {
     "autoexec": {
      "startup": false,
      "wait_interval": 0
     },
     "base_uri": "https://localhost:8080/",
     "height": 119,
     "output_extras": [
      {}
     ]
    },
    "colab_type": "code",
    "executionInfo": {
     "elapsed": 354,
     "status": "ok",
     "timestamp": 1519711199348,
     "user": {
      "displayName": "Carlo C.",
      "photoUrl": "//lh6.googleusercontent.com/-Oz6qj713Ejc/AAAAAAAAAAI/AAAAAAAAAlc/CuM0wKBfCwg/s50-c-k-no/photo.jpg",
      "userId": "101126728090140711345"
     },
     "user_tz": 480
    },
    "id": "iqfB9WSL2G2Q",
    "outputId": "07e4eca9-c12c-46cb-da92-026bfabb803b"
   },
   "outputs": [
    {
     "data": {
      "text/plain": [
       "0        Mary\n",
       "1       Helen\n",
       "2     Dorothy\n",
       "3    Margaret\n",
       "4     Frances\n",
       "Name: Name, dtype: object"
      ]
     },
     "execution_count": 48,
     "metadata": {},
     "output_type": "execute_result"
    }
   ],
   "source": [
    "name_column = baby_names['Name']\n",
    "name_column.head(5) # we can also use .head with Series!"
   ]
  },
  {
   "cell_type": "markdown",
   "metadata": {
    "colab_type": "text",
    "id": "gU0vvw_Y2f0Z"
   },
   "source": [
    "### Selecting rows with a Boolean Array"
   ]
  },
  {
   "cell_type": "markdown",
   "metadata": {
    "colab_type": "text",
    "id": "SHmXo9p3BTHE"
   },
   "source": [
    "Lastly, we can select rows based off of True / False data. Let's go back to the simpler `fruit_info` table."
   ]
  },
  {
   "cell_type": "code",
   "execution_count": 49,
   "metadata": {
    "colab": {
     "autoexec": {
      "startup": false,
      "wait_interval": 0
     },
     "base_uri": "https://localhost:8080/",
     "height": 173,
     "output_extras": [
      {}
     ]
    },
    "colab_type": "code",
    "executionInfo": {
     "elapsed": 435,
     "status": "ok",
     "timestamp": 1519714144618,
     "user": {
      "displayName": "Carlo C.",
      "photoUrl": "//lh6.googleusercontent.com/-Oz6qj713Ejc/AAAAAAAAAAI/AAAAAAAAAlc/CuM0wKBfCwg/s50-c-k-no/photo.jpg",
      "userId": "101126728090140711345"
     },
     "user_tz": 480
    },
    "id": "dkko-lUHBYTO",
    "outputId": "b2ad9a69-54b6-4e83-dc0f-5c2cb6257bb3"
   },
   "outputs": [
    {
     "data": {
      "text/html": [
       "<div>\n",
       "<style>\n",
       "    .dataframe thead tr:only-child th {\n",
       "        text-align: right;\n",
       "    }\n",
       "\n",
       "    .dataframe thead th {\n",
       "        text-align: left;\n",
       "    }\n",
       "\n",
       "    .dataframe tbody tr th {\n",
       "        vertical-align: top;\n",
       "    }\n",
       "</style>\n",
       "<table border=\"1\" class=\"dataframe\">\n",
       "  <thead>\n",
       "    <tr style=\"text-align: right;\">\n",
       "      <th></th>\n",
       "      <th>color</th>\n",
       "      <th>fruit</th>\n",
       "      <th>inventory</th>\n",
       "      <th>rating</th>\n",
       "    </tr>\n",
       "  </thead>\n",
       "  <tbody>\n",
       "    <tr>\n",
       "      <th>0</th>\n",
       "      <td>red</td>\n",
       "      <td>apple</td>\n",
       "      <td>23</td>\n",
       "      <td>3</td>\n",
       "    </tr>\n",
       "    <tr>\n",
       "      <th>1</th>\n",
       "      <td>orange</td>\n",
       "      <td>orange</td>\n",
       "      <td>18</td>\n",
       "      <td>4</td>\n",
       "    </tr>\n",
       "    <tr>\n",
       "      <th>2</th>\n",
       "      <td>yellow</td>\n",
       "      <td>banana</td>\n",
       "      <td>50</td>\n",
       "      <td>5</td>\n",
       "    </tr>\n",
       "    <tr>\n",
       "      <th>3</th>\n",
       "      <td>pink</td>\n",
       "      <td>raspberry</td>\n",
       "      <td>20</td>\n",
       "      <td>5</td>\n",
       "    </tr>\n",
       "  </tbody>\n",
       "</table>\n",
       "</div>"
      ],
      "text/plain": [
       "    color      fruit  inventory  rating\n",
       "0     red      apple         23       3\n",
       "1  orange     orange         18       4\n",
       "2  yellow     banana         50       5\n",
       "3    pink  raspberry         20       5"
      ]
     },
     "execution_count": 49,
     "metadata": {},
     "output_type": "execute_result"
    }
   ],
   "source": [
    "fruit_info"
   ]
  },
  {
   "cell_type": "code",
   "execution_count": 50,
   "metadata": {
    "colab": {
     "autoexec": {
      "startup": false,
      "wait_interval": 0
     },
     "base_uri": "https://localhost:8080/",
     "height": 111,
     "output_extras": [
      {}
     ]
    },
    "colab_type": "code",
    "executionInfo": {
     "elapsed": 379,
     "status": "ok",
     "timestamp": 1519714212358,
     "user": {
      "displayName": "Carlo C.",
      "photoUrl": "//lh6.googleusercontent.com/-Oz6qj713Ejc/AAAAAAAAAAI/AAAAAAAAAlc/CuM0wKBfCwg/s50-c-k-no/photo.jpg",
      "userId": "101126728090140711345"
     },
     "user_tz": 480
    },
    "id": "wniwriNMBZ0_",
    "outputId": "b45ab5f6-2b48-4980-a1d3-845644926006"
   },
   "outputs": [
    {
     "data": {
      "text/html": [
       "<div>\n",
       "<style>\n",
       "    .dataframe thead tr:only-child th {\n",
       "        text-align: right;\n",
       "    }\n",
       "\n",
       "    .dataframe thead th {\n",
       "        text-align: left;\n",
       "    }\n",
       "\n",
       "    .dataframe tbody tr th {\n",
       "        vertical-align: top;\n",
       "    }\n",
       "</style>\n",
       "<table border=\"1\" class=\"dataframe\">\n",
       "  <thead>\n",
       "    <tr style=\"text-align: right;\">\n",
       "      <th></th>\n",
       "      <th>color</th>\n",
       "      <th>fruit</th>\n",
       "      <th>inventory</th>\n",
       "      <th>rating</th>\n",
       "    </tr>\n",
       "  </thead>\n",
       "  <tbody>\n",
       "    <tr>\n",
       "      <th>0</th>\n",
       "      <td>red</td>\n",
       "      <td>apple</td>\n",
       "      <td>23</td>\n",
       "      <td>3</td>\n",
       "    </tr>\n",
       "    <tr>\n",
       "      <th>2</th>\n",
       "      <td>yellow</td>\n",
       "      <td>banana</td>\n",
       "      <td>50</td>\n",
       "      <td>5</td>\n",
       "    </tr>\n",
       "  </tbody>\n",
       "</table>\n",
       "</div>"
      ],
      "text/plain": [
       "    color   fruit  inventory  rating\n",
       "0     red   apple         23       3\n",
       "2  yellow  banana         50       5"
      ]
     },
     "execution_count": 50,
     "metadata": {},
     "output_type": "execute_result"
    }
   ],
   "source": [
    "# select row only if corresponding value in *selection* is True\n",
    "selection = np.array([True, False, True, False])\n",
    "fruit_info[selection]"
   ]
  },
  {
   "cell_type": "markdown",
   "metadata": {
    "colab_type": "text",
    "id": "y_B5A1G-3MOV"
   },
   "source": [
    "## Filtering Data"
   ]
  },
  {
   "cell_type": "markdown",
   "metadata": {
    "colab_type": "text",
    "id": "KdY_x_El4EGU"
   },
   "source": [
    "So far we have selected data based off of row numbers and column headers. Let's work on filtering data more precisely.\n",
    "\n",
    "`table[condition]`"
   ]
  },
  {
   "cell_type": "code",
   "execution_count": 51,
   "metadata": {
    "colab": {
     "autoexec": {
      "startup": false,
      "wait_interval": 0
     },
     "base_uri": "https://localhost:8080/",
     "height": 204,
     "output_extras": [
      {}
     ]
    },
    "colab_type": "code",
    "executionInfo": {
     "elapsed": 350,
     "status": "ok",
     "timestamp": 1519714666346,
     "user": {
      "displayName": "Carlo C.",
      "photoUrl": "//lh6.googleusercontent.com/-Oz6qj713Ejc/AAAAAAAAAAI/AAAAAAAAAlc/CuM0wKBfCwg/s50-c-k-no/photo.jpg",
      "userId": "101126728090140711345"
     },
     "user_tz": 480
    },
    "id": "3o2U54-e4B6X",
    "outputId": "0636e111-537d-4121-fb29-e81487b3a255"
   },
   "outputs": [
    {
     "data": {
      "text/html": [
       "<div>\n",
       "<style>\n",
       "    .dataframe thead tr:only-child th {\n",
       "        text-align: right;\n",
       "    }\n",
       "\n",
       "    .dataframe thead th {\n",
       "        text-align: left;\n",
       "    }\n",
       "\n",
       "    .dataframe tbody tr th {\n",
       "        vertical-align: top;\n",
       "    }\n",
       "</style>\n",
       "<table border=\"1\" class=\"dataframe\">\n",
       "  <thead>\n",
       "    <tr style=\"text-align: right;\">\n",
       "      <th></th>\n",
       "      <th>State</th>\n",
       "      <th>Sex</th>\n",
       "      <th>Year</th>\n",
       "      <th>Name</th>\n",
       "      <th>Count</th>\n",
       "    </tr>\n",
       "  </thead>\n",
       "  <tbody>\n",
       "    <tr>\n",
       "      <th>219486</th>\n",
       "      <td>CA</td>\n",
       "      <td>M</td>\n",
       "      <td>1917</td>\n",
       "      <td>Carlo</td>\n",
       "      <td>10</td>\n",
       "    </tr>\n",
       "    <tr>\n",
       "      <th>219941</th>\n",
       "      <td>CA</td>\n",
       "      <td>M</td>\n",
       "      <td>1918</td>\n",
       "      <td>Carlo</td>\n",
       "      <td>8</td>\n",
       "    </tr>\n",
       "    <tr>\n",
       "      <th>220848</th>\n",
       "      <td>CA</td>\n",
       "      <td>M</td>\n",
       "      <td>1920</td>\n",
       "      <td>Carlo</td>\n",
       "      <td>10</td>\n",
       "    </tr>\n",
       "    <tr>\n",
       "      <th>221935</th>\n",
       "      <td>CA</td>\n",
       "      <td>M</td>\n",
       "      <td>1922</td>\n",
       "      <td>Carlo</td>\n",
       "      <td>9</td>\n",
       "    </tr>\n",
       "    <tr>\n",
       "      <th>222457</th>\n",
       "      <td>CA</td>\n",
       "      <td>M</td>\n",
       "      <td>1923</td>\n",
       "      <td>Carlo</td>\n",
       "      <td>10</td>\n",
       "    </tr>\n",
       "  </tbody>\n",
       "</table>\n",
       "</div>"
      ],
      "text/plain": [
       "       State Sex  Year   Name  Count\n",
       "219486    CA   M  1917  Carlo     10\n",
       "219941    CA   M  1918  Carlo      8\n",
       "220848    CA   M  1920  Carlo     10\n",
       "221935    CA   M  1922  Carlo      9\n",
       "222457    CA   M  1923  Carlo     10"
      ]
     },
     "execution_count": 51,
     "metadata": {},
     "output_type": "execute_result"
    }
   ],
   "source": [
    "condition = baby_names['Name'] == 'Carlo'\n",
    "baby_names[condition].head(5)"
   ]
  },
  {
   "cell_type": "markdown",
   "metadata": {
    "colab_type": "text",
    "id": "uabYiMHo2f0i"
   },
   "source": [
    "The above code only selects rows that have Name equal to 'Carlo'. Change it to your name!"
   ]
  },
  {
   "cell_type": "markdown",
   "metadata": {
    "colab_type": "text",
    "id": "yPwnQ-bl5UOC"
   },
   "source": [
    "### Apply multiple conditions!\n",
    "\n",
    " `table[ (condition 1)  &  (condition 2) ]`\n",
    " \n",
    "\n",
    " \n",
    "<font color=\"blue\">Class Exercise:</font> select the names in Year 2000 that have larger than 3000 counts."
   ]
  },
  {
   "cell_type": "code",
   "execution_count": 52,
   "metadata": {
    "colab": {
     "autoexec": {
      "startup": false,
      "wait_interval": 0
     },
     "base_uri": "https://localhost:8080/",
     "height": 142,
     "output_extras": [
      {}
     ]
    },
    "colab_type": "code",
    "executionInfo": {
     "elapsed": 545,
     "status": "ok",
     "timestamp": 1519712156063,
     "user": {
      "displayName": "Carlo C.",
      "photoUrl": "//lh6.googleusercontent.com/-Oz6qj713Ejc/AAAAAAAAAAI/AAAAAAAAAlc/CuM0wKBfCwg/s50-c-k-no/photo.jpg",
      "userId": "101126728090140711345"
     },
     "user_tz": 480
    },
    "id": "0rEAnK4C5hzV",
    "outputId": "46a751d8-f63a-43c3-e017-ab43a3a07550"
   },
   "outputs": [
    {
     "data": {
      "text/html": [
       "<div>\n",
       "<style>\n",
       "    .dataframe thead tr:only-child th {\n",
       "        text-align: right;\n",
       "    }\n",
       "\n",
       "    .dataframe thead th {\n",
       "        text-align: left;\n",
       "    }\n",
       "\n",
       "    .dataframe tbody tr th {\n",
       "        vertical-align: top;\n",
       "    }\n",
       "</style>\n",
       "<table border=\"1\" class=\"dataframe\">\n",
       "  <thead>\n",
       "    <tr style=\"text-align: right;\">\n",
       "      <th></th>\n",
       "      <th>State</th>\n",
       "      <th>Sex</th>\n",
       "      <th>Year</th>\n",
       "      <th>Name</th>\n",
       "      <th>Count</th>\n",
       "    </tr>\n",
       "  </thead>\n",
       "  <tbody>\n",
       "    <tr>\n",
       "      <th>320198</th>\n",
       "      <td>CA</td>\n",
       "      <td>M</td>\n",
       "      <td>2000</td>\n",
       "      <td>Daniel</td>\n",
       "      <td>4339</td>\n",
       "    </tr>\n",
       "    <tr>\n",
       "      <th>320199</th>\n",
       "      <td>CA</td>\n",
       "      <td>M</td>\n",
       "      <td>2000</td>\n",
       "      <td>Anthony</td>\n",
       "      <td>3837</td>\n",
       "    </tr>\n",
       "    <tr>\n",
       "      <th>320200</th>\n",
       "      <td>CA</td>\n",
       "      <td>M</td>\n",
       "      <td>2000</td>\n",
       "      <td>Jose</td>\n",
       "      <td>3803</td>\n",
       "    </tr>\n",
       "  </tbody>\n",
       "</table>\n",
       "</div>"
      ],
      "text/plain": [
       "       State Sex  Year     Name  Count\n",
       "320198    CA   M  2000   Daniel   4339\n",
       "320199    CA   M  2000  Anthony   3837\n",
       "320200    CA   M  2000     Jose   3803"
      ]
     },
     "execution_count": 52,
     "metadata": {},
     "output_type": "execute_result"
    }
   ],
   "source": [
    "result = baby_names[(baby_names['Count'] > 3000) & (baby_names['Year'] == 2000)]\n",
    "result.head(3)"
   ]
  },
  {
   "cell_type": "markdown",
   "metadata": {
    "colab_type": "text",
    "id": "bouCJr952f0m"
   },
   "source": [
    "### Thorough explanation:"
   ]
  },
  {
   "cell_type": "markdown",
   "metadata": {
    "colab_type": "text",
    "id": "7kHliZZ_AueM"
   },
   "source": [
    "Remember that calling `baby_names['Name']` returns a **Series** of all of the names.\n",
    "\n",
    "Checking if values in the series are equal to `Carlo` results in an array of {True, False} values. \n",
    "\n",
    "Then, we select rows based off of this boolean array. Thus, we could also do:"
   ]
  },
  {
   "cell_type": "code",
   "execution_count": 53,
   "metadata": {
    "colab": {
     "autoexec": {
      "startup": false,
      "wait_interval": 0
     },
     "base_uri": "https://localhost:8080/",
     "height": 204,
     "output_extras": [
      {}
     ]
    },
    "colab_type": "code",
    "executionInfo": {
     "elapsed": 348,
     "status": "ok",
     "timestamp": 1519714403964,
     "user": {
      "displayName": "Carlo C.",
      "photoUrl": "//lh6.googleusercontent.com/-Oz6qj713Ejc/AAAAAAAAAAI/AAAAAAAAAlc/CuM0wKBfCwg/s50-c-k-no/photo.jpg",
      "userId": "101126728090140711345"
     },
     "user_tz": 480
    },
    "id": "Pp9nuWFeB8qy",
    "outputId": "33015842-6962-48f3-bd28-c862ebc11f01"
   },
   "outputs": [
    {
     "data": {
      "text/html": [
       "<div>\n",
       "<style>\n",
       "    .dataframe thead tr:only-child th {\n",
       "        text-align: right;\n",
       "    }\n",
       "\n",
       "    .dataframe thead th {\n",
       "        text-align: left;\n",
       "    }\n",
       "\n",
       "    .dataframe tbody tr th {\n",
       "        vertical-align: top;\n",
       "    }\n",
       "</style>\n",
       "<table border=\"1\" class=\"dataframe\">\n",
       "  <thead>\n",
       "    <tr style=\"text-align: right;\">\n",
       "      <th></th>\n",
       "      <th>State</th>\n",
       "      <th>Sex</th>\n",
       "      <th>Year</th>\n",
       "      <th>Name</th>\n",
       "      <th>Count</th>\n",
       "    </tr>\n",
       "  </thead>\n",
       "  <tbody>\n",
       "    <tr>\n",
       "      <th>219486</th>\n",
       "      <td>CA</td>\n",
       "      <td>M</td>\n",
       "      <td>1917</td>\n",
       "      <td>Carlo</td>\n",
       "      <td>10</td>\n",
       "    </tr>\n",
       "    <tr>\n",
       "      <th>219941</th>\n",
       "      <td>CA</td>\n",
       "      <td>M</td>\n",
       "      <td>1918</td>\n",
       "      <td>Carlo</td>\n",
       "      <td>8</td>\n",
       "    </tr>\n",
       "    <tr>\n",
       "      <th>220848</th>\n",
       "      <td>CA</td>\n",
       "      <td>M</td>\n",
       "      <td>1920</td>\n",
       "      <td>Carlo</td>\n",
       "      <td>10</td>\n",
       "    </tr>\n",
       "    <tr>\n",
       "      <th>221935</th>\n",
       "      <td>CA</td>\n",
       "      <td>M</td>\n",
       "      <td>1922</td>\n",
       "      <td>Carlo</td>\n",
       "      <td>9</td>\n",
       "    </tr>\n",
       "    <tr>\n",
       "      <th>222457</th>\n",
       "      <td>CA</td>\n",
       "      <td>M</td>\n",
       "      <td>1923</td>\n",
       "      <td>Carlo</td>\n",
       "      <td>10</td>\n",
       "    </tr>\n",
       "  </tbody>\n",
       "</table>\n",
       "</div>"
      ],
      "text/plain": [
       "       State Sex  Year   Name  Count\n",
       "219486    CA   M  1917  Carlo     10\n",
       "219941    CA   M  1918  Carlo      8\n",
       "220848    CA   M  1920  Carlo     10\n",
       "221935    CA   M  1922  Carlo      9\n",
       "222457    CA   M  1923  Carlo     10"
      ]
     },
     "execution_count": 53,
     "metadata": {},
     "output_type": "execute_result"
    }
   ],
   "source": [
    "names = baby_names['Name']\n",
    "equalto_Carlo = (names == 'Carlo')  # equalto_Carlo is now an array of True/False variables!\n",
    "baby_names[equalto_Carlo].head(5)"
   ]
  },
  {
   "cell_type": "markdown",
   "metadata": {
    "colab_type": "text",
    "id": "c2EOdJBB7uNI"
   },
   "source": [
    "## Using Numpy with Pandas"
   ]
  },
  {
   "cell_type": "markdown",
   "metadata": {
    "colab_type": "text",
    "id": "bCNpOBUB70jZ"
   },
   "source": [
    "How many rows does our `baby_names` table have?"
   ]
  },
  {
   "cell_type": "code",
   "execution_count": 54,
   "metadata": {
    "colab": {
     "autoexec": {
      "startup": false,
      "wait_interval": 0
     },
     "base_uri": "https://localhost:8080/",
     "height": 34,
     "output_extras": [
      {}
     ]
    },
    "colab_type": "code",
    "executionInfo": {
     "elapsed": 420,
     "status": "ok",
     "timestamp": 1519712719756,
     "user": {
      "displayName": "Carlo C.",
      "photoUrl": "//lh6.googleusercontent.com/-Oz6qj713Ejc/AAAAAAAAAAI/AAAAAAAAAlc/CuM0wKBfCwg/s50-c-k-no/photo.jpg",
      "userId": "101126728090140711345"
     },
     "user_tz": 480
    },
    "id": "1vhVz9a-78W5",
    "outputId": "124f3e60-08da-43f9-aa77-9c58221ee35b"
   },
   "outputs": [
    {
     "data": {
      "text/plain": [
       "367931"
      ]
     },
     "execution_count": 54,
     "metadata": {},
     "output_type": "execute_result"
    }
   ],
   "source": [
    "len(baby_names)"
   ]
  },
  {
   "cell_type": "markdown",
   "metadata": {
    "colab_type": "text",
    "id": "qiQW0Ihf7-Mi"
   },
   "source": [
    "That's a lot of rows! We can't just look at the table and understand it.\n",
    "\n",
    "Luckily, **Numpy** functions treat pandas **Series** as np.arrays."
   ]
  },
  {
   "cell_type": "markdown",
   "metadata": {
    "colab_type": "text",
    "id": "jnAC54Bb8Kv1"
   },
   "source": [
    "<font color=\"blue\">Exercise:</font> What is oldest and most recent year that we have data from in `baby_names`?\n",
    "HINT: np.min, np.max"
   ]
  },
  {
   "cell_type": "code",
   "execution_count": 55,
   "metadata": {
    "colab": {
     "autoexec": {
      "startup": false,
      "wait_interval": 0
     },
     "output_extras": [
      {}
     ]
    },
    "colab_type": "code",
    "id": "uWOTEfP_8zfp",
    "outputId": "7c94924e-c5cd-44b3-f006-7978c8b44bd6"
   },
   "outputs": [
    {
     "data": {
      "text/plain": [
       "(2016, 1910)"
      ]
     },
     "execution_count": 55,
     "metadata": {},
     "output_type": "execute_result"
    }
   ],
   "source": [
    "recent_year = np.max(baby_names['Year'])\n",
    "oldest_year = np.min(baby_names['Year'])\n",
    "(recent_year, oldest_year)"
   ]
  },
  {
   "cell_type": "markdown",
   "metadata": {
    "colab_type": "text",
    "id": "bNdV1I5R-f4K"
   },
   "source": [
    "<font color=\"blue\">Exercise:</font> How many baby names were born in CA in 2015?\n",
    "\n",
    "Hint: the 'Count' column refers the the number of occurrences of a baby name. How could we find the total number of baby names? Now narrow that to only 2015."
   ]
  },
  {
   "cell_type": "code",
   "execution_count": 56,
   "metadata": {
    "colab": {
     "autoexec": {
      "startup": false,
      "wait_interval": 0
     },
     "base_uri": "https://localhost:8080/",
     "height": 34,
     "output_extras": [
      {}
     ]
    },
    "colab_type": "code",
    "executionInfo": {
     "elapsed": 2355,
     "status": "ok",
     "timestamp": 1519713807747,
     "user": {
      "displayName": "Carlo C.",
      "photoUrl": "//lh6.googleusercontent.com/-Oz6qj713Ejc/AAAAAAAAAAI/AAAAAAAAAlc/CuM0wKBfCwg/s50-c-k-no/photo.jpg",
      "userId": "101126728090140711345"
     },
     "user_tz": 480
    },
    "id": "hsc_6EsK8PPc",
    "outputId": "abadbadf-8040-45c8-909c-525f92369acf"
   },
   "outputs": [
    {
     "data": {
      "text/plain": [
       "429730"
      ]
     },
     "execution_count": 56,
     "metadata": {},
     "output_type": "execute_result"
    }
   ],
   "source": [
    "baby_names_2015 = baby_names[baby_names['Year'] == 2015]\n",
    "baby_names_2015_counts = baby_names_2015['Count']\n",
    "number_baby_names_2015 = np.sum(baby_names_2015_counts)\n",
    "number_baby_names_2015"
   ]
  },
  {
   "cell_type": "code",
   "execution_count": 57,
   "metadata": {
    "colab": {
     "autoexec": {
      "startup": false,
      "wait_interval": 0
     },
     "output_extras": [
      {}
     ]
    },
    "colab_type": "code",
    "id": "Y7SHGGch2f0w",
    "outputId": "353d1d9d-63c0-464f-fec7-d41c203cd5e5"
   },
   "outputs": [
    {
     "data": {
      "text/plain": [
       "429730"
      ]
     },
     "execution_count": 57,
     "metadata": {},
     "output_type": "execute_result"
    }
   ],
   "source": [
    "np.sum(baby_names[baby_names['Year'] == 2015]['Count'])"
   ]
  },
  {
   "cell_type": "markdown",
   "metadata": {
    "colab_type": "text",
    "id": "Fv7O-vh42f0x"
   },
   "source": [
    "### np.unique"
   ]
  },
  {
   "cell_type": "code",
   "execution_count": 58,
   "metadata": {
    "colab": {
     "autoexec": {
      "startup": false,
      "wait_interval": 0
     },
     "base_uri": "https://localhost:8080/",
     "height": 34,
     "output_extras": [
      {}
     ]
    },
    "colab_type": "code",
    "executionInfo": {
     "elapsed": 461,
     "status": "ok",
     "timestamp": 1519715090568,
     "user": {
      "displayName": "Carlo C.",
      "photoUrl": "//lh6.googleusercontent.com/-Oz6qj713Ejc/AAAAAAAAAAI/AAAAAAAAAlc/CuM0wKBfCwg/s50-c-k-no/photo.jpg",
      "userId": "101126728090140711345"
     },
     "user_tz": 480
    },
    "id": "XVsWFZYHE0_f",
    "outputId": "ccadc220-7c66-4154-beae-bf604fa2ef77"
   },
   "outputs": [
    {
     "data": {
      "text/plain": [
       "array(['F', 'M'], dtype=object)"
      ]
     },
     "execution_count": 58,
     "metadata": {},
     "output_type": "execute_result"
    }
   ],
   "source": [
    "# return an array with an element for each unique value in the Series/np.array\n",
    "np.unique(baby_names['Sex'])"
   ]
  },
  {
   "cell_type": "code",
   "execution_count": 59,
   "metadata": {
    "colab": {
     "autoexec": {
      "startup": false,
      "wait_interval": 0
     },
     "base_uri": "https://localhost:8080/",
     "height": 34,
     "output_extras": [
      {}
     ]
    },
    "colab_type": "code",
    "collapsed": true,
    "executionInfo": {
     "elapsed": 909,
     "status": "ok",
     "timestamp": 1519714926468,
     "user": {
      "displayName": "Carlo C.",
      "photoUrl": "//lh6.googleusercontent.com/-Oz6qj713Ejc/AAAAAAAAAAI/AAAAAAAAAlc/CuM0wKBfCwg/s50-c-k-no/photo.jpg",
      "userId": "101126728090140711345"
     },
     "user_tz": 480
    },
    "id": "pX-vea8ODCKU",
    "outputId": "8071ac16-8856-4e88-b217-2fd186ea798d"
   },
   "outputs": [],
   "source": [
    "# demo\n",
    "states = np.unique(baby_names['State']) # okay now we know this dataset only involves California babies."
   ]
  },
  {
   "cell_type": "code",
   "execution_count": 60,
   "metadata": {},
   "outputs": [
    {
     "data": {
      "text/plain": [
       "19234"
      ]
     },
     "execution_count": 60,
     "metadata": {},
     "output_type": "execute_result"
    }
   ],
   "source": [
    "names = np.unique(baby_names['Name'])\n",
    "len(names)"
   ]
  },
  {
   "cell_type": "markdown",
   "metadata": {},
   "source": [
    "## Copy vs View\n",
    "\n",
    "Depending on how you format your code, pandas might be returning a copy of the dataframe (i.e. a whole new dataframe, but just with the same values), or a view of the dataframe (i.e. the same dataframe itself)."
   ]
  },
  {
   "cell_type": "code",
   "execution_count": 61,
   "metadata": {},
   "outputs": [
    {
     "data": {
      "text/html": [
       "<div>\n",
       "<style>\n",
       "    .dataframe thead tr:only-child th {\n",
       "        text-align: right;\n",
       "    }\n",
       "\n",
       "    .dataframe thead th {\n",
       "        text-align: left;\n",
       "    }\n",
       "\n",
       "    .dataframe tbody tr th {\n",
       "        vertical-align: top;\n",
       "    }\n",
       "</style>\n",
       "<table border=\"1\" class=\"dataframe\">\n",
       "  <thead>\n",
       "    <tr style=\"text-align: right;\">\n",
       "      <th></th>\n",
       "      <th>color</th>\n",
       "      <th>fruit</th>\n",
       "      <th>inventory</th>\n",
       "      <th>rating</th>\n",
       "    </tr>\n",
       "  </thead>\n",
       "  <tbody>\n",
       "    <tr>\n",
       "      <th>0</th>\n",
       "      <td>red</td>\n",
       "      <td>apple</td>\n",
       "      <td>23</td>\n",
       "      <td>3</td>\n",
       "    </tr>\n",
       "    <tr>\n",
       "      <th>1</th>\n",
       "      <td>orange</td>\n",
       "      <td>orange</td>\n",
       "      <td>18</td>\n",
       "      <td>4</td>\n",
       "    </tr>\n",
       "    <tr>\n",
       "      <th>2</th>\n",
       "      <td>yellow</td>\n",
       "      <td>banana</td>\n",
       "      <td>50</td>\n",
       "      <td>5</td>\n",
       "    </tr>\n",
       "    <tr>\n",
       "      <th>3</th>\n",
       "      <td>pink</td>\n",
       "      <td>raspberry</td>\n",
       "      <td>20</td>\n",
       "      <td>5</td>\n",
       "    </tr>\n",
       "  </tbody>\n",
       "</table>\n",
       "</div>"
      ],
      "text/plain": [
       "    color      fruit  inventory  rating\n",
       "0     red      apple         23       3\n",
       "1  orange     orange         18       4\n",
       "2  yellow     banana         50       5\n",
       "3    pink  raspberry         20       5"
      ]
     },
     "execution_count": 61,
     "metadata": {},
     "output_type": "execute_result"
    }
   ],
   "source": [
    "carlos_fruits = fruit_info.copy()\n",
    "carlos_fruits"
   ]
  },
  {
   "cell_type": "markdown",
   "metadata": {},
   "source": [
    "Let's say Carlo is happy with those ratings. But Jun Seo loves bananas! Let's make a \"new\" dataframe and change the ratings accordingly:"
   ]
  },
  {
   "cell_type": "code",
   "execution_count": 62,
   "metadata": {},
   "outputs": [
    {
     "data": {
      "text/html": [
       "<div>\n",
       "<style>\n",
       "    .dataframe thead tr:only-child th {\n",
       "        text-align: right;\n",
       "    }\n",
       "\n",
       "    .dataframe thead th {\n",
       "        text-align: left;\n",
       "    }\n",
       "\n",
       "    .dataframe tbody tr th {\n",
       "        vertical-align: top;\n",
       "    }\n",
       "</style>\n",
       "<table border=\"1\" class=\"dataframe\">\n",
       "  <thead>\n",
       "    <tr style=\"text-align: right;\">\n",
       "      <th></th>\n",
       "      <th>color</th>\n",
       "      <th>fruit</th>\n",
       "      <th>inventory</th>\n",
       "      <th>rating</th>\n",
       "    </tr>\n",
       "  </thead>\n",
       "  <tbody>\n",
       "    <tr>\n",
       "      <th>0</th>\n",
       "      <td>red</td>\n",
       "      <td>apple</td>\n",
       "      <td>23</td>\n",
       "      <td>3</td>\n",
       "    </tr>\n",
       "    <tr>\n",
       "      <th>1</th>\n",
       "      <td>orange</td>\n",
       "      <td>orange</td>\n",
       "      <td>18</td>\n",
       "      <td>4</td>\n",
       "    </tr>\n",
       "    <tr>\n",
       "      <th>2</th>\n",
       "      <td>yellow</td>\n",
       "      <td>banana</td>\n",
       "      <td>50</td>\n",
       "      <td>9999</td>\n",
       "    </tr>\n",
       "    <tr>\n",
       "      <th>3</th>\n",
       "      <td>pink</td>\n",
       "      <td>raspberry</td>\n",
       "      <td>20</td>\n",
       "      <td>5</td>\n",
       "    </tr>\n",
       "  </tbody>\n",
       "</table>\n",
       "</div>"
      ],
      "text/plain": [
       "    color      fruit  inventory  rating\n",
       "0     red      apple         23       3\n",
       "1  orange     orange         18       4\n",
       "2  yellow     banana         50    9999\n",
       "3    pink  raspberry         20       5"
      ]
     },
     "execution_count": 62,
     "metadata": {},
     "output_type": "execute_result"
    }
   ],
   "source": [
    "junseos_fruits = carlos_fruits\n",
    "junseos_fruits['rating'] = [3, 4, 9999, 5]\n",
    "junseos_fruits"
   ]
  },
  {
   "cell_type": "markdown",
   "metadata": {},
   "source": [
    "And taking a look back at Carlo's fruits:"
   ]
  },
  {
   "cell_type": "code",
   "execution_count": 63,
   "metadata": {},
   "outputs": [
    {
     "data": {
      "text/html": [
       "<div>\n",
       "<style>\n",
       "    .dataframe thead tr:only-child th {\n",
       "        text-align: right;\n",
       "    }\n",
       "\n",
       "    .dataframe thead th {\n",
       "        text-align: left;\n",
       "    }\n",
       "\n",
       "    .dataframe tbody tr th {\n",
       "        vertical-align: top;\n",
       "    }\n",
       "</style>\n",
       "<table border=\"1\" class=\"dataframe\">\n",
       "  <thead>\n",
       "    <tr style=\"text-align: right;\">\n",
       "      <th></th>\n",
       "      <th>color</th>\n",
       "      <th>fruit</th>\n",
       "      <th>inventory</th>\n",
       "      <th>rating</th>\n",
       "    </tr>\n",
       "  </thead>\n",
       "  <tbody>\n",
       "    <tr>\n",
       "      <th>0</th>\n",
       "      <td>red</td>\n",
       "      <td>apple</td>\n",
       "      <td>23</td>\n",
       "      <td>3</td>\n",
       "    </tr>\n",
       "    <tr>\n",
       "      <th>1</th>\n",
       "      <td>orange</td>\n",
       "      <td>orange</td>\n",
       "      <td>18</td>\n",
       "      <td>4</td>\n",
       "    </tr>\n",
       "    <tr>\n",
       "      <th>2</th>\n",
       "      <td>yellow</td>\n",
       "      <td>banana</td>\n",
       "      <td>50</td>\n",
       "      <td>9999</td>\n",
       "    </tr>\n",
       "    <tr>\n",
       "      <th>3</th>\n",
       "      <td>pink</td>\n",
       "      <td>raspberry</td>\n",
       "      <td>20</td>\n",
       "      <td>5</td>\n",
       "    </tr>\n",
       "  </tbody>\n",
       "</table>\n",
       "</div>"
      ],
      "text/plain": [
       "    color      fruit  inventory  rating\n",
       "0     red      apple         23       3\n",
       "1  orange     orange         18       4\n",
       "2  yellow     banana         50    9999\n",
       "3    pink  raspberry         20       5"
      ]
     },
     "execution_count": 63,
     "metadata": {},
     "output_type": "execute_result"
    }
   ],
   "source": [
    "carlos_fruits"
   ]
  },
  {
   "cell_type": "markdown",
   "metadata": {},
   "source": [
    "Wait, Carlo's banana rating shouldn't be that high! What happened is that junseos_fruits returned a *view* on Carlo's dataframe. Then did our shenanigans affect the original fruit_info dataframe too?"
   ]
  },
  {
   "cell_type": "code",
   "execution_count": 64,
   "metadata": {},
   "outputs": [
    {
     "data": {
      "text/html": [
       "<div>\n",
       "<style>\n",
       "    .dataframe thead tr:only-child th {\n",
       "        text-align: right;\n",
       "    }\n",
       "\n",
       "    .dataframe thead th {\n",
       "        text-align: left;\n",
       "    }\n",
       "\n",
       "    .dataframe tbody tr th {\n",
       "        vertical-align: top;\n",
       "    }\n",
       "</style>\n",
       "<table border=\"1\" class=\"dataframe\">\n",
       "  <thead>\n",
       "    <tr style=\"text-align: right;\">\n",
       "      <th></th>\n",
       "      <th>color</th>\n",
       "      <th>fruit</th>\n",
       "      <th>inventory</th>\n",
       "      <th>rating</th>\n",
       "    </tr>\n",
       "  </thead>\n",
       "  <tbody>\n",
       "    <tr>\n",
       "      <th>0</th>\n",
       "      <td>red</td>\n",
       "      <td>apple</td>\n",
       "      <td>23</td>\n",
       "      <td>3</td>\n",
       "    </tr>\n",
       "    <tr>\n",
       "      <th>1</th>\n",
       "      <td>orange</td>\n",
       "      <td>orange</td>\n",
       "      <td>18</td>\n",
       "      <td>4</td>\n",
       "    </tr>\n",
       "    <tr>\n",
       "      <th>2</th>\n",
       "      <td>yellow</td>\n",
       "      <td>banana</td>\n",
       "      <td>50</td>\n",
       "      <td>5</td>\n",
       "    </tr>\n",
       "    <tr>\n",
       "      <th>3</th>\n",
       "      <td>pink</td>\n",
       "      <td>raspberry</td>\n",
       "      <td>20</td>\n",
       "      <td>5</td>\n",
       "    </tr>\n",
       "  </tbody>\n",
       "</table>\n",
       "</div>"
      ],
      "text/plain": [
       "    color      fruit  inventory  rating\n",
       "0     red      apple         23       3\n",
       "1  orange     orange         18       4\n",
       "2  yellow     banana         50       5\n",
       "3    pink  raspberry         20       5"
      ]
     },
     "execution_count": 64,
     "metadata": {},
     "output_type": "execute_result"
    }
   ],
   "source": [
    "fruit_info"
   ]
  },
  {
   "cell_type": "markdown",
   "metadata": {},
   "source": [
    "No, because when we called `carlos_fruits = fruit_info.copy()`, we asked pandas to forcibly create a brand new dataframe with identical values instead.\n",
    "\n",
    "### SettingWithCopyWarning\n",
    "\n",
    "This is arguably one of the most frustrating warnings you will see while using pandas. \n",
    "TL;DR: Use .loc instead of square brackets to index into data.\n",
    "\n",
    "Let's say Jun Seo strongly dislikes apples."
   ]
  },
  {
   "cell_type": "code",
   "execution_count": 65,
   "metadata": {},
   "outputs": [
    {
     "data": {
      "text/html": [
       "<div>\n",
       "<style>\n",
       "    .dataframe thead tr:only-child th {\n",
       "        text-align: right;\n",
       "    }\n",
       "\n",
       "    .dataframe thead th {\n",
       "        text-align: left;\n",
       "    }\n",
       "\n",
       "    .dataframe tbody tr th {\n",
       "        vertical-align: top;\n",
       "    }\n",
       "</style>\n",
       "<table border=\"1\" class=\"dataframe\">\n",
       "  <thead>\n",
       "    <tr style=\"text-align: right;\">\n",
       "      <th></th>\n",
       "      <th>color</th>\n",
       "      <th>fruit</th>\n",
       "      <th>inventory</th>\n",
       "      <th>rating</th>\n",
       "    </tr>\n",
       "  </thead>\n",
       "  <tbody>\n",
       "    <tr>\n",
       "      <th>0</th>\n",
       "      <td>red</td>\n",
       "      <td>apple</td>\n",
       "      <td>23</td>\n",
       "      <td>3</td>\n",
       "    </tr>\n",
       "  </tbody>\n",
       "</table>\n",
       "</div>"
      ],
      "text/plain": [
       "  color  fruit  inventory  rating\n",
       "0   red  apple         23       3"
      ]
     },
     "execution_count": 65,
     "metadata": {},
     "output_type": "execute_result"
    }
   ],
   "source": [
    "junseos_fruits[junseos_fruits['fruit'] == 'apple']"
   ]
  },
  {
   "cell_type": "code",
   "execution_count": 66,
   "metadata": {},
   "outputs": [
    {
     "data": {
      "text/html": [
       "<div>\n",
       "<style>\n",
       "    .dataframe thead tr:only-child th {\n",
       "        text-align: right;\n",
       "    }\n",
       "\n",
       "    .dataframe thead th {\n",
       "        text-align: left;\n",
       "    }\n",
       "\n",
       "    .dataframe tbody tr th {\n",
       "        vertical-align: top;\n",
       "    }\n",
       "</style>\n",
       "<table border=\"1\" class=\"dataframe\">\n",
       "  <thead>\n",
       "    <tr style=\"text-align: right;\">\n",
       "      <th></th>\n",
       "      <th>color</th>\n",
       "      <th>fruit</th>\n",
       "      <th>inventory</th>\n",
       "      <th>rating</th>\n",
       "    </tr>\n",
       "  </thead>\n",
       "  <tbody>\n",
       "    <tr>\n",
       "      <th>0</th>\n",
       "      <td>red</td>\n",
       "      <td>apple</td>\n",
       "      <td>23</td>\n",
       "      <td>3</td>\n",
       "    </tr>\n",
       "    <tr>\n",
       "      <th>1</th>\n",
       "      <td>orange</td>\n",
       "      <td>orange</td>\n",
       "      <td>18</td>\n",
       "      <td>4</td>\n",
       "    </tr>\n",
       "    <tr>\n",
       "      <th>2</th>\n",
       "      <td>yellow</td>\n",
       "      <td>banana</td>\n",
       "      <td>50</td>\n",
       "      <td>9999</td>\n",
       "    </tr>\n",
       "    <tr>\n",
       "      <th>3</th>\n",
       "      <td>pink</td>\n",
       "      <td>raspberry</td>\n",
       "      <td>20</td>\n",
       "      <td>5</td>\n",
       "    </tr>\n",
       "  </tbody>\n",
       "</table>\n",
       "</div>"
      ],
      "text/plain": [
       "    color      fruit  inventory  rating\n",
       "0     red      apple         23       3\n",
       "1  orange     orange         18       4\n",
       "2  yellow     banana         50    9999\n",
       "3    pink  raspberry         20       5"
      ]
     },
     "execution_count": 66,
     "metadata": {},
     "output_type": "execute_result"
    }
   ],
   "source": [
    "junseos_fruits[junseos_fruits['fruit'] == 'apple']['rating'] = -100\n",
    "junseos_fruits"
   ]
  },
  {
   "cell_type": "code",
   "execution_count": 67,
   "metadata": {},
   "outputs": [
    {
     "data": {
      "text/plain": [
       "0       3\n",
       "1       4\n",
       "2    9999\n",
       "3       5\n",
       "Name: rating, dtype: int64"
      ]
     },
     "execution_count": 67,
     "metadata": {},
     "output_type": "execute_result"
    }
   ],
   "source": [
    "junseos_fruits['rating']"
   ]
  },
  {
   "cell_type": "code",
   "execution_count": 68,
   "metadata": {},
   "outputs": [
    {
     "data": {
      "text/html": [
       "<div>\n",
       "<style>\n",
       "    .dataframe thead tr:only-child th {\n",
       "        text-align: right;\n",
       "    }\n",
       "\n",
       "    .dataframe thead th {\n",
       "        text-align: left;\n",
       "    }\n",
       "\n",
       "    .dataframe tbody tr th {\n",
       "        vertical-align: top;\n",
       "    }\n",
       "</style>\n",
       "<table border=\"1\" class=\"dataframe\">\n",
       "  <thead>\n",
       "    <tr style=\"text-align: right;\">\n",
       "      <th></th>\n",
       "      <th>color</th>\n",
       "      <th>fruit</th>\n",
       "      <th>inventory</th>\n",
       "      <th>rating</th>\n",
       "    </tr>\n",
       "  </thead>\n",
       "  <tbody>\n",
       "    <tr>\n",
       "      <th>0</th>\n",
       "      <td>red</td>\n",
       "      <td>apple</td>\n",
       "      <td>23</td>\n",
       "      <td>-100</td>\n",
       "    </tr>\n",
       "    <tr>\n",
       "      <th>1</th>\n",
       "      <td>orange</td>\n",
       "      <td>orange</td>\n",
       "      <td>18</td>\n",
       "      <td>4</td>\n",
       "    </tr>\n",
       "    <tr>\n",
       "      <th>2</th>\n",
       "      <td>yellow</td>\n",
       "      <td>banana</td>\n",
       "      <td>50</td>\n",
       "      <td>9999</td>\n",
       "    </tr>\n",
       "    <tr>\n",
       "      <th>3</th>\n",
       "      <td>pink</td>\n",
       "      <td>raspberry</td>\n",
       "      <td>20</td>\n",
       "      <td>5</td>\n",
       "    </tr>\n",
       "  </tbody>\n",
       "</table>\n",
       "</div>"
      ],
      "text/plain": [
       "    color      fruit  inventory  rating\n",
       "0     red      apple         23    -100\n",
       "1  orange     orange         18       4\n",
       "2  yellow     banana         50    9999\n",
       "3    pink  raspberry         20       5"
      ]
     },
     "execution_count": 68,
     "metadata": {},
     "output_type": "execute_result"
    }
   ],
   "source": [
    "junseos_fruits['rating'][0] = -100\n",
    "junseos_fruits"
   ]
  },
  {
   "cell_type": "code",
   "execution_count": 69,
   "metadata": {},
   "outputs": [
    {
     "data": {
      "text/html": [
       "<div>\n",
       "<style>\n",
       "    .dataframe thead tr:only-child th {\n",
       "        text-align: right;\n",
       "    }\n",
       "\n",
       "    .dataframe thead th {\n",
       "        text-align: left;\n",
       "    }\n",
       "\n",
       "    .dataframe tbody tr th {\n",
       "        vertical-align: top;\n",
       "    }\n",
       "</style>\n",
       "<table border=\"1\" class=\"dataframe\">\n",
       "  <thead>\n",
       "    <tr style=\"text-align: right;\">\n",
       "      <th></th>\n",
       "      <th>color</th>\n",
       "      <th>fruit</th>\n",
       "      <th>inventory</th>\n",
       "      <th>rating</th>\n",
       "    </tr>\n",
       "  </thead>\n",
       "  <tbody>\n",
       "    <tr>\n",
       "      <th>0</th>\n",
       "      <td>red</td>\n",
       "      <td>apple</td>\n",
       "      <td>23</td>\n",
       "      <td>-100</td>\n",
       "    </tr>\n",
       "    <tr>\n",
       "      <th>1</th>\n",
       "      <td>orange</td>\n",
       "      <td>orange</td>\n",
       "      <td>18</td>\n",
       "      <td>1738</td>\n",
       "    </tr>\n",
       "    <tr>\n",
       "      <th>2</th>\n",
       "      <td>yellow</td>\n",
       "      <td>banana</td>\n",
       "      <td>50</td>\n",
       "      <td>9999</td>\n",
       "    </tr>\n",
       "    <tr>\n",
       "      <th>3</th>\n",
       "      <td>pink</td>\n",
       "      <td>raspberry</td>\n",
       "      <td>20</td>\n",
       "      <td>5</td>\n",
       "    </tr>\n",
       "  </tbody>\n",
       "</table>\n",
       "</div>"
      ],
      "text/plain": [
       "    color      fruit  inventory  rating\n",
       "0     red      apple         23    -100\n",
       "1  orange     orange         18    1738\n",
       "2  yellow     banana         50    9999\n",
       "3    pink  raspberry         20       5"
      ]
     },
     "execution_count": 69,
     "metadata": {},
     "output_type": "execute_result"
    }
   ],
   "source": [
    "junseos_fruits.loc[1, 'rating'] = 1738\n",
    "junseos_fruits"
   ]
  },
  {
   "cell_type": "markdown",
   "metadata": {
    "colab_type": "text",
    "id": "Sq4kSWriEa6P"
   },
   "source": [
    "## [optional] Group By"
   ]
  },
  {
   "cell_type": "markdown",
   "metadata": {
    "colab_type": "text",
    "id": "VT-9ihrQEcxt"
   },
   "source": [
    "We won't have time to go through this thoroughly in lab. However, we encourage you to look into this material if you want to go further. Feel free to ask us any questions!"
   ]
  },
  {
   "cell_type": "markdown",
   "metadata": {
    "colab_type": "text",
    "id": "8tes7WNXFPtu"
   },
   "source": [
    "In the previous section we calculated the number of baby names registered in 2015."
   ]
  },
  {
   "cell_type": "code",
   "execution_count": 70,
   "metadata": {
    "colab": {
     "autoexec": {
      "startup": false,
      "wait_interval": 0
     },
     "base_uri": "https://localhost:8080/",
     "height": 34,
     "output_extras": [
      {}
     ]
    },
    "colab_type": "code",
    "executionInfo": {
     "elapsed": 572,
     "status": "ok",
     "timestamp": 1519716404547,
     "user": {
      "displayName": "Carlo C.",
      "photoUrl": "//lh6.googleusercontent.com/-Oz6qj713Ejc/AAAAAAAAAAI/AAAAAAAAAlc/CuM0wKBfCwg/s50-c-k-no/photo.jpg",
      "userId": "101126728090140711345"
     },
     "user_tz": 480
    },
    "id": "_I3BeetWFUEz",
    "outputId": "daf24c5e-89f6-4008-81b9-f6953fc6fc30"
   },
   "outputs": [
    {
     "data": {
      "text/plain": [
       "429730"
      ]
     },
     "execution_count": 70,
     "metadata": {},
     "output_type": "execute_result"
    }
   ],
   "source": [
    "np.sum(baby_names[baby_names['Year'] == 2015]['Count'])"
   ]
  },
  {
   "cell_type": "markdown",
   "metadata": {
    "colab_type": "text",
    "id": "xVusQ3TRFV2o"
   },
   "source": [
    "There are 107 years though. If we wanted to know how many babies were born in California for each year we need to do something more efficient.\n",
    "\n",
    "`groupby` to the rescue!\n",
    "\n",
    "Groupby allows us to split our table into groups, each group having one similarity.\n",
    "\n",
    "For example if we group by \"Year\" we would create 107 groups because there are 107 unique years.\n",
    "\n",
    "\n",
    "<center>`baby_names.groupby('Year')`</center>\n",
    "\n",
    "\n",
    "Now we have 107 groups but what do we do with them? We can apply the function `sum` to each group. This will sum the other numerical column, 'Counts' which reduces each group to a single row: Year and sum.\n",
    "\n",
    "Excellent tutorial: http://bconnelly.net/2013/10/summarizing-data-in-python-with-pandas/"
   ]
  },
  {
   "cell_type": "code",
   "execution_count": 71,
   "metadata": {
    "colab": {
     "autoexec": {
      "startup": false,
      "wait_interval": 0
     },
     "base_uri": "https://localhost:8080/",
     "height": 235,
     "output_extras": [
      {}
     ]
    },
    "colab_type": "code",
    "executionInfo": {
     "elapsed": 387,
     "status": "ok",
     "timestamp": 1519716747949,
     "user": {
      "displayName": "Carlo C.",
      "photoUrl": "//lh6.googleusercontent.com/-Oz6qj713Ejc/AAAAAAAAAAI/AAAAAAAAAlc/CuM0wKBfCwg/s50-c-k-no/photo.jpg",
      "userId": "101126728090140711345"
     },
     "user_tz": 480
    },
    "id": "8jhioDmRGHH7",
    "outputId": "533aadfe-f23f-4c63-9199-f2edd2ac477b"
   },
   "outputs": [
    {
     "data": {
      "text/html": [
       "<div>\n",
       "<style>\n",
       "    .dataframe thead tr:only-child th {\n",
       "        text-align: right;\n",
       "    }\n",
       "\n",
       "    .dataframe thead th {\n",
       "        text-align: left;\n",
       "    }\n",
       "\n",
       "    .dataframe tbody tr th {\n",
       "        vertical-align: top;\n",
       "    }\n",
       "</style>\n",
       "<table border=\"1\" class=\"dataframe\">\n",
       "  <thead>\n",
       "    <tr style=\"text-align: right;\">\n",
       "      <th></th>\n",
       "      <th>Count</th>\n",
       "    </tr>\n",
       "    <tr>\n",
       "      <th>Year</th>\n",
       "      <th></th>\n",
       "    </tr>\n",
       "  </thead>\n",
       "  <tbody>\n",
       "    <tr>\n",
       "      <th>1910</th>\n",
       "      <td>9164</td>\n",
       "    </tr>\n",
       "    <tr>\n",
       "      <th>1911</th>\n",
       "      <td>9984</td>\n",
       "    </tr>\n",
       "    <tr>\n",
       "      <th>1912</th>\n",
       "      <td>17944</td>\n",
       "    </tr>\n",
       "    <tr>\n",
       "      <th>1913</th>\n",
       "      <td>22094</td>\n",
       "    </tr>\n",
       "    <tr>\n",
       "      <th>1914</th>\n",
       "      <td>26925</td>\n",
       "    </tr>\n",
       "  </tbody>\n",
       "</table>\n",
       "</div>"
      ],
      "text/plain": [
       "      Count\n",
       "Year       \n",
       "1910   9164\n",
       "1911   9984\n",
       "1912  17944\n",
       "1913  22094\n",
       "1914  26925"
      ]
     },
     "execution_count": 71,
     "metadata": {},
     "output_type": "execute_result"
    }
   ],
   "source": [
    "# this will apply sum to the \"Count\" column of each year group\n",
    "yearly_data = baby_names.groupby('Year').sum()\n",
    "yearly_data.head(5)"
   ]
  },
  {
   "cell_type": "markdown",
   "metadata": {
    "colab_type": "text",
    "id": "HSXIatW5K58d"
   },
   "source": [
    "Further reading: http://bconnelly.net/2013/10/summarizing-data-in-python-with-pandas/"
   ]
  },
  {
   "cell_type": "markdown",
   "metadata": {
    "colab_type": "text",
    "id": "KhE8oJzD-Uqf"
   },
   "source": [
    "# <font id=\"2.5\" color=\"blue\">Plot with Pandas</font>"
   ]
  },
  {
   "cell_type": "code",
   "execution_count": 72,
   "metadata": {
    "colab": {
     "autoexec": {
      "startup": false,
      "wait_interval": 0
     }
    },
    "colab_type": "code",
    "collapsed": true,
    "id": "__7VTaS12f09"
   },
   "outputs": [],
   "source": [
    "%matplotlib inline"
   ]
  },
  {
   "cell_type": "markdown",
   "metadata": {
    "colab_type": "text",
    "id": "eL6fUkZD2f09"
   },
   "source": [
    "[Pandas.plot documentation](https://pandas.pydata.org/pandas-docs/stable/generated/pandas.DataFrame.plot.html)\n",
    "\n",
    "Pandas comes with a built-in `plot` method that can be very useful! `pandas.plot` actually uses `matplotlib` behind the scenes!\n",
    "\n",
    "`yearly_data` contains the number of registered babies per year."
   ]
  },
  {
   "cell_type": "code",
   "execution_count": 73,
   "metadata": {
    "colab": {
     "autoexec": {
      "startup": false,
      "wait_interval": 0
     },
     "output_extras": [
      {}
     ]
    },
    "colab_type": "code",
    "id": "3aT2IIdEONxP",
    "outputId": "d0cf4bb3-3462-491c-8c60-0ed7326ad51e"
   },
   "outputs": [
    {
     "data": {
      "text/html": [
       "<div>\n",
       "<style>\n",
       "    .dataframe thead tr:only-child th {\n",
       "        text-align: right;\n",
       "    }\n",
       "\n",
       "    .dataframe thead th {\n",
       "        text-align: left;\n",
       "    }\n",
       "\n",
       "    .dataframe tbody tr th {\n",
       "        vertical-align: top;\n",
       "    }\n",
       "</style>\n",
       "<table border=\"1\" class=\"dataframe\">\n",
       "  <thead>\n",
       "    <tr style=\"text-align: right;\">\n",
       "      <th></th>\n",
       "      <th>Count</th>\n",
       "    </tr>\n",
       "    <tr>\n",
       "      <th>Year</th>\n",
       "      <th></th>\n",
       "    </tr>\n",
       "  </thead>\n",
       "  <tbody>\n",
       "    <tr>\n",
       "      <th>1910</th>\n",
       "      <td>9164</td>\n",
       "    </tr>\n",
       "    <tr>\n",
       "      <th>1911</th>\n",
       "      <td>9984</td>\n",
       "    </tr>\n",
       "    <tr>\n",
       "      <th>1912</th>\n",
       "      <td>17944</td>\n",
       "    </tr>\n",
       "    <tr>\n",
       "      <th>1913</th>\n",
       "      <td>22094</td>\n",
       "    </tr>\n",
       "    <tr>\n",
       "      <th>1914</th>\n",
       "      <td>26925</td>\n",
       "    </tr>\n",
       "  </tbody>\n",
       "</table>\n",
       "</div>"
      ],
      "text/plain": [
       "      Count\n",
       "Year       \n",
       "1910   9164\n",
       "1911   9984\n",
       "1912  17944\n",
       "1913  22094\n",
       "1914  26925"
      ]
     },
     "execution_count": 73,
     "metadata": {},
     "output_type": "execute_result"
    }
   ],
   "source": [
    "yearly_data.head()"
   ]
  },
  {
   "cell_type": "markdown",
   "metadata": {
    "colab_type": "text",
    "id": "vgEhdkry2f0_"
   },
   "source": [
    "## Line Graphs"
   ]
  },
  {
   "cell_type": "code",
   "execution_count": 74,
   "metadata": {
    "colab": {
     "autoexec": {
      "startup": false,
      "wait_interval": 0
     },
     "output_extras": [
      {},
      {}
     ]
    },
    "colab_type": "code",
    "id": "7Nuds8wr2f0_",
    "outputId": "e9e297e9-2289-4fac-ebdb-d1c5194976d8"
   },
   "outputs": [
    {
     "data": {
      "text/plain": [
       "<matplotlib.axes._subplots.AxesSubplot at 0x11a052198>"
      ]
     },
     "execution_count": 74,
     "metadata": {},
     "output_type": "execute_result"
    },
    {
     "data": {
      "image/png": "[encoded data removed]",
      "text/plain": [
       "<matplotlib.figure.Figure at 0x11c18eba8>"
      ]
     },
     "metadata": {},
     "output_type": "display_data"
    }
   ],
   "source": [
    "yearly_data.plot(kind=\"line\")  #kind='line' is optional"
   ]
  },
  {
   "cell_type": "markdown",
   "metadata": {
    "colab_type": "text",
    "id": "oq6uT5tk2f1C"
   },
   "source": [
    "### Study: Name History"
   ]
  },
  {
   "cell_type": "code",
   "execution_count": 75,
   "metadata": {
    "colab": {
     "autoexec": {
      "startup": false,
      "wait_interval": 0
     }
    },
    "colab_type": "code",
    "collapsed": true,
    "id": "0tLutdpw2f1E"
   },
   "outputs": [],
   "source": [
    "# don't worry about this function unless you want to learn about groupby\n",
    "def your_name_history(name):\n",
    "    return baby_names[baby_names['Name'] == name].groupby('Year').sum()"
   ]
  },
  {
   "cell_type": "code",
   "execution_count": 76,
   "metadata": {
    "colab": {
     "autoexec": {
      "startup": false,
      "wait_interval": 0
     },
     "output_extras": [
      {},
      {}
     ]
    },
    "colab_type": "code",
    "id": "aviRv_YR2f1D",
    "outputId": "745af061-656a-4b0f-96ef-3898b47a4159"
   },
   "outputs": [
    {
     "data": {
      "text/plain": [
       "<matplotlib.axes._subplots.AxesSubplot at 0x114a44470>"
      ]
     },
     "execution_count": 76,
     "metadata": {},
     "output_type": "execute_result"
    },
    {
     "data": {
      "image/png": "[encoded data removed]",
      "text/plain": [
       "<matplotlib.figure.Figure at 0x1157c17f0>"
      ]
     },
     "metadata": {},
     "output_type": "display_data"
    }
   ],
   "source": [
    "table = your_name_history('John')\n",
    "\n",
    "table.plot()"
   ]
  },
  {
   "cell_type": "markdown",
   "metadata": {
    "colab_type": "text",
    "id": "-mNv9MLq2f1F"
   },
   "source": [
    "## Bar Graphs\n",
    "\n",
    "We can modify our data before we graph it to analyze different things."
   ]
  },
  {
   "cell_type": "code",
   "execution_count": 77,
   "metadata": {
    "colab": {
     "autoexec": {
      "startup": false,
      "wait_interval": 0
     },
     "output_extras": [
      {},
      {}
     ]
    },
    "colab_type": "code",
    "id": "H8-SJvvd2f1G",
    "outputId": "88e9ade5-3b51-4330-8d9b-339217d9897e"
   },
   "outputs": [
    {
     "data": {
      "text/plain": [
       "(-0.5, 106.5, 0.0, 580000.05000000005)"
      ]
     },
     "execution_count": 77,
     "metadata": {},
     "output_type": "execute_result"
    },
    {
     "data": {
      "image/png": "[encoded data removed]",
      "text/plain": [
       "<matplotlib.figure.Figure at 0x11adc7fd0>"
      ]
     },
     "metadata": {},
     "output_type": "display_data"
    }
   ],
   "source": [
    "yearly_data.plot(kind=\"bar\")\n",
    "plt.axis('off')"
   ]
  },
  {
   "cell_type": "markdown",
   "metadata": {
    "colab_type": "text",
    "id": "yoUhuR8B2f1I"
   },
   "source": [
    "<font color=\"blue\">Class Exercise:</font> How could we graph only the 15 years after World War II (i.e. 1945-1960)?\n",
    "\n",
    "Hint: create a table with only the desired years first"
   ]
  },
  {
   "cell_type": "code",
   "execution_count": 78,
   "metadata": {
    "colab": {
     "autoexec": {
      "startup": false,
      "wait_interval": 0
     },
     "output_extras": [
      {},
      {}
     ]
    },
    "colab_type": "code",
    "id": "7tivYkt42f1J",
    "outputId": "a99b1170-69d3-45dd-8f95-5e26740344a6"
   },
   "outputs": [
    {
     "data": {
      "text/plain": [
       "<matplotlib.axes._subplots.AxesSubplot at 0x11b7f5fd0>"
      ]
     },
     "execution_count": 78,
     "metadata": {},
     "output_type": "execute_result"
    },
    {
     "data": {
      "image/png": "[encoded data removed]",
      "text/plain": [
       "<matplotlib.figure.Figure at 0x11b7b4e80>"
      ]
     },
     "metadata": {},
     "output_type": "display_data"
    }
   ],
   "source": [
    "modified = yearly_data.loc[1945:1960]\n",
    "\n",
    "modified.plot(kind=\"bar\", figsize=(15,8))"
   ]
  },
  {
   "cell_type": "markdown",
   "metadata": {
    "colab_type": "text",
    "id": "LiogwUGOe0iQ"
   },
   "source": [
    "# <font id=\"2.5\" color=\"blue\">Plot with Pandas</font>"
   ]
  },
  {
   "cell_type": "markdown",
   "metadata": {
    "colab_type": "text",
    "id": "-2ZtLz1enKXC"
   },
   "source": [
    "## Line Graphs\n",
    "Use [`plt.plot()`](https://matplotlib.org/api/_as_gen/matplotlib.pyplot.plot.html) to create line graphs! The required arguments are a list of x-values and a list of y-values."
   ]
  },
  {
   "cell_type": "code",
   "execution_count": 79,
   "metadata": {
    "colab": {
     "autoexec": {
      "startup": false,
      "wait_interval": 0
     },
     "base_uri": "https://localhost:8080/",
     "height": 282,
     "output_extras": [
      {},
      {}
     ]
    },
    "colab_type": "code",
    "executionInfo": {
     "elapsed": 280,
     "status": "ok",
     "timestamp": 1519713913007,
     "user": {
      "displayName": "Jun Seo Park",
      "photoUrl": "//lh6.googleusercontent.com/-KIeDOii6NOY/AAAAAAAAAAI/AAAAAAAAAA4/BO9dUEBtd8E/s50-c-k-no/photo.jpg",
      "userId": "116991900080281348598"
     },
     "user_tz": 480
    },
    "id": "16Lealc-tWLs",
    "outputId": "3d6d1dd5-8764-4d35-c699-3db6aa125d1d"
   },
   "outputs": [
    {
     "data": {
      "image/png": "[encoded data removed]",
      "text/plain": [
       "<matplotlib.figure.Figure at 0x11b794898>"
      ]
     },
     "metadata": {},
     "output_type": "display_data"
    }
   ],
   "source": [
    "np.random.seed(42) # To ensure that the random number generation is always the same\n",
    "plt.plot(np.arange(0, 7, 1), np.random.rand(7, 1))\n",
    "plt.show()"
   ]
  },
  {
   "cell_type": "code",
   "execution_count": 80,
   "metadata": {
    "colab": {
     "autoexec": {
      "startup": false,
      "wait_interval": 0
     }
    },
    "colab_type": "code",
    "id": "sZpY8MpECB1T"
   },
   "outputs": [
    {
     "data": {
      "text/plain": [
       "[<matplotlib.lines.Line2D at 0x11bfb12e8>]"
      ]
     },
     "execution_count": 80,
     "metadata": {},
     "output_type": "execute_result"
    },
    {
     "data": {
      "image/png": "[encoded data removed]",
      "text/plain": [
       "<matplotlib.figure.Figure at 0x1159b2f60>"
      ]
     },
     "metadata": {},
     "output_type": "display_data"
    }
   ],
   "source": [
    "%matplotlib inline\n",
    "\n",
    "plt.plot(np.arange(0, 7, 1), np.random.rand(7, 1))\n",
    "# plt.show() no longer required"
   ]
  },
  {
   "cell_type": "markdown",
   "metadata": {
    "colab_type": "text",
    "id": "EWr_iep0Bwz0"
   },
   "source": [
    "## Histograms\n",
    "_@author previous sections: Carlo Cruz-Albrecht_<br>\n",
    "_@author this section and below: Jun Seo Park_\n",
    "\n",
    "To explore other types of charts, let's load in a built-in dataset from Seaborn and first take a quick peek:"
   ]
  },
  {
   "cell_type": "code",
   "execution_count": 81,
   "metadata": {
    "colab": {
     "autoexec": {
      "startup": false,
      "wait_interval": 0
     },
     "base_uri": "https://localhost:8080/",
     "height": 204,
     "output_extras": [
      {}
     ]
    },
    "colab_type": "code",
    "executionInfo": {
     "elapsed": 233,
     "status": "ok",
     "timestamp": 1519706974715,
     "user": {
      "displayName": "Jun Seo Park",
      "photoUrl": "//lh6.googleusercontent.com/-KIeDOii6NOY/AAAAAAAAAAI/AAAAAAAAAA4/BO9dUEBtd8E/s50-c-k-no/photo.jpg",
      "userId": "116991900080281348598"
     },
     "user_tz": 480
    },
    "id": "Ej4xOo-8e0iR",
    "outputId": "424f06d6-6347-4c39-ba3b-e777f0be8c46"
   },
   "outputs": [
    {
     "data": {
      "text/html": [
       "<div>\n",
       "<style>\n",
       "    .dataframe thead tr:only-child th {\n",
       "        text-align: right;\n",
       "    }\n",
       "\n",
       "    .dataframe thead th {\n",
       "        text-align: left;\n",
       "    }\n",
       "\n",
       "    .dataframe tbody tr th {\n",
       "        vertical-align: top;\n",
       "    }\n",
       "</style>\n",
       "<table border=\"1\" class=\"dataframe\">\n",
       "  <thead>\n",
       "    <tr style=\"text-align: right;\">\n",
       "      <th></th>\n",
       "      <th>total_bill</th>\n",
       "      <th>tip</th>\n",
       "      <th>sex</th>\n",
       "      <th>smoker</th>\n",
       "      <th>day</th>\n",
       "      <th>time</th>\n",
       "      <th>size</th>\n",
       "    </tr>\n",
       "  </thead>\n",
       "  <tbody>\n",
       "    <tr>\n",
       "      <th>0</th>\n",
       "      <td>16.99</td>\n",
       "      <td>1.01</td>\n",
       "      <td>Female</td>\n",
       "      <td>No</td>\n",
       "      <td>Sun</td>\n",
       "      <td>Dinner</td>\n",
       "      <td>2</td>\n",
       "    </tr>\n",
       "    <tr>\n",
       "      <th>1</th>\n",
       "      <td>10.34</td>\n",
       "      <td>1.66</td>\n",
       "      <td>Male</td>\n",
       "      <td>No</td>\n",
       "      <td>Sun</td>\n",
       "      <td>Dinner</td>\n",
       "      <td>3</td>\n",
       "    </tr>\n",
       "    <tr>\n",
       "      <th>2</th>\n",
       "      <td>21.01</td>\n",
       "      <td>3.50</td>\n",
       "      <td>Male</td>\n",
       "      <td>No</td>\n",
       "      <td>Sun</td>\n",
       "      <td>Dinner</td>\n",
       "      <td>3</td>\n",
       "    </tr>\n",
       "    <tr>\n",
       "      <th>3</th>\n",
       "      <td>23.68</td>\n",
       "      <td>3.31</td>\n",
       "      <td>Male</td>\n",
       "      <td>No</td>\n",
       "      <td>Sun</td>\n",
       "      <td>Dinner</td>\n",
       "      <td>2</td>\n",
       "    </tr>\n",
       "    <tr>\n",
       "      <th>4</th>\n",
       "      <td>24.59</td>\n",
       "      <td>3.61</td>\n",
       "      <td>Female</td>\n",
       "      <td>No</td>\n",
       "      <td>Sun</td>\n",
       "      <td>Dinner</td>\n",
       "      <td>4</td>\n",
       "    </tr>\n",
       "  </tbody>\n",
       "</table>\n",
       "</div>"
      ],
      "text/plain": [
       "   total_bill   tip     sex smoker  day    time  size\n",
       "0       16.99  1.01  Female     No  Sun  Dinner     2\n",
       "1       10.34  1.66    Male     No  Sun  Dinner     3\n",
       "2       21.01  3.50    Male     No  Sun  Dinner     3\n",
       "3       23.68  3.31    Male     No  Sun  Dinner     2\n",
       "4       24.59  3.61  Female     No  Sun  Dinner     4"
      ]
     },
     "execution_count": 81,
     "metadata": {},
     "output_type": "execute_result"
    }
   ],
   "source": [
    "tips = sns.load_dataset('tips')\n",
    "tips.head()"
   ]
  },
  {
   "cell_type": "markdown",
   "metadata": {
    "colab_type": "text",
    "id": "TqUS4_gNCRTW"
   },
   "source": [
    "Histograms can be plotted in matplotlib using [`plt.hist()`](https://matplotlib.org/api/_as_gen/matplotlib.pyplot.hist.html).\n",
    "This will take one required argument of the x-axis variable."
   ]
  },
  {
   "cell_type": "code",
   "execution_count": 82,
   "metadata": {
    "colab": {
     "autoexec": {
      "startup": false,
      "wait_interval": 0
     },
     "base_uri": "https://localhost:8080/",
     "height": 333,
     "output_extras": [
      {},
      {}
     ]
    },
    "colab_type": "code",
    "executionInfo": {
     "elapsed": 444,
     "status": "ok",
     "timestamp": 1519707403201,
     "user": {
      "displayName": "Jun Seo Park",
      "photoUrl": "//lh6.googleusercontent.com/-KIeDOii6NOY/AAAAAAAAAAI/AAAAAAAAAA4/BO9dUEBtd8E/s50-c-k-no/photo.jpg",
      "userId": "116991900080281348598"
     },
     "user_tz": 480
    },
    "id": "4pJa4rJ9e0iT",
    "outputId": "00f4b769-f84a-4b35-b7aa-972cea9def61"
   },
   "outputs": [
    {
     "data": {
      "text/plain": [
       "(array([  7.,  42.,  68.,  51.,  31.,  19.,  12.,   7.,   3.,   4.]),\n",
       " array([  3.07 ,   7.844,  12.618,  17.392,  22.166,  26.94 ,  31.714,\n",
       "         36.488,  41.262,  46.036,  50.81 ]),\n",
       " <a list of 10 Patch objects>)"
      ]
     },
     "execution_count": 82,
     "metadata": {},
     "output_type": "execute_result"
    },
    {
     "data": {
      "image/png": "[encoded data removed]",
      "text/plain": [
       "<matplotlib.figure.Figure at 0x11bf0d828>"
      ]
     },
     "metadata": {},
     "output_type": "display_data"
    }
   ],
   "source": [
    "plt.hist(tips['total_bill'])"
   ]
  },
  {
   "cell_type": "markdown",
   "metadata": {
    "colab_type": "text",
    "id": "HTxlON0RCjz5"
   },
   "source": [
    "## Scatterplots\n",
    "Scatterplots can be made using [`plt.scatter()`](https://matplotlib.org/api/_as_gen/matplotlib.pyplot.scatter.html). It takes in two arguments: x-values and y-values."
   ]
  },
  {
   "cell_type": "code",
   "execution_count": 83,
   "metadata": {
    "colab": {
     "autoexec": {
      "startup": false,
      "wait_interval": 0
     },
     "base_uri": "https://localhost:8080/",
     "height": 282,
     "output_extras": [
      {},
      {}
     ]
    },
    "colab_type": "code",
    "executionInfo": {
     "elapsed": 311,
     "status": "ok",
     "timestamp": 1519707393232,
     "user": {
      "displayName": "Jun Seo Park",
      "photoUrl": "//lh6.googleusercontent.com/-KIeDOii6NOY/AAAAAAAAAAI/AAAAAAAAAA4/BO9dUEBtd8E/s50-c-k-no/photo.jpg",
      "userId": "116991900080281348598"
     },
     "user_tz": 480
    },
    "id": "8GTW8W6ce0iW",
    "outputId": "715c8d64-98d4-4f94-ea57-2231159ffa3a"
   },
   "outputs": [
    {
     "data": {
      "text/plain": [
       "<matplotlib.collections.PathCollection at 0x11beb8390>"
      ]
     },
     "execution_count": 83,
     "metadata": {},
     "output_type": "execute_result"
    },
    {
     "data": {
      "image/png": "[encoded data removed]",
      "text/plain": [
       "<matplotlib.figure.Figure at 0x11b836860>"
      ]
     },
     "metadata": {},
     "output_type": "display_data"
    }
   ],
   "source": [
    "plt.scatter(tips['total_bill'], tips['tip'])"
   ]
  },
  {
   "cell_type": "code",
   "execution_count": 84,
   "metadata": {
    "colab": {
     "autoexec": {
      "startup": false,
      "wait_interval": 0
     },
     "base_uri": "https://localhost:8080/",
     "height": 311,
     "output_extras": [
      {},
      {}
     ]
    },
    "colab_type": "code",
    "executionInfo": {
     "elapsed": 413,
     "status": "ok",
     "timestamp": 1519708034168,
     "user": {
      "displayName": "Jun Seo Park",
      "photoUrl": "//lh6.googleusercontent.com/-KIeDOii6NOY/AAAAAAAAAAI/AAAAAAAAAA4/BO9dUEBtd8E/s50-c-k-no/photo.jpg",
      "userId": "116991900080281348598"
     },
     "user_tz": 480
    },
    "id": "BFDO_IPbny3E",
    "outputId": "a9db4d91-ba65-45c3-8d20-b2fa92bdb92d"
   },
   "outputs": [
    {
     "data": {
      "text/plain": [
       "<matplotlib.text.Text at 0x11bed28d0>"
      ]
     },
     "execution_count": 84,
     "metadata": {},
     "output_type": "execute_result"
    },
    {
     "data": {
      "image/png": "[encoded data removed]",
      "text/plain": [
       "<matplotlib.figure.Figure at 0x11afc1b00>"
      ]
     },
     "metadata": {},
     "output_type": "display_data"
    }
   ],
   "source": [
    "plt.scatter(tips['total_bill'], tips['tip'])\n",
    "plt.xlabel('Total Bill')\n",
    "plt.ylabel('Tip Amount')\n",
    "plt.title('Total Bill vs Tip Amount')"
   ]
  },
  {
   "cell_type": "code",
   "execution_count": 85,
   "metadata": {
    "colab": {
     "autoexec": {
      "startup": false,
      "wait_interval": 0
     },
     "base_uri": "https://localhost:8080/",
     "height": 637,
     "output_extras": [
      {},
      {}
     ]
    },
    "colab_type": "code",
    "executionInfo": {
     "elapsed": 517,
     "status": "ok",
     "timestamp": 1519714569713,
     "user": {
      "displayName": "Jun Seo Park",
      "photoUrl": "//lh6.googleusercontent.com/-KIeDOii6NOY/AAAAAAAAAAI/AAAAAAAAAA4/BO9dUEBtd8E/s50-c-k-no/photo.jpg",
      "userId": "116991900080281348598"
     },
     "user_tz": 480
    },
    "id": "SUjj2Q8ioCkn",
    "outputId": "d014484a-241e-474e-be27-bad97f5ed101"
   },
   "outputs": [
    {
     "data": {
      "text/plain": [
       "<matplotlib.legend.Legend at 0x11d5f2f28>"
      ]
     },
     "execution_count": 85,
     "metadata": {},
     "output_type": "execute_result"
    },
    {
     "data": {
      "image/png": "[encoded data removed]",
      "text/plain": [
       "<matplotlib.figure.Figure at 0x11bf7fe10>"
      ]
     },
     "metadata": {},
     "output_type": "display_data"
    }
   ],
   "source": [
    "plt.figure(figsize=(15, 10)) # Increase the size of the returned plot\n",
    "\n",
    "# Points with smoker == 'yes'\n",
    "plt.scatter(x=tips.loc[tips['smoker'] == 'Yes', 'total_bill'], \n",
    "            y=tips.loc[tips['smoker'] == 'Yes', 'tip'],\n",
    "            label='Smoker', alpha=0.6)\n",
    "\n",
    "# Points with smoker == 'no'\n",
    "plt.scatter(x=tips.loc[tips['smoker'] == 'No', 'total_bill'], \n",
    "            y=tips.loc[tips['smoker'] == 'No', 'tip'],\n",
    "            label='Non-Smoker', alpha=0.6)\n",
    "\n",
    "plt.xlabel('Total Bill')\n",
    "plt.ylabel('Tip Amount')\n",
    "plt.title('Total Bill vs Tip Amount (by Smoking Habits)')\n",
    "plt.legend()"
   ]
  },
  {
   "cell_type": "markdown",
   "metadata": {
    "colab_type": "text",
    "id": "YzllZgzE-VPZ"
   },
   "source": [
    "## Exercises in Matplotlib\n",
    "We'll do the exercises using a famous dataset: [the iris dataset](https://archive.ics.uci.edu/ml/datasets/iris).\n",
    "First, let's load it in and take a look:"
   ]
  },
  {
   "cell_type": "code",
   "execution_count": 86,
   "metadata": {
    "colab": {
     "autoexec": {
      "startup": false,
      "wait_interval": 0
     },
     "base_uri": "https://localhost:8080/",
     "height": 204,
     "output_extras": [
      {}
     ]
    },
    "colab_type": "code",
    "executionInfo": {
     "elapsed": 261,
     "status": "ok",
     "timestamp": 1519712154706,
     "user": {
      "displayName": "Jun Seo Park",
      "photoUrl": "//lh6.googleusercontent.com/-KIeDOii6NOY/AAAAAAAAAAI/AAAAAAAAAA4/BO9dUEBtd8E/s50-c-k-no/photo.jpg",
      "userId": "116991900080281348598"
     },
     "user_tz": 480
    },
    "id": "RQ1x2_Jy3doe",
    "outputId": "268a792d-61cf-4713-f7ff-9a3bb11d0b69"
   },
   "outputs": [
    {
     "data": {
      "text/html": [
       "<div>\n",
       "<style>\n",
       "    .dataframe thead tr:only-child th {\n",
       "        text-align: right;\n",
       "    }\n",
       "\n",
       "    .dataframe thead th {\n",
       "        text-align: left;\n",
       "    }\n",
       "\n",
       "    .dataframe tbody tr th {\n",
       "        vertical-align: top;\n",
       "    }\n",
       "</style>\n",
       "<table border=\"1\" class=\"dataframe\">\n",
       "  <thead>\n",
       "    <tr style=\"text-align: right;\">\n",
       "      <th></th>\n",
       "      <th>sepal_length</th>\n",
       "      <th>sepal_width</th>\n",
       "      <th>petal_length</th>\n",
       "      <th>petal_width</th>\n",
       "      <th>species</th>\n",
       "    </tr>\n",
       "  </thead>\n",
       "  <tbody>\n",
       "    <tr>\n",
       "      <th>0</th>\n",
       "      <td>5.1</td>\n",
       "      <td>3.5</td>\n",
       "      <td>1.4</td>\n",
       "      <td>0.2</td>\n",
       "      <td>setosa</td>\n",
       "    </tr>\n",
       "    <tr>\n",
       "      <th>1</th>\n",
       "      <td>4.9</td>\n",
       "      <td>3.0</td>\n",
       "      <td>1.4</td>\n",
       "      <td>0.2</td>\n",
       "      <td>setosa</td>\n",
       "    </tr>\n",
       "    <tr>\n",
       "      <th>2</th>\n",
       "      <td>4.7</td>\n",
       "      <td>3.2</td>\n",
       "      <td>1.3</td>\n",
       "      <td>0.2</td>\n",
       "      <td>setosa</td>\n",
       "    </tr>\n",
       "    <tr>\n",
       "      <th>3</th>\n",
       "      <td>4.6</td>\n",
       "      <td>3.1</td>\n",
       "      <td>1.5</td>\n",
       "      <td>0.2</td>\n",
       "      <td>setosa</td>\n",
       "    </tr>\n",
       "    <tr>\n",
       "      <th>4</th>\n",
       "      <td>5.0</td>\n",
       "      <td>3.6</td>\n",
       "      <td>1.4</td>\n",
       "      <td>0.2</td>\n",
       "      <td>setosa</td>\n",
       "    </tr>\n",
       "  </tbody>\n",
       "</table>\n",
       "</div>"
      ],
      "text/plain": [
       "   sepal_length  sepal_width  petal_length  petal_width species\n",
       "0           5.1          3.5           1.4          0.2  setosa\n",
       "1           4.9          3.0           1.4          0.2  setosa\n",
       "2           4.7          3.2           1.3          0.2  setosa\n",
       "3           4.6          3.1           1.5          0.2  setosa\n",
       "4           5.0          3.6           1.4          0.2  setosa"
      ]
     },
     "execution_count": 86,
     "metadata": {},
     "output_type": "execute_result"
    }
   ],
   "source": [
    "iris = sns.load_dataset('iris')\n",
    "iris.head()"
   ]
  },
  {
   "cell_type": "markdown",
   "metadata": {
    "colab_type": "text",
    "id": "bJZjdrUkDZ3i"
   },
   "source": [
    "![alt text](https://www.wpclipart.com/plants/diagrams/plant_parts/petal_sepal_label.png)\n",
    "\n",
    "Let's also take a look at the different species:"
   ]
  },
  {
   "cell_type": "code",
   "execution_count": 87,
   "metadata": {
    "colab": {
     "autoexec": {
      "startup": false,
      "wait_interval": 0
     },
     "base_uri": "https://localhost:8080/",
     "height": 34,
     "output_extras": [
      {}
     ]
    },
    "colab_type": "code",
    "executionInfo": {
     "elapsed": 236,
     "status": "ok",
     "timestamp": 1519712273869,
     "user": {
      "displayName": "Jun Seo Park",
      "photoUrl": "//lh6.googleusercontent.com/-KIeDOii6NOY/AAAAAAAAAAI/AAAAAAAAAA4/BO9dUEBtd8E/s50-c-k-no/photo.jpg",
      "userId": "116991900080281348598"
     },
     "user_tz": 480
    },
    "id": "0aI3nDIW6Ozo",
    "outputId": "0820a98d-50a2-48ee-a999-0e8766c88ce9"
   },
   "outputs": [
    {
     "data": {
      "text/plain": [
       "array(['setosa', 'versicolor', 'virginica'], dtype=object)"
      ]
     },
     "execution_count": 87,
     "metadata": {},
     "output_type": "execute_result"
    }
   ],
   "source": [
    "iris['species'].unique()"
   ]
  },
  {
   "cell_type": "markdown",
   "metadata": {
    "colab_type": "text",
    "id": "MC3DvG2SAR0a"
   },
   "source": [
    "<font color=\"blue\">Exercise:</font> Create a basic scatterplot of the petal lengths versus the petal widths. Label your axes (use the documentation linked above to make them meaningful)!"
   ]
  },
  {
   "cell_type": "code",
   "execution_count": 88,
   "metadata": {
    "colab": {
     "autoexec": {
      "startup": false,
      "wait_interval": 0
     },
     "base_uri": "https://localhost:8080/",
     "height": 282,
     "output_extras": [
      {},
      {}
     ]
    },
    "colab_type": "code",
    "executionInfo": {
     "elapsed": 324,
     "status": "ok",
     "timestamp": 1519714833997,
     "user": {
      "displayName": "Jun Seo Park",
      "photoUrl": "//lh6.googleusercontent.com/-KIeDOii6NOY/AAAAAAAAAAI/AAAAAAAAAA4/BO9dUEBtd8E/s50-c-k-no/photo.jpg",
      "userId": "116991900080281348598"
     },
     "user_tz": 480
    },
    "id": "qS9NAkre3hRZ",
    "outputId": "46e609fc-2f2f-4420-afe0-90e18bea7342"
   },
   "outputs": [
    {
     "data": {
      "text/plain": [
       "<matplotlib.collections.PathCollection at 0x11d68d0b8>"
      ]
     },
     "execution_count": 88,
     "metadata": {},
     "output_type": "execute_result"
    },
    {
     "data": {
      "image/png": "[encoded data removed]",
      "text/plain": [
       "<matplotlib.figure.Figure at 0x11afba208>"
      ]
     },
     "metadata": {},
     "output_type": "display_data"
    }
   ],
   "source": [
    "plt.scatter(iris['petal_length'], iris['petal_width'])"
   ]
  },
  {
   "cell_type": "markdown",
   "metadata": {
    "colab_type": "text",
    "id": "IwPdSNs9-oED"
   },
   "source": [
    "<font color=\"blue\">Exercise:</font> This time, create the same scatterplot, but assign a different color for each flower species."
   ]
  },
  {
   "cell_type": "code",
   "execution_count": 89,
   "metadata": {
    "colab": {
     "autoexec": {
      "startup": false,
      "wait_interval": 0
     },
     "base_uri": "https://localhost:8080/",
     "height": 265,
     "output_extras": [
      {}
     ]
    },
    "colab_type": "code",
    "executionInfo": {
     "elapsed": 451,
     "status": "ok",
     "timestamp": 1519712362310,
     "user": {
      "displayName": "Jun Seo Park",
      "photoUrl": "//lh6.googleusercontent.com/-KIeDOii6NOY/AAAAAAAAAAI/AAAAAAAAAA4/BO9dUEBtd8E/s50-c-k-no/photo.jpg",
      "userId": "116991900080281348598"
     },
     "user_tz": 480
    },
    "id": "xThavmbXwB7T",
    "outputId": "2fdddf90-c07c-4809-a7ce-d08a01e21852"
   },
   "outputs": [
    {
     "data": {
      "image/png": "[encoded data removed]",
      "text/plain": [
       "<matplotlib.figure.Figure at 0x11d49e5f8>"
      ]
     },
     "metadata": {},
     "output_type": "display_data"
    }
   ],
   "source": [
    "plt.scatter(x=iris.loc[iris['species'] == 'setosa', 'petal_length'],\n",
    "            y=iris.loc[iris['species'] == 'setosa', 'petal_width'],\n",
    "            label='setosa')\n",
    "plt.scatter(x=iris.loc[iris['species'] == 'versicolor', 'petal_length'],\n",
    "            y=iris.loc[iris['species'] == 'versicolor', 'petal_width'],\n",
    "            label='versicolor')\n",
    "plt.scatter(x=iris.loc[iris['species'] == 'virginica', 'petal_length'],\n",
    "            y=iris.loc[iris['species'] == 'virginica', 'petal_width'],\n",
    "            label='virginica')\n",
    "plt.legend();"
   ]
  },
  {
   "cell_type": "code",
   "execution_count": 90,
   "metadata": {
    "colab": {
     "autoexec": {
      "startup": false,
      "wait_interval": 0
     },
     "base_uri": "https://localhost:8080/",
     "height": 311,
     "output_extras": [
      {},
      {}
     ]
    },
    "colab_type": "code",
    "executionInfo": {
     "elapsed": 512,
     "status": "ok",
     "timestamp": 1519713764594,
     "user": {
      "displayName": "Jun Seo Park",
      "photoUrl": "//lh6.googleusercontent.com/-KIeDOii6NOY/AAAAAAAAAAI/AAAAAAAAAA4/BO9dUEBtd8E/s50-c-k-no/photo.jpg",
      "userId": "116991900080281348598"
     },
     "user_tz": 480
    },
    "id": "wgGVZruE-_Ep",
    "outputId": "af36fa56-c351-49bd-a695-8cb75d0909c5"
   },
   "outputs": [
    {
     "data": {
      "text/plain": [
       "<matplotlib.legend.Legend at 0x11d624cf8>"
      ]
     },
     "execution_count": 90,
     "metadata": {},
     "output_type": "execute_result"
    },
    {
     "data": {
      "image/png": "[encoded data removed]",
      "text/plain": [
       "<matplotlib.figure.Figure at 0x11d624a90>"
      ]
     },
     "metadata": {},
     "output_type": "display_data"
    }
   ],
   "source": [
    "def plot_by_species(species, x, y):\n",
    "    plt.scatter(x=iris.loc[iris['species'] == species, x],\n",
    "             y=iris.loc[iris['species'] == species, y],\n",
    "             label=species)\n",
    "\n",
    "for species in iris['species'].unique():\n",
    "    plot_by_species(species, 'sepal_length', 'sepal_width')\n",
    "\n",
    "plt.xlabel('Sepal Length (cm)')\n",
    "plt.ylabel('Sepal Width (cm)')\n",
    "plt.title('Sepal Length vs Sepal Width (by Species)')\n",
    "plt.legend()"
   ]
  },
  {
   "cell_type": "markdown",
   "metadata": {
    "colab_type": "text",
    "id": "-uBJD0Jfe0ia"
   },
   "source": [
    "# <font id=\"4\" color=\"blue\"> Seaborn</font>"
   ]
  },
  {
   "cell_type": "markdown",
   "metadata": {
    "colab_type": "text",
    "id": "6514TXVBEI5h"
   },
   "source": [
    "## Histogram\n",
    "Back to the tips dataset to explore seaborn! First off is seaborn's take on the histogram, [`sns.distplot()`](https://seaborn.pydata.org/generated/seaborn.distplot.html#seaborn.distplot). By default, it shows a relative distribution and overlays a *kernel density estimator*; if you would like seaborn to just show a plain histogram, you can add the argument `kde=False`."
   ]
  },
  {
   "cell_type": "code",
   "execution_count": 91,
   "metadata": {
    "colab": {
     "autoexec": {
      "startup": false,
      "wait_interval": 0
     },
     "base_uri": "https://localhost:8080/",
     "height": 623,
     "output_extras": [
      {},
      {}
     ]
    },
    "colab_type": "code",
    "executionInfo": {
     "elapsed": 660,
     "status": "ok",
     "timestamp": 1519715412123,
     "user": {
      "displayName": "Jun Seo Park",
      "photoUrl": "//lh6.googleusercontent.com/-KIeDOii6NOY/AAAAAAAAAAI/AAAAAAAAAA4/BO9dUEBtd8E/s50-c-k-no/photo.jpg",
      "userId": "116991900080281348598"
     },
     "user_tz": 480
    },
    "id": "Dn-eM_Cpe0iV",
    "outputId": "a824e9e1-9570-47d3-9aae-873e1a79abe4"
   },
   "outputs": [
    {
     "data": {
      "text/plain": [
       "<matplotlib.axes._subplots.AxesSubplot at 0x1227d54e0>"
      ]
     },
     "execution_count": 91,
     "metadata": {},
     "output_type": "execute_result"
    },
    {
     "data": {
      "image/png": "[encoded data removed]",
      "text/plain": [
       "<matplotlib.figure.Figure at 0x11d6a6da0>"
      ]
     },
     "metadata": {},
     "output_type": "display_data"
    }
   ],
   "source": [
    "sns.set()\n",
    "\n",
    "plt.figure(figsize=(15, 10))\n",
    "plt.subplot(1, 2, 1)\n",
    "sns.distplot(tips['total_bill'])\n",
    "\n",
    "plt.subplot(1, 2, 2)\n",
    "sns.distplot(tips['total_bill'], kde=False)"
   ]
  },
  {
   "cell_type": "markdown",
   "metadata": {
    "colab_type": "text",
    "id": "fRBkrWzVFTu-"
   },
   "source": [
    "## Scatterplot\n",
    "To create a scatterplot using seaborn, you can use [`sns.lmplot()`](https://seaborn.pydata.org/generated/seaborn.lmplot.html#seaborn.lmplot). It'll take x-values and y-values, and overlay a least-squares regression line and standard deviation\n",
    "\n",
    "Note: You can use pandas indexing, but check out the fancy ability to refer to columns by their names instead."
   ]
  },
  {
   "cell_type": "code",
   "execution_count": 92,
   "metadata": {
    "colab": {
     "autoexec": {
      "startup": false,
      "wait_interval": 0
     },
     "base_uri": "https://localhost:8080/",
     "height": 386,
     "output_extras": [
      {},
      {}
     ]
    },
    "colab_type": "code",
    "executionInfo": {
     "elapsed": 596,
     "status": "ok",
     "timestamp": 1519714007248,
     "user": {
      "displayName": "Jun Seo Park",
      "photoUrl": "//lh6.googleusercontent.com/-KIeDOii6NOY/AAAAAAAAAAI/AAAAAAAAAA4/BO9dUEBtd8E/s50-c-k-no/photo.jpg",
      "userId": "116991900080281348598"
     },
     "user_tz": 480
    },
    "id": "sXgkjX8te0ib",
    "outputId": "9ba6dc1e-16b4-4f77-f9c9-b219c056180d"
   },
   "outputs": [
    {
     "data": {
      "text/plain": [
       "<seaborn.axisgrid.FacetGrid at 0x11bf87cc0>"
      ]
     },
     "execution_count": 92,
     "metadata": {},
     "output_type": "execute_result"
    },
    {
     "data": {
      "image/png": "[encoded data removed]",
      "text/plain": [
       "<matplotlib.figure.Figure at 0x11bfe3ef0>"
      ]
     },
     "metadata": {},
     "output_type": "display_data"
    }
   ],
   "source": [
    "sns.lmplot(x='total_bill', y='tip', data=tips)"
   ]
  },
  {
   "cell_type": "markdown",
   "metadata": {
    "colab_type": "text",
    "id": "ZW4r1erLGgzc"
   },
   "source": [
    "Let's do that same plot from earlier, where we faceted by smoker. It's a lot easier in seaborn, since we only need to pass in an additional argument of `hue`:"
   ]
  },
  {
   "cell_type": "code",
   "execution_count": 93,
   "metadata": {
    "colab": {
     "autoexec": {
      "startup": false,
      "wait_interval": 0
     },
     "base_uri": "https://localhost:8080/",
     "height": 386,
     "output_extras": [
      {},
      {}
     ]
    },
    "colab_type": "code",
    "executionInfo": {
     "elapsed": 657,
     "status": "ok",
     "timestamp": 1519715563076,
     "user": {
      "displayName": "Jun Seo Park",
      "photoUrl": "//lh6.googleusercontent.com/-KIeDOii6NOY/AAAAAAAAAAI/AAAAAAAAAA4/BO9dUEBtd8E/s50-c-k-no/photo.jpg",
      "userId": "116991900080281348598"
     },
     "user_tz": 480
    },
    "id": "MoLshOpxGr02",
    "outputId": "f0f0ba4e-5c3d-4412-cf2b-24f86417bf95"
   },
   "outputs": [
    {
     "data": {
      "text/plain": [
       "<seaborn.axisgrid.FacetGrid at 0x1229b72b0>"
      ]
     },
     "execution_count": 93,
     "metadata": {},
     "output_type": "execute_result"
    },
    {
     "data": {
      "image/png": "[encoded data removed]",
      "text/plain": [
       "<matplotlib.figure.Figure at 0x1229ac2b0>"
      ]
     },
     "metadata": {},
     "output_type": "display_data"
    }
   ],
   "source": [
    "sns.lmplot(x='total_bill', y='tip', hue='smoker', data=tips)"
   ]
  },
  {
   "cell_type": "markdown",
   "metadata": {
    "colab_type": "text",
    "id": "HgznnaQdG304"
   },
   "source": [
    "Cool. Do smokers' and non-smokers' generosities differ by day of the week? Let's try out the `row` and `col` (column) arguments:"
   ]
  },
  {
   "cell_type": "code",
   "execution_count": 94,
   "metadata": {
    "colab": {
     "autoexec": {
      "startup": false,
      "wait_interval": 0
     },
     "base_uri": "https://localhost:8080/",
     "height": 746,
     "output_extras": [
      {},
      {}
     ]
    },
    "colab_type": "code",
    "executionInfo": {
     "elapsed": 1264,
     "status": "ok",
     "timestamp": 1519715951214,
     "user": {
      "displayName": "Jun Seo Park",
      "photoUrl": "//lh6.googleusercontent.com/-KIeDOii6NOY/AAAAAAAAAAI/AAAAAAAAAA4/BO9dUEBtd8E/s50-c-k-no/photo.jpg",
      "userId": "116991900080281348598"
     },
     "user_tz": 480
    },
    "id": "Kv62tNvEHjKa",
    "outputId": "6adbe1a8-f1fd-4038-877e-d4f2958a2daf"
   },
   "outputs": [
    {
     "data": {
      "text/plain": [
       "<seaborn.axisgrid.FacetGrid at 0x12296dfd0>"
      ]
     },
     "execution_count": 94,
     "metadata": {},
     "output_type": "execute_result"
    },
    {
     "data": {
      "image/png": "[encoded data removed]",
      "text/plain": [
       "<matplotlib.figure.Figure at 0x1229fd828>"
      ]
     },
     "metadata": {},
     "output_type": "display_data"
    }
   ],
   "source": [
    "sns.lmplot(x='total_bill', y='tip', row='time', col='smoker', data=tips)"
   ]
  },
  {
   "cell_type": "markdown",
   "metadata": {
    "colab_type": "text",
    "id": "KGl6dImrIk37"
   },
   "source": [
    "## Seaborn Exercises\n",
    "<font color=\"blue\">Exercise:</font> Your turn! Create a histogram of the petal widths in the `iris` dataset."
   ]
  },
  {
   "cell_type": "code",
   "execution_count": 95,
   "metadata": {
    "colab": {
     "autoexec": {
      "startup": false,
      "wait_interval": 0
     },
     "base_uri": "https://localhost:8080/",
     "height": 296,
     "output_extras": [
      {},
      {}
     ]
    },
    "colab_type": "code",
    "executionInfo": {
     "elapsed": 415,
     "status": "ok",
     "timestamp": 1519716979241,
     "user": {
      "displayName": "Jun Seo Park",
      "photoUrl": "//lh6.googleusercontent.com/-KIeDOii6NOY/AAAAAAAAAAI/AAAAAAAAAA4/BO9dUEBtd8E/s50-c-k-no/photo.jpg",
      "userId": "116991900080281348598"
     },
     "user_tz": 480
    },
    "id": "Appp7qlrIzyt",
    "outputId": "093a6325-6831-4957-9822-585d954dc82d"
   },
   "outputs": [
    {
     "data": {
      "text/plain": [
       "<matplotlib.axes._subplots.AxesSubplot at 0x122c63b00>"
      ]
     },
     "execution_count": 95,
     "metadata": {},
     "output_type": "execute_result"
    },
    {
     "data": {
      "image/png": "[encoded data removed]",
      "text/plain": [
       "<matplotlib.figure.Figure at 0x11c776d30>"
      ]
     },
     "metadata": {},
     "output_type": "display_data"
    }
   ],
   "source": [
    "sns.distplot(iris['petal_width'], bins=np.linspace(0, 3, 20))"
   ]
  },
  {
   "cell_type": "markdown",
   "metadata": {
    "colab_type": "text",
    "id": "zl6mXmQuJCdE"
   },
   "source": [
    "<font color=\"blue\">Exercise:</font> Now try to create a scatterplot of petal lengths versus petal widths, and color the points based on the species of flowers. Feel free to turn off the regression line using `fit_reg=False`."
   ]
  },
  {
   "cell_type": "code",
   "execution_count": 96,
   "metadata": {
    "colab": {
     "autoexec": {
      "startup": false,
      "wait_interval": 0
     },
     "base_uri": "https://localhost:8080/",
     "height": 386,
     "output_extras": [
      {},
      {}
     ]
    },
    "colab_type": "code",
    "executionInfo": {
     "elapsed": 519,
     "status": "ok",
     "timestamp": 1519717519384,
     "user": {
      "displayName": "Jun Seo Park",
      "photoUrl": "//lh6.googleusercontent.com/-KIeDOii6NOY/AAAAAAAAAAI/AAAAAAAAAA4/BO9dUEBtd8E/s50-c-k-no/photo.jpg",
      "userId": "116991900080281348598"
     },
     "user_tz": 480
    },
    "id": "BYIBYEW_JP3B",
    "outputId": "6a5eae3d-c748-44e6-eddc-fb64c989b816"
   },
   "outputs": [
    {
     "data": {
      "text/plain": [
       "<seaborn.axisgrid.FacetGrid at 0x1231cc4e0>"
      ]
     },
     "execution_count": 96,
     "metadata": {},
     "output_type": "execute_result"
    },
    {
     "data": {
      "image/png": "[encoded data removed]",
      "text/plain": [
       "<matplotlib.figure.Figure at 0x1231cc1d0>"
      ]
     },
     "metadata": {},
     "output_type": "display_data"
    }
   ],
   "source": [
    "sns.lmplot(x='petal_length', y='petal_width', hue='species', data=iris, fit_reg=False)"
   ]
  },
  {
   "cell_type": "markdown",
   "metadata": {
    "colab_type": "text",
    "id": "Wn-pFnIV2f2H"
   },
   "source": [
    "That's the end of our workshop.\n",
    "\n",
    "We hope you learned something. Keep this notebook handy for reference later!\n",
    "\n",
    "## Hope to see you at our workshop next week: Python Modeling\n",
    "\n",
    "<img width=\"120\" src=\"https://dss.berkeley.edu/static/img/logo.jpg\"/>"
   ]
  }
 ],
 "metadata": {
  "colab": {
   "default_view": {},
   "name": "Python_Libraries_Master.ipynb",
   "provenance": [],
   "version": "0.3.2",
   "views": {}
  },
  "kernelspec": {
   "display_name": "Python 3",
   "language": "python",
   "name": "python3"
  },
  "language_info": {
   "codemirror_mode": {
    "name": "ipython",
    "version": 3
   },
   "file_extension": ".py",
   "mimetype": "text/x-python",
   "name": "python",
   "nbconvert_exporter": "python",
   "pygments_lexer": "ipython3",
   "version": "3.6.1"
  }
 },
 "nbformat": 4,
 "nbformat_minor": 1
}
